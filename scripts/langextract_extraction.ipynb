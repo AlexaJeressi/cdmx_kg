{
  "cells": [
    {
      "cell_type": "markdown",
      "metadata": {},
      "source": [
        "# Entity and Article Extraction using LangExtract\n",
        "\n",
        "This notebook uses LangExtract library to extract government entities and legal article mentions from Mexico City legal documents.\n",
        "\n",
        "LangExtract provides structured data extraction with built-in validation and type safety.\n"
      ]
    },
    {
      "cell_type": "code",
      "execution_count": null,
      "metadata": {},
      "outputs": [],
      "source": [
        "# Install required packages\n",
        "%pip install langextract python-dotenv pandas openpyxl\n"
      ]
    },
    {
      "cell_type": "code",
      "execution_count": 1,
      "metadata": {},
      "outputs": [
        {
          "name": "stdout",
          "output_type": "stream",
          "text": [
            "✅ LangExtract configured with OpenAI API key\n"
          ]
        }
      ],
      "source": [
        "import os\n",
        "from dotenv import load_dotenv\n",
        "import pandas as pd\n",
        "import langextract as lx\n",
        "import time\n",
        "import re\n",
        "\n",
        "# Load environment variables\n",
        "load_dotenv()\n",
        "\n",
        "# Set OpenAI API key\n",
        "os.environ[\"OPENAI_API_KEY\"] = os.getenv(\"OPENAI_API_KEY\")\n",
        "\n",
        "print(\"✅ LangExtract configured with OpenAI API key\")\n"
      ]
    },
    {
      "cell_type": "code",
      "execution_count": 2,
      "metadata": {},
      "outputs": [
        {
          "name": "stdout",
          "output_type": "stream",
          "text": [
            "✅ Test extraction completed\n",
            "Result type: <class 'langextract.core.data.AnnotatedDocument'>\n",
            "Result length: No length\n",
            "First result type: <class 'langextract.core.data.AnnotatedDocument'>\n",
            "First result attributes: ['__annotations__', '__class__', '__dataclass_fields__', '__dataclass_params__', '__delattr__', '__dict__', '__dir__', '__doc__', '__eq__', '__format__', '__ge__', '__getattribute__', '__gt__', '__hash__', '__init__', '__init_subclass__', '__le__', '__lt__', '__match_args__', '__module__', '__ne__', '__new__', '__reduce__', '__reduce_ex__', '__repr__', '__setattr__', '__sizeof__', '__str__', '__subclasshook__', '__weakref__', '_document_id', '_tokenized_text', 'document_id', 'extractions', 'text', 'tokenized_text']\n",
            "Extractions found: 5\n",
            "  1. Class: fruit, Text: oranges\n",
            "  2. Class: fruit, Text: grapes\n",
            "  3. Class: fruit, Text: strawberries\n"
          ]
        }
      ],
      "source": [
        "# Test LangExtract connection and understand the output format\n",
        "test_examples = [\n",
        "    lx.data.ExampleData(\n",
        "        text=\"I love apples and bananas from the market.\",\n",
        "        extractions=[\n",
        "            lx.data.Extraction(extraction_class=\"fruit\", extraction_text=\"apples\"),\n",
        "            lx.data.Extraction(extraction_class=\"fruit\", extraction_text=\"bananas\")\n",
        "        ]\n",
        "    )\n",
        "]\n",
        "\n",
        "test_result = lx.extract(\n",
        "    text_or_documents=\"Give me 5 random fruits: oranges, grapes, strawberries, mangoes, pineapples\",\n",
        "    prompt_description=\"Extract fruit names from text\",\n",
        "    examples=test_examples,\n",
        "    model_id=\"gpt-4o-mini\",\n",
        "    api_key=os.environ.get('OPENAI_API_KEY'),\n",
        "    fence_output=True,\n",
        "    use_schema_constraints=False\n",
        ")\n",
        "\n",
        "print(\"✅ Test extraction completed\")\n",
        "print(\"Result type:\", type(test_result))\n",
        "print(\"Result length:\", len(test_result) if hasattr(test_result, '__len__') else \"No length\")\n",
        "\n",
        "# Inspect the first result to understand its structure\n",
        "if test_result:\n",
        "    first_result = test_result[0] if hasattr(test_result, '__getitem__') else test_result\n",
        "    print(\"First result type:\", type(first_result))\n",
        "    print(\"First result attributes:\", dir(first_result) if hasattr(first_result, '__dict__') else \"No attributes\")\n",
        "    \n",
        "    # Try to access the result properly\n",
        "    if hasattr(first_result, 'extractions'):\n",
        "        print(\"Extractions found:\", len(first_result.extractions))\n",
        "        for i, extraction in enumerate(first_result.extractions[:3]):\n",
        "            print(f\"  {i+1}. Class: {extraction.extraction_class}, Text: {extraction.extraction_text}\")\n",
        "    elif hasattr(first_result, 'text'):\n",
        "        print(\"Text content:\", first_result.text[:100] + \"...\" if len(first_result.text) > 100 else first_result.text)\n"
      ]
    },
    {
      "cell_type": "code",
      "execution_count": 2,
      "metadata": {},
      "outputs": [
        {
          "name": "stdout",
          "output_type": "stream",
          "text": [
            "Loaded 332 rows\n",
            "              row_id      doc_hash                         document_name  \\\n",
            "0  12406E12_ARTCULO1  1.240600e+16  LEY AMBIENTAL DE LA CIUDAD DE MÉXICO   \n",
            "1  12406E12_ARTCULO2  1.240600e+16  LEY AMBIENTAL DE LA CIUDAD DE MÉXICO   \n",
            "2  12406E12_ARTCULO3  1.240600e+16  LEY AMBIENTAL DE LA CIUDAD DE MÉXICO   \n",
            "3  12406E12_ARTCULO4  1.240600e+16  LEY AMBIENTAL DE LA CIUDAD DE MÉXICO   \n",
            "4  12406E12_ARTCULO5  1.240600e+16  LEY AMBIENTAL DE LA CIUDAD DE MÉXICO   \n",
            "\n",
            "  document_section_title                                               text  \n",
            "0             Artículo 1  º.- La presente Ley es reglamentaria de las di...  \n",
            "1             Artículo 2  º.- Se consideran de utilidad pública:\\n\\nI. E...  \n",
            "2             Artículo 3  º.- En todo lo no previsto en la presente Ley,...  \n",
            "3             Artículo 4  º.- Para los efectos de esta Ley, se utilizará...  \n",
            "4             Artículo 5  º.- Son autoridades en materia ambiental en la...  \n"
          ]
        }
      ],
      "source": [
        "# Load the Excel file\n",
        "df = pd.read_excel(\"/Users/alexa/Projects/cdmx_kg/Mexico_City/LEY_AMBIENTAL_DE_LA_CIUDAD_DE_MEXICO.xlsx\")\n",
        "df = df[['row_id','doc_hash','document_name', 'document_section_title', 'text']]\n",
        "print(f\"Loaded {len(df)} rows\")\n",
        "print(df.head())\n"
      ]
    },
    {
      "cell_type": "code",
      "execution_count": 3,
      "metadata": {},
      "outputs": [
        {
          "name": "stdout",
          "output_type": "stream",
          "text": [
            "✅ Improved LangExtract examples defined with better text alignment\n"
          ]
        }
      ],
      "source": [
        "# Examples for government entity extraction - based on real legal document patterns\n",
        "gov_entity_examples = [\n",
        "    lx.data.ExampleData(\n",
        "        text=\"Son autoridades en materia ambiental en la Ciudad de México: I. La Jefatura de Gobierno; II. La Secretaría del Medio Ambiente;\",\n",
        "        extractions=[\n",
        "            lx.data.Extraction(extraction_class=\"entity\", extraction_text=\"Jefatura de Gobierno\"),\n",
        "            lx.data.Extraction(extraction_class=\"entity\", extraction_text=\"Secretaría del Medio Ambiente\")\n",
        "        ]\n",
        "    ),\n",
        "    lx.data.ExampleData(\n",
        "        text=\"La aplicación de esta Ley corresponde al Gobierno de la Ciudad de México, a través de la Secretaría y las Alcaldías.\",\n",
        "        extractions=[\n",
        "            lx.data.Extraction(extraction_class=\"entity\", extraction_text=\"Gobierno de la Ciudad de México\"),\n",
        "            lx.data.Extraction(extraction_class=\"entity\", extraction_text=\"Secretaría\"),\n",
        "            lx.data.Extraction(extraction_class=\"entity\", extraction_text=\"Alcaldías\")\n",
        "        ]\n",
        "    ),\n",
        "    lx.data.ExampleData(\n",
        "        text=\"El Tribunal Superior de Justicia de la Ciudad de México y la Procuraduría General de Justicia tendrán competencia.\",\n",
        "        extractions=[\n",
        "            lx.data.Extraction(extraction_class=\"entity\", extraction_text=\"Tribunal Superior de Justicia de la Ciudad de México\"),\n",
        "            lx.data.Extraction(extraction_class=\"entity\", extraction_text=\"Procuraduría General de Justicia\")\n",
        "        ]\n",
        "    ),\n",
        "    lx.data.ExampleData(\n",
        "        text=\"La Comisión Ambiental Metropolitana y el Instituto de Verificación Administrativa de la Ciudad de México colaborarán.\",\n",
        "        extractions=[\n",
        "            lx.data.Extraction(extraction_class=\"entity\", extraction_text=\"Comisión Ambiental Metropolitana\"),\n",
        "            lx.data.Extraction(extraction_class=\"entity\", extraction_text=\"Instituto de Verificación Administrativa de la Ciudad de México\")\n",
        "        ]\n",
        "    ),\n",
        "    lx.data.ExampleData(\n",
        "        text=\"SEDEMA coordinará con las alcaldías y la Procuraduría Ambiental y del Ordenamiento Territorial (PAOT).\",\n",
        "        extractions=[\n",
        "            lx.data.Extraction(extraction_class=\"entity\", extraction_text=\"SEDEMA\"),\n",
        "            lx.data.Extraction(extraction_class=\"entity\", extraction_text=\"alcaldías\"),\n",
        "            lx.data.Extraction(extraction_class=\"entity\", extraction_text=\"Procuraduría Ambiental y del Ordenamiento Territorial\"),\n",
        "            lx.data.Extraction(extraction_class=\"entity\", extraction_text=\"PAOT\")\n",
        "        ]\n",
        "    ),\n",
        "    lx.data.ExampleData(\n",
        "        text=\"La Universidad Autónoma de la Ciudad de México (UACM) y la Secretaría de Educación participarán en programas ambientales.\",\n",
        "        extractions=[\n",
        "            lx.data.Extraction(extraction_class=\"entity\", extraction_text=\"Universidad Autónoma de la Ciudad de México\"),\n",
        "            lx.data.Extraction(extraction_class=\"entity\", extraction_text=\"UACM\"),\n",
        "            lx.data.Extraction(extraction_class=\"entity\", extraction_text=\"Secretaría de Educación\")\n",
        "        ]\n",
        "    )\n",
        "]\n",
        "\n",
        "# Examples for article mention extraction - based on real legal document patterns\n",
        "article_mention_examples = [\n",
        "    lx.data.ExampleData(\n",
        "        text=\"La presente Ley es reglamentaria de las disposiciones contenidas en el Apartado A del artículo 13 de la Constitución Política de la Ciudad de México\",\n",
        "        extractions=[\n",
        "            lx.data.Extraction(extraction_class=\"mention\", extraction_text=\"artículo 13 de la Constitución Política de la Ciudad de México\"),\n",
        "            lx.data.Extraction(extraction_class=\"mention\", extraction_text=\"la presente Ley\")\n",
        "        ]\n",
        "    ),\n",
        "    lx.data.ExampleData(\n",
        "        text=\"En todo lo no previsto en la presente Ley, se aplicará supletoriamente la Ley de Procedimiento Administrativo de la Ciudad de México\",\n",
        "        extractions=[\n",
        "            lx.data.Extraction(extraction_class=\"mention\", extraction_text=\"la presente Ley\"),\n",
        "            lx.data.Extraction(extraction_class=\"mention\", extraction_text=\"la Ley de Procedimiento Administrativo de la Ciudad de México\")\n",
        "        ]\n",
        "    ),\n",
        "    lx.data.ExampleData(\n",
        "        text=\"De conformidad con lo establecido en el artículo 4º de la Constitución Política de los Estados Unidos Mexicanos\",\n",
        "        extractions=[\n",
        "            lx.data.Extraction(extraction_class=\"mention\", extraction_text=\"artículo 4º de la Constitución Política de los Estados Unidos Mexicanos\")\n",
        "        ]\n",
        "    ),\n",
        "    lx.data.ExampleData(\n",
        "        text=\"Para los efectos de esta Ley se aplicarán las disposiciones del Código Civil para el Distrito Federal\",\n",
        "        extractions=[\n",
        "            lx.data.Extraction(extraction_class=\"mention\", extraction_text=\"esta Ley\"),\n",
        "            lx.data.Extraction(extraction_class=\"mention\", extraction_text=\"del Código Civil para el Distrito Federal\")\n",
        "        ]\n",
        "    ),\n",
        "    lx.data.ExampleData(\n",
        "        text=\"Las sanciones previstas en los artículos 237 y 238 del Código Penal para el Distrito Federal serán aplicables\",\n",
        "        extractions=[\n",
        "            lx.data.Extraction(extraction_class=\"mention\", extraction_text=\"artículos 237 y 238 del Código Penal para el Distrito Federal\")\n",
        "        ]\n",
        "    ),\n",
        "    lx.data.ExampleData(\n",
        "        text=\"El reglamento de esta Ley establecerá los procedimientos específicos conforme al artículo 89 fracción I\",\n",
        "        extractions=[\n",
        "            lx.data.Extraction(extraction_class=\"mention\", extraction_text=\"reglamento de esta Ley\"),\n",
        "            lx.data.Extraction(extraction_class=\"mention\", extraction_text=\"artículo 89 fracción I\")\n",
        "        ]\n",
        "    ),\n",
        "    lx.data.ExampleData(\n",
        "        text=\"Los lineamientos que establezca el reglamento de la presente Ley deberán considerar los criterios técnicos\",\n",
        "        extractions=[\n",
        "            lx.data.Extraction(extraction_class=\"mention\", extraction_text=\"el reglamento de la presente Ley\"),\n",
        "            lx.data.Extraction(extraction_class=\"mention\", extraction_text=\"la presente Ley\")\n",
        "        ]\n",
        "    ),\n",
        "    lx.data.ExampleData(\n",
        "        text=\"Los criterios técnicos y metodológicos se establecerán conforme a las normas oficiales mexicanas que expida la Secretaría\",\n",
        "        extractions=[\n",
        "            lx.data.Extraction(extraction_class=\"mention\", extraction_text=\"normas oficiales mexicanas\")\n",
        "        ]\n",
        "    )\n",
        "]\n",
        "\n",
        "print(\"✅ Improved LangExtract examples defined with better text alignment\")\n",
        "\n",
        "\n"
      ]
    },
    {
      "cell_type": "code",
      "execution_count": 4,
      "metadata": {},
      "outputs": [
        {
          "name": "stdout",
          "output_type": "stream",
          "text": [
            "✅ Extraction functions defined with individual row processing\n"
          ]
        }
      ],
      "source": [
        "# Define extraction functions using LangExtract\n",
        "\n",
        "def extract_government_entities(batch_df):\n",
        "    \"\"\"Extract government entities from a batch of documents using LangExtract\"\"\"\n",
        "    \n",
        "    entities = []\n",
        "    \n",
        "    # Process each row individually for better tracking\n",
        "    for row in batch_df.itertuples():\n",
        "        try:\n",
        "            # Use LangExtract to extract entities\n",
        "            result = lx.extract(\n",
        "                text_or_documents=row.text,\n",
        "                prompt_description=\"Extract ALL government entities, institutions, and legal bodies mentioned in this text. Include Secretarías, Alcaldías, Institutos, Tribunales, Consejos, Comisiones, Universities, Procuradurías, and any other government organizations.\",\n",
        "                examples=gov_entity_examples,\n",
        "                model_id=\"gpt-4o-mini\",\n",
        "                api_key=os.environ.get('OPENAI_API_KEY'),\n",
        "                fence_output=True,\n",
        "                use_schema_constraints=False\n",
        "            )\n",
        "            \n",
        "            # Handle single AnnotatedDocument result\n",
        "            if result:\n",
        "                if hasattr(result, 'extractions'):\n",
        "                    for extraction in result.extractions:\n",
        "                        if hasattr(extraction, 'extraction_text'):\n",
        "                            entities.append({\n",
        "                                'row_id': row.row_id,\n",
        "                                'mention': extraction.extraction_text,\n",
        "                                'entity_type': None  # We'll classify later if needed\n",
        "                            })\n",
        "                elif hasattr(result, 'extraction_text'):\n",
        "                    # Direct extraction object\n",
        "                    entities.append({\n",
        "                        'row_id': row.row_id,\n",
        "                        'mention': result.extraction_text,\n",
        "                        'entity_type': None\n",
        "                    })\n",
        "        \n",
        "        except Exception as e:\n",
        "            print(f\"Error extracting entities for row {row.row_id}: {e}\")\n",
        "            continue\n",
        "    \n",
        "    return entities\n",
        "\n",
        "def extract_article_mentions(batch_df):\n",
        "    \"\"\"Extract article mentions from a batch of documents using LangExtract\"\"\"\n",
        "    \n",
        "    mentions = []\n",
        "    \n",
        "    # Get the current law name for self-references\n",
        "    current_law = batch_df.iloc[0]['document_name'] if len(batch_df) > 0 else \"LEY AMBIENTAL DE LA CIUDAD DE MÉXICO\"\n",
        "    \n",
        "    # Process each row individually for better tracking\n",
        "    for row in batch_df.itertuples():\n",
        "        try:\n",
        "            # Use LangExtract to extract article mentions\n",
        "            result = lx.extract(\n",
        "                text_or_documents=row.text,\n",
        "                prompt_description=f\"Extract ALL legal references from this Mexican legal text. Include article numbers, law names, constitutional references, codes, regulations, decrees, and treaties. For self-references like 'esta Ley' or 'la presente Ley', consider it as referring to: {current_law}\",\n",
        "                examples=article_mention_examples,\n",
        "                model_id=\"gpt-4o-mini\",\n",
        "                api_key=os.environ.get('OPENAI_API_KEY'),\n",
        "                fence_output=True,\n",
        "                use_schema_constraints=False\n",
        "            )\n",
        "            \n",
        "            # Handle single AnnotatedDocument result\n",
        "            if result:\n",
        "                if hasattr(result, 'extractions'):\n",
        "                    for extraction in result.extractions:\n",
        "                        if hasattr(extraction, 'extraction_text'):\n",
        "                            # Parse the extracted text to identify components\n",
        "                            mention_text = extraction.extraction_text\n",
        "                            \n",
        "                            # Try to extract article number and law name from the mention\n",
        "                            art_num = None\n",
        "                            law_name = None\n",
        "                            \n",
        "                            # Handle regulation self-references\n",
        "                            if \"reglamento de esta ley\" in mention_text.lower():\n",
        "                                law_name = f\"REGLAMENTO DE LA {current_law}\"\n",
        "                                processed_mention = mention_text\n",
        "                            elif \"reglamento de la presente ley\" in mention_text.lower():\n",
        "                                law_name = f\"REGLAMENTO DE LA {current_law}\"\n",
        "                                processed_mention = mention_text\n",
        "                            elif \"esta ley\" in mention_text.lower() or \"presente ley\" in mention_text.lower():\n",
        "                                law_name = current_law\n",
        "                                processed_mention = mention_text\n",
        "                            else:\n",
        "                            # Extract article number if present\n",
        "                            \n",
        "                                art_match = re.search(r'artículo[s]?\\s+(\\d+)', mention_text.lower())\n",
        "                            if art_match:\n",
        "                                art_num = art_match.group(1)\n",
        "\n",
        "\n",
        "                            # Simple parsing logic for common patterns\n",
        "                            if \"artículo\" in mention_text.lower():\n",
        "                                # Try to extract article number\n",
        "                            \n",
        "                                art_match = re.search(r'artículo\\s+(\\d+)', mention_text.lower())\n",
        "                                if art_match:\n",
        "                                    art_num = art_match.group(1)\n",
        "                            \n",
        "                            # Extract law name (everything after \"de la\", \"del\", etc.)\n",
        "                            if \"constitución\" in mention_text.lower():\n",
        "                                law_name = \"CONSTITUCIÓN POLÍTICA DE LA CIUDAD DE MÉXICO\"\n",
        "                            elif \"código civil\" in mention_text.lower():\n",
        "                                law_name = \"CÓDIGO CIVIL\"\n",
        "                            elif \"esta ley\" in mention_text.lower() or \"presente ley\" in mention_text.lower():\n",
        "                                law_name = current_law\n",
        "                            else:\n",
        "                                law_name = mention_text  # Use the full mention as law name\n",
        "                            \n",
        "                            mentions.append({\n",
        "                                'row_id': row.row_id,\n",
        "                                'art_num': art_num,\n",
        "                                'law_name': law_name or mention_text,\n",
        "                                'mention_extraction': mention_text\n",
        "                            })\n",
        "                elif hasattr(result, 'extraction_text'):\n",
        "                    # Direct extraction object\n",
        "                    mentions.append({\n",
        "                        'row_id': row.row_id,\n",
        "                        'art_num': None,\n",
        "                        'law_name': result.extraction_text,\n",
        "                        'mention_extraction': result.extraction_text\n",
        "                    })\n",
        "        \n",
        "        except Exception as e:\n",
        "            print(f\"Error extracting mentions for row {row.row_id}: {e}\")\n",
        "            continue\n",
        "    \n",
        "    return mentions\n",
        "\n",
        "print(\"✅ Extraction functions defined with individual row processing\")\n"
      ]
    },
    {
      "cell_type": "code",
      "execution_count": 5,
      "metadata": {},
      "outputs": [
        {
          "name": "stdout",
          "output_type": "stream",
          "text": [
            "Processing 332 articles in 111 batches...\n",
            "Batch size: 3\n",
            "\n",
            "Processing batch 1/111 (articles 1-3)\n",
            "  → Extracting government entities...\n"
          ]
        },
        {
          "name": "stderr",
          "output_type": "stream",
          "text": [
            "WARNING:absl:Prompt alignment: non-exact match: [example#0] class='mention' status=AlignmentStatus.MATCH_FUZZY text='la presente Ley' char_span=(0, 15)\n",
            "WARNING:absl:Prompt alignment: non-exact match: [example#6] class='mention' status=AlignmentStatus.MATCH_FUZZY text='la presente Ley' char_span=(49, 64)\n"
          ]
        },
        {
          "name": "stdout",
          "output_type": "stream",
          "text": [
            "    Found 0 entities\n",
            "  → Extracting article mentions...\n"
          ]
        },
        {
          "name": "stderr",
          "output_type": "stream",
          "text": [
            "WARNING:absl:Prompt alignment: non-exact match: [example#0] class='mention' status=AlignmentStatus.MATCH_FUZZY text='la presente Ley' char_span=(0, 15)\n",
            "WARNING:absl:Prompt alignment: non-exact match: [example#6] class='mention' status=AlignmentStatus.MATCH_FUZZY text='la presente Ley' char_span=(49, 64)\n",
            "WARNING:absl:Prompt alignment: non-exact match: [example#0] class='mention' status=AlignmentStatus.MATCH_FUZZY text='la presente Ley' char_span=(0, 15)\n",
            "WARNING:absl:Prompt alignment: non-exact match: [example#6] class='mention' status=AlignmentStatus.MATCH_FUZZY text='la presente Ley' char_span=(49, 64)\n"
          ]
        },
        {
          "name": "stdout",
          "output_type": "stream",
          "text": [
            "    Found 9 mentions\n",
            "\n",
            "Processing batch 2/111 (articles 4-6)\n",
            "  → Extracting government entities...\n"
          ]
        },
        {
          "name": "stderr",
          "output_type": "stream",
          "text": [
            "WARNING:absl:Prompt alignment: non-exact match: [example#0] class='mention' status=AlignmentStatus.MATCH_FUZZY text='la presente Ley' char_span=(0, 15)\n",
            "WARNING:absl:Prompt alignment: non-exact match: [example#6] class='mention' status=AlignmentStatus.MATCH_FUZZY text='la presente Ley' char_span=(49, 64)\n"
          ]
        },
        {
          "name": "stdout",
          "output_type": "stream",
          "text": [
            "    Found 30 entities\n",
            "  → Extracting article mentions...\n"
          ]
        },
        {
          "name": "stderr",
          "output_type": "stream",
          "text": [
            "WARNING:absl:Prompt alignment: non-exact match: [example#0] class='mention' status=AlignmentStatus.MATCH_FUZZY text='la presente Ley' char_span=(0, 15)\n",
            "WARNING:absl:Prompt alignment: non-exact match: [example#6] class='mention' status=AlignmentStatus.MATCH_FUZZY text='la presente Ley' char_span=(49, 64)\n"
          ]
        },
        {
          "name": "stdout",
          "output_type": "stream",
          "text": [
            "Error extracting mentions for row 12406E12_ARTCULO4: local variable 'art_match' referenced before assignment\n"
          ]
        },
        {
          "name": "stderr",
          "output_type": "stream",
          "text": [
            "WARNING:absl:Prompt alignment: non-exact match: [example#0] class='mention' status=AlignmentStatus.MATCH_FUZZY text='la presente Ley' char_span=(0, 15)\n",
            "WARNING:absl:Prompt alignment: non-exact match: [example#6] class='mention' status=AlignmentStatus.MATCH_FUZZY text='la presente Ley' char_span=(49, 64)\n"
          ]
        },
        {
          "name": "stdout",
          "output_type": "stream",
          "text": [
            "Error extracting mentions for row 12406E12_ARTCULO5: local variable 'art_match' referenced before assignment\n",
            "    Found 12 mentions\n",
            "\n",
            "Processing batch 3/111 (articles 7-9)\n",
            "  → Extracting government entities...\n"
          ]
        },
        {
          "name": "stderr",
          "output_type": "stream",
          "text": [
            "WARNING:absl:Prompt alignment: non-exact match: [example#0] class='mention' status=AlignmentStatus.MATCH_FUZZY text='la presente Ley' char_span=(0, 15)\n",
            "WARNING:absl:Prompt alignment: non-exact match: [example#6] class='mention' status=AlignmentStatus.MATCH_FUZZY text='la presente Ley' char_span=(49, 64)\n"
          ]
        },
        {
          "name": "stdout",
          "output_type": "stream",
          "text": [
            "    Found 29 entities\n",
            "  → Extracting article mentions...\n"
          ]
        },
        {
          "name": "stderr",
          "output_type": "stream",
          "text": [
            "WARNING:absl:Prompt alignment: non-exact match: [example#0] class='mention' status=AlignmentStatus.MATCH_FUZZY text='la presente Ley' char_span=(0, 15)\n",
            "WARNING:absl:Prompt alignment: non-exact match: [example#6] class='mention' status=AlignmentStatus.MATCH_FUZZY text='la presente Ley' char_span=(49, 64)\n",
            "WARNING:absl:Prompt alignment: non-exact match: [example#0] class='mention' status=AlignmentStatus.MATCH_FUZZY text='la presente Ley' char_span=(0, 15)\n",
            "WARNING:absl:Prompt alignment: non-exact match: [example#6] class='mention' status=AlignmentStatus.MATCH_FUZZY text='la presente Ley' char_span=(49, 64)\n"
          ]
        },
        {
          "name": "stdout",
          "output_type": "stream",
          "text": [
            "    Found 54 mentions\n",
            "\n",
            "Processing batch 4/111 (articles 10-12)\n",
            "  → Extracting government entities...\n"
          ]
        },
        {
          "name": "stderr",
          "output_type": "stream",
          "text": [
            "WARNING:absl:Prompt alignment: non-exact match: [example#0] class='mention' status=AlignmentStatus.MATCH_FUZZY text='la presente Ley' char_span=(0, 15)\n",
            "WARNING:absl:Prompt alignment: non-exact match: [example#6] class='mention' status=AlignmentStatus.MATCH_FUZZY text='la presente Ley' char_span=(49, 64)\n"
          ]
        },
        {
          "name": "stdout",
          "output_type": "stream",
          "text": [
            "    Found 12 entities\n",
            "  → Extracting article mentions...\n"
          ]
        },
        {
          "name": "stderr",
          "output_type": "stream",
          "text": [
            "WARNING:absl:Prompt alignment: non-exact match: [example#0] class='mention' status=AlignmentStatus.MATCH_FUZZY text='la presente Ley' char_span=(0, 15)\n",
            "WARNING:absl:Prompt alignment: non-exact match: [example#6] class='mention' status=AlignmentStatus.MATCH_FUZZY text='la presente Ley' char_span=(49, 64)\n",
            "WARNING:absl:Prompt alignment: non-exact match: [example#0] class='mention' status=AlignmentStatus.MATCH_FUZZY text='la presente Ley' char_span=(0, 15)\n",
            "WARNING:absl:Prompt alignment: non-exact match: [example#6] class='mention' status=AlignmentStatus.MATCH_FUZZY text='la presente Ley' char_span=(49, 64)\n"
          ]
        },
        {
          "name": "stdout",
          "output_type": "stream",
          "text": [
            "    Found 2 mentions\n",
            "\n",
            "Processing batch 5/111 (articles 13-15)\n",
            "  → Extracting government entities...\n"
          ]
        },
        {
          "name": "stderr",
          "output_type": "stream",
          "text": [
            "WARNING:absl:Prompt alignment: non-exact match: [example#0] class='mention' status=AlignmentStatus.MATCH_FUZZY text='la presente Ley' char_span=(0, 15)\n",
            "WARNING:absl:Prompt alignment: non-exact match: [example#6] class='mention' status=AlignmentStatus.MATCH_FUZZY text='la presente Ley' char_span=(49, 64)\n"
          ]
        },
        {
          "name": "stdout",
          "output_type": "stream",
          "text": [
            "    Found 4 entities\n",
            "  → Extracting article mentions...\n"
          ]
        },
        {
          "name": "stderr",
          "output_type": "stream",
          "text": [
            "WARNING:absl:Prompt alignment: non-exact match: [example#0] class='mention' status=AlignmentStatus.MATCH_FUZZY text='la presente Ley' char_span=(0, 15)\n",
            "WARNING:absl:Prompt alignment: non-exact match: [example#6] class='mention' status=AlignmentStatus.MATCH_FUZZY text='la presente Ley' char_span=(49, 64)\n",
            "WARNING:absl:Prompt alignment: non-exact match: [example#0] class='mention' status=AlignmentStatus.MATCH_FUZZY text='la presente Ley' char_span=(0, 15)\n",
            "WARNING:absl:Prompt alignment: non-exact match: [example#6] class='mention' status=AlignmentStatus.MATCH_FUZZY text='la presente Ley' char_span=(49, 64)\n"
          ]
        },
        {
          "name": "stdout",
          "output_type": "stream",
          "text": [
            "    Found 6 mentions\n",
            "\n",
            "Processing batch 6/111 (articles 16-18)\n",
            "  → Extracting government entities...\n"
          ]
        },
        {
          "name": "stderr",
          "output_type": "stream",
          "text": [
            "WARNING:absl:Prompt alignment: non-exact match: [example#0] class='mention' status=AlignmentStatus.MATCH_FUZZY text='la presente Ley' char_span=(0, 15)\n",
            "WARNING:absl:Prompt alignment: non-exact match: [example#6] class='mention' status=AlignmentStatus.MATCH_FUZZY text='la presente Ley' char_span=(49, 64)\n"
          ]
        },
        {
          "name": "stdout",
          "output_type": "stream",
          "text": [
            "    Found 3 entities\n",
            "  → Extracting article mentions...\n"
          ]
        },
        {
          "name": "stderr",
          "output_type": "stream",
          "text": [
            "WARNING:absl:Prompt alignment: non-exact match: [example#0] class='mention' status=AlignmentStatus.MATCH_FUZZY text='la presente Ley' char_span=(0, 15)\n",
            "WARNING:absl:Prompt alignment: non-exact match: [example#6] class='mention' status=AlignmentStatus.MATCH_FUZZY text='la presente Ley' char_span=(49, 64)\n",
            "WARNING:absl:Prompt alignment: non-exact match: [example#0] class='mention' status=AlignmentStatus.MATCH_FUZZY text='la presente Ley' char_span=(0, 15)\n",
            "WARNING:absl:Prompt alignment: non-exact match: [example#6] class='mention' status=AlignmentStatus.MATCH_FUZZY text='la presente Ley' char_span=(49, 64)\n"
          ]
        },
        {
          "name": "stdout",
          "output_type": "stream",
          "text": [
            "    Found 18 mentions\n",
            "\n",
            "Processing batch 7/111 (articles 19-21)\n",
            "  → Extracting government entities...\n"
          ]
        },
        {
          "name": "stderr",
          "output_type": "stream",
          "text": [
            "WARNING:absl:Prompt alignment: non-exact match: [example#0] class='mention' status=AlignmentStatus.MATCH_FUZZY text='la presente Ley' char_span=(0, 15)\n",
            "WARNING:absl:Prompt alignment: non-exact match: [example#6] class='mention' status=AlignmentStatus.MATCH_FUZZY text='la presente Ley' char_span=(49, 64)\n"
          ]
        },
        {
          "name": "stdout",
          "output_type": "stream",
          "text": [
            "    Found 4 entities\n",
            "  → Extracting article mentions...\n"
          ]
        },
        {
          "name": "stderr",
          "output_type": "stream",
          "text": [
            "WARNING:absl:Prompt alignment: non-exact match: [example#0] class='mention' status=AlignmentStatus.MATCH_FUZZY text='la presente Ley' char_span=(0, 15)\n",
            "WARNING:absl:Prompt alignment: non-exact match: [example#6] class='mention' status=AlignmentStatus.MATCH_FUZZY text='la presente Ley' char_span=(49, 64)\n",
            "WARNING:absl:Prompt alignment: non-exact match: [example#0] class='mention' status=AlignmentStatus.MATCH_FUZZY text='la presente Ley' char_span=(0, 15)\n",
            "WARNING:absl:Prompt alignment: non-exact match: [example#6] class='mention' status=AlignmentStatus.MATCH_FUZZY text='la presente Ley' char_span=(49, 64)\n"
          ]
        },
        {
          "name": "stdout",
          "output_type": "stream",
          "text": [
            "    Found 6 mentions\n",
            "\n",
            "Processing batch 8/111 (articles 22-24)\n",
            "  → Extracting government entities...\n"
          ]
        },
        {
          "name": "stderr",
          "output_type": "stream",
          "text": [
            "WARNING:absl:Prompt alignment: non-exact match: [example#0] class='mention' status=AlignmentStatus.MATCH_FUZZY text='la presente Ley' char_span=(0, 15)\n",
            "WARNING:absl:Prompt alignment: non-exact match: [example#6] class='mention' status=AlignmentStatus.MATCH_FUZZY text='la presente Ley' char_span=(49, 64)\n"
          ]
        },
        {
          "name": "stdout",
          "output_type": "stream",
          "text": [
            "    Found 4 entities\n",
            "  → Extracting article mentions...\n"
          ]
        },
        {
          "name": "stderr",
          "output_type": "stream",
          "text": [
            "WARNING:absl:Prompt alignment: non-exact match: [example#0] class='mention' status=AlignmentStatus.MATCH_FUZZY text='la presente Ley' char_span=(0, 15)\n",
            "WARNING:absl:Prompt alignment: non-exact match: [example#6] class='mention' status=AlignmentStatus.MATCH_FUZZY text='la presente Ley' char_span=(49, 64)\n",
            "WARNING:absl:Prompt alignment: non-exact match: [example#0] class='mention' status=AlignmentStatus.MATCH_FUZZY text='la presente Ley' char_span=(0, 15)\n",
            "WARNING:absl:Prompt alignment: non-exact match: [example#6] class='mention' status=AlignmentStatus.MATCH_FUZZY text='la presente Ley' char_span=(49, 64)\n"
          ]
        },
        {
          "name": "stdout",
          "output_type": "stream",
          "text": [
            "    Found 16 mentions\n",
            "\n",
            "Processing batch 9/111 (articles 25-27)\n",
            "  → Extracting government entities...\n"
          ]
        },
        {
          "name": "stderr",
          "output_type": "stream",
          "text": [
            "WARNING:absl:Prompt alignment: non-exact match: [example#0] class='mention' status=AlignmentStatus.MATCH_FUZZY text='la presente Ley' char_span=(0, 15)\n",
            "WARNING:absl:Prompt alignment: non-exact match: [example#6] class='mention' status=AlignmentStatus.MATCH_FUZZY text='la presente Ley' char_span=(49, 64)\n"
          ]
        },
        {
          "name": "stdout",
          "output_type": "stream",
          "text": [
            "    Found 8 entities\n",
            "  → Extracting article mentions...\n"
          ]
        },
        {
          "name": "stderr",
          "output_type": "stream",
          "text": [
            "WARNING:absl:Prompt alignment: non-exact match: [example#0] class='mention' status=AlignmentStatus.MATCH_FUZZY text='la presente Ley' char_span=(0, 15)\n",
            "WARNING:absl:Prompt alignment: non-exact match: [example#6] class='mention' status=AlignmentStatus.MATCH_FUZZY text='la presente Ley' char_span=(49, 64)\n",
            "WARNING:absl:Prompt alignment: non-exact match: [example#0] class='mention' status=AlignmentStatus.MATCH_FUZZY text='la presente Ley' char_span=(0, 15)\n",
            "WARNING:absl:Prompt alignment: non-exact match: [example#6] class='mention' status=AlignmentStatus.MATCH_FUZZY text='la presente Ley' char_span=(49, 64)\n"
          ]
        },
        {
          "name": "stdout",
          "output_type": "stream",
          "text": [
            "    Found 27 mentions\n",
            "\n",
            "Processing batch 10/111 (articles 28-30)\n",
            "  → Extracting government entities...\n"
          ]
        },
        {
          "name": "stderr",
          "output_type": "stream",
          "text": [
            "WARNING:absl:Prompt alignment: non-exact match: [example#0] class='mention' status=AlignmentStatus.MATCH_FUZZY text='la presente Ley' char_span=(0, 15)\n",
            "WARNING:absl:Prompt alignment: non-exact match: [example#6] class='mention' status=AlignmentStatus.MATCH_FUZZY text='la presente Ley' char_span=(49, 64)\n"
          ]
        },
        {
          "name": "stdout",
          "output_type": "stream",
          "text": [
            "    Found 7 entities\n",
            "  → Extracting article mentions...\n"
          ]
        },
        {
          "name": "stderr",
          "output_type": "stream",
          "text": [
            "WARNING:absl:Prompt alignment: non-exact match: [example#0] class='mention' status=AlignmentStatus.MATCH_FUZZY text='la presente Ley' char_span=(0, 15)\n",
            "WARNING:absl:Prompt alignment: non-exact match: [example#6] class='mention' status=AlignmentStatus.MATCH_FUZZY text='la presente Ley' char_span=(49, 64)\n",
            "WARNING:absl:Prompt alignment: non-exact match: [example#0] class='mention' status=AlignmentStatus.MATCH_FUZZY text='la presente Ley' char_span=(0, 15)\n",
            "WARNING:absl:Prompt alignment: non-exact match: [example#6] class='mention' status=AlignmentStatus.MATCH_FUZZY text='la presente Ley' char_span=(49, 64)\n"
          ]
        },
        {
          "name": "stdout",
          "output_type": "stream",
          "text": [
            "    Found 6 mentions\n",
            "\n",
            "Processing batch 11/111 (articles 31-33)\n",
            "  → Extracting government entities...\n"
          ]
        },
        {
          "name": "stderr",
          "output_type": "stream",
          "text": [
            "WARNING:absl:Prompt alignment: non-exact match: [example#0] class='mention' status=AlignmentStatus.MATCH_FUZZY text='la presente Ley' char_span=(0, 15)\n",
            "WARNING:absl:Prompt alignment: non-exact match: [example#6] class='mention' status=AlignmentStatus.MATCH_FUZZY text='la presente Ley' char_span=(49, 64)\n"
          ]
        },
        {
          "name": "stdout",
          "output_type": "stream",
          "text": [
            "    Found 11 entities\n",
            "  → Extracting article mentions...\n"
          ]
        },
        {
          "name": "stderr",
          "output_type": "stream",
          "text": [
            "WARNING:absl:Prompt alignment: non-exact match: [example#0] class='mention' status=AlignmentStatus.MATCH_FUZZY text='la presente Ley' char_span=(0, 15)\n",
            "WARNING:absl:Prompt alignment: non-exact match: [example#6] class='mention' status=AlignmentStatus.MATCH_FUZZY text='la presente Ley' char_span=(49, 64)\n"
          ]
        },
        {
          "name": "stdout",
          "output_type": "stream",
          "text": [
            "Error extracting mentions for row 12406E12_ARTCULO31: local variable 'art_match' referenced before assignment\n"
          ]
        },
        {
          "name": "stderr",
          "output_type": "stream",
          "text": [
            "WARNING:absl:Prompt alignment: non-exact match: [example#0] class='mention' status=AlignmentStatus.MATCH_FUZZY text='la presente Ley' char_span=(0, 15)\n",
            "WARNING:absl:Prompt alignment: non-exact match: [example#6] class='mention' status=AlignmentStatus.MATCH_FUZZY text='la presente Ley' char_span=(49, 64)\n"
          ]
        },
        {
          "name": "stdout",
          "output_type": "stream",
          "text": [
            "    Found 8 mentions\n",
            "\n",
            "Processing batch 12/111 (articles 34-36)\n",
            "  → Extracting government entities...\n"
          ]
        },
        {
          "name": "stderr",
          "output_type": "stream",
          "text": [
            "WARNING:absl:Prompt alignment: non-exact match: [example#0] class='mention' status=AlignmentStatus.MATCH_FUZZY text='la presente Ley' char_span=(0, 15)\n",
            "WARNING:absl:Prompt alignment: non-exact match: [example#6] class='mention' status=AlignmentStatus.MATCH_FUZZY text='la presente Ley' char_span=(49, 64)\n"
          ]
        },
        {
          "name": "stdout",
          "output_type": "stream",
          "text": [
            "    Found 9 entities\n",
            "  → Extracting article mentions...\n"
          ]
        },
        {
          "name": "stderr",
          "output_type": "stream",
          "text": [
            "WARNING:absl:Prompt alignment: non-exact match: [example#0] class='mention' status=AlignmentStatus.MATCH_FUZZY text='la presente Ley' char_span=(0, 15)\n",
            "WARNING:absl:Prompt alignment: non-exact match: [example#6] class='mention' status=AlignmentStatus.MATCH_FUZZY text='la presente Ley' char_span=(49, 64)\n"
          ]
        },
        {
          "name": "stdout",
          "output_type": "stream",
          "text": [
            "Error extracting mentions for row 12406E12_ARTCULO34: local variable 'art_match' referenced before assignment\n"
          ]
        },
        {
          "name": "stderr",
          "output_type": "stream",
          "text": [
            "WARNING:absl:Prompt alignment: non-exact match: [example#0] class='mention' status=AlignmentStatus.MATCH_FUZZY text='la presente Ley' char_span=(0, 15)\n",
            "WARNING:absl:Prompt alignment: non-exact match: [example#6] class='mention' status=AlignmentStatus.MATCH_FUZZY text='la presente Ley' char_span=(49, 64)\n"
          ]
        },
        {
          "name": "stdout",
          "output_type": "stream",
          "text": [
            "    Found 12 mentions\n",
            "\n",
            "Processing batch 13/111 (articles 37-39)\n",
            "  → Extracting government entities...\n"
          ]
        },
        {
          "name": "stderr",
          "output_type": "stream",
          "text": [
            "WARNING:absl:Prompt alignment: non-exact match: [example#0] class='mention' status=AlignmentStatus.MATCH_FUZZY text='la presente Ley' char_span=(0, 15)\n",
            "WARNING:absl:Prompt alignment: non-exact match: [example#6] class='mention' status=AlignmentStatus.MATCH_FUZZY text='la presente Ley' char_span=(49, 64)\n"
          ]
        },
        {
          "name": "stdout",
          "output_type": "stream",
          "text": [
            "    Found 1 entities\n",
            "  → Extracting article mentions...\n"
          ]
        },
        {
          "name": "stderr",
          "output_type": "stream",
          "text": [
            "WARNING:absl:Prompt alignment: non-exact match: [example#0] class='mention' status=AlignmentStatus.MATCH_FUZZY text='la presente Ley' char_span=(0, 15)\n",
            "WARNING:absl:Prompt alignment: non-exact match: [example#6] class='mention' status=AlignmentStatus.MATCH_FUZZY text='la presente Ley' char_span=(49, 64)\n",
            "WARNING:absl:Prompt alignment: non-exact match: [example#0] class='mention' status=AlignmentStatus.MATCH_FUZZY text='la presente Ley' char_span=(0, 15)\n",
            "WARNING:absl:Prompt alignment: non-exact match: [example#6] class='mention' status=AlignmentStatus.MATCH_FUZZY text='la presente Ley' char_span=(49, 64)\n"
          ]
        },
        {
          "name": "stdout",
          "output_type": "stream",
          "text": [
            "    Found 1 mentions\n",
            "\n",
            "Processing batch 14/111 (articles 40-42)\n",
            "  → Extracting government entities...\n"
          ]
        },
        {
          "name": "stderr",
          "output_type": "stream",
          "text": [
            "WARNING:absl:Prompt alignment: non-exact match: [example#0] class='mention' status=AlignmentStatus.MATCH_FUZZY text='la presente Ley' char_span=(0, 15)\n",
            "WARNING:absl:Prompt alignment: non-exact match: [example#6] class='mention' status=AlignmentStatus.MATCH_FUZZY text='la presente Ley' char_span=(49, 64)\n"
          ]
        },
        {
          "name": "stdout",
          "output_type": "stream",
          "text": [
            "    Found 6 entities\n",
            "  → Extracting article mentions...\n"
          ]
        },
        {
          "name": "stderr",
          "output_type": "stream",
          "text": [
            "WARNING:absl:Prompt alignment: non-exact match: [example#0] class='mention' status=AlignmentStatus.MATCH_FUZZY text='la presente Ley' char_span=(0, 15)\n",
            "WARNING:absl:Prompt alignment: non-exact match: [example#6] class='mention' status=AlignmentStatus.MATCH_FUZZY text='la presente Ley' char_span=(49, 64)\n"
          ]
        },
        {
          "name": "stdout",
          "output_type": "stream",
          "text": [
            "Error extracting mentions for row 12406E12_ARTCULO40: local variable 'art_match' referenced before assignment\n"
          ]
        },
        {
          "name": "stderr",
          "output_type": "stream",
          "text": [
            "WARNING:absl:Prompt alignment: non-exact match: [example#0] class='mention' status=AlignmentStatus.MATCH_FUZZY text='la presente Ley' char_span=(0, 15)\n",
            "WARNING:absl:Prompt alignment: non-exact match: [example#6] class='mention' status=AlignmentStatus.MATCH_FUZZY text='la presente Ley' char_span=(49, 64)\n"
          ]
        },
        {
          "name": "stdout",
          "output_type": "stream",
          "text": [
            "Error extracting mentions for row 12406E12_ARTCULO41: local variable 'art_match' referenced before assignment\n",
            "    Found 2 mentions\n",
            "\n",
            "Processing batch 15/111 (articles 43-45)\n",
            "  → Extracting government entities...\n"
          ]
        },
        {
          "name": "stderr",
          "output_type": "stream",
          "text": [
            "WARNING:absl:Prompt alignment: non-exact match: [example#0] class='mention' status=AlignmentStatus.MATCH_FUZZY text='la presente Ley' char_span=(0, 15)\n",
            "WARNING:absl:Prompt alignment: non-exact match: [example#6] class='mention' status=AlignmentStatus.MATCH_FUZZY text='la presente Ley' char_span=(49, 64)\n"
          ]
        },
        {
          "name": "stdout",
          "output_type": "stream",
          "text": [
            "    Found 2 entities\n",
            "  → Extracting article mentions...\n"
          ]
        },
        {
          "name": "stderr",
          "output_type": "stream",
          "text": [
            "WARNING:absl:Prompt alignment: non-exact match: [example#0] class='mention' status=AlignmentStatus.MATCH_FUZZY text='la presente Ley' char_span=(0, 15)\n",
            "WARNING:absl:Prompt alignment: non-exact match: [example#6] class='mention' status=AlignmentStatus.MATCH_FUZZY text='la presente Ley' char_span=(49, 64)\n"
          ]
        },
        {
          "name": "stdout",
          "output_type": "stream",
          "text": [
            "Error extracting mentions for row 12406E12_ARTCULO43: local variable 'art_match' referenced before assignment\n"
          ]
        },
        {
          "name": "stderr",
          "output_type": "stream",
          "text": [
            "WARNING:absl:Prompt alignment: non-exact match: [example#0] class='mention' status=AlignmentStatus.MATCH_FUZZY text='la presente Ley' char_span=(0, 15)\n",
            "WARNING:absl:Prompt alignment: non-exact match: [example#6] class='mention' status=AlignmentStatus.MATCH_FUZZY text='la presente Ley' char_span=(49, 64)\n"
          ]
        },
        {
          "name": "stdout",
          "output_type": "stream",
          "text": [
            "Error extracting mentions for row 12406E12_ARTCULO45: local variable 'art_match' referenced before assignment\n",
            "    Found 0 mentions\n",
            "\n",
            "Processing batch 16/111 (articles 46-48)\n",
            "  → Extracting government entities...\n"
          ]
        },
        {
          "name": "stderr",
          "output_type": "stream",
          "text": [
            "WARNING:absl:Prompt alignment: non-exact match: [example#0] class='mention' status=AlignmentStatus.MATCH_FUZZY text='la presente Ley' char_span=(0, 15)\n",
            "WARNING:absl:Prompt alignment: non-exact match: [example#6] class='mention' status=AlignmentStatus.MATCH_FUZZY text='la presente Ley' char_span=(49, 64)\n"
          ]
        },
        {
          "name": "stdout",
          "output_type": "stream",
          "text": [
            "    Found 5 entities\n",
            "  → Extracting article mentions...\n"
          ]
        },
        {
          "name": "stderr",
          "output_type": "stream",
          "text": [
            "WARNING:absl:Prompt alignment: non-exact match: [example#0] class='mention' status=AlignmentStatus.MATCH_FUZZY text='la presente Ley' char_span=(0, 15)\n",
            "WARNING:absl:Prompt alignment: non-exact match: [example#6] class='mention' status=AlignmentStatus.MATCH_FUZZY text='la presente Ley' char_span=(49, 64)\n",
            "WARNING:absl:Prompt alignment: non-exact match: [example#0] class='mention' status=AlignmentStatus.MATCH_FUZZY text='la presente Ley' char_span=(0, 15)\n",
            "WARNING:absl:Prompt alignment: non-exact match: [example#6] class='mention' status=AlignmentStatus.MATCH_FUZZY text='la presente Ley' char_span=(49, 64)\n"
          ]
        },
        {
          "name": "stdout",
          "output_type": "stream",
          "text": [
            "    Found 4 mentions\n",
            "\n",
            "Processing batch 17/111 (articles 49-51)\n",
            "  → Extracting government entities...\n"
          ]
        },
        {
          "name": "stderr",
          "output_type": "stream",
          "text": [
            "WARNING:absl:Prompt alignment: non-exact match: [example#0] class='mention' status=AlignmentStatus.MATCH_FUZZY text='la presente Ley' char_span=(0, 15)\n",
            "WARNING:absl:Prompt alignment: non-exact match: [example#6] class='mention' status=AlignmentStatus.MATCH_FUZZY text='la presente Ley' char_span=(49, 64)\n"
          ]
        },
        {
          "name": "stdout",
          "output_type": "stream",
          "text": [
            "    Found 3 entities\n",
            "  → Extracting article mentions...\n"
          ]
        },
        {
          "name": "stderr",
          "output_type": "stream",
          "text": [
            "WARNING:absl:Prompt alignment: non-exact match: [example#0] class='mention' status=AlignmentStatus.MATCH_FUZZY text='la presente Ley' char_span=(0, 15)\n",
            "WARNING:absl:Prompt alignment: non-exact match: [example#6] class='mention' status=AlignmentStatus.MATCH_FUZZY text='la presente Ley' char_span=(49, 64)\n"
          ]
        },
        {
          "name": "stdout",
          "output_type": "stream",
          "text": [
            "Error extracting mentions for row 12406E12_ARTCULO49: local variable 'art_match' referenced before assignment\n"
          ]
        },
        {
          "name": "stderr",
          "output_type": "stream",
          "text": [
            "WARNING:absl:Prompt alignment: non-exact match: [example#0] class='mention' status=AlignmentStatus.MATCH_FUZZY text='la presente Ley' char_span=(0, 15)\n",
            "WARNING:absl:Prompt alignment: non-exact match: [example#6] class='mention' status=AlignmentStatus.MATCH_FUZZY text='la presente Ley' char_span=(49, 64)\n"
          ]
        },
        {
          "name": "stdout",
          "output_type": "stream",
          "text": [
            "Error extracting mentions for row 12406E12_ARTCULO50: local variable 'art_match' referenced before assignment\n",
            "    Found 4 mentions\n",
            "\n",
            "Processing batch 18/111 (articles 52-54)\n",
            "  → Extracting government entities...\n"
          ]
        },
        {
          "name": "stderr",
          "output_type": "stream",
          "text": [
            "WARNING:absl:Prompt alignment: non-exact match: [example#0] class='mention' status=AlignmentStatus.MATCH_FUZZY text='la presente Ley' char_span=(0, 15)\n",
            "WARNING:absl:Prompt alignment: non-exact match: [example#6] class='mention' status=AlignmentStatus.MATCH_FUZZY text='la presente Ley' char_span=(49, 64)\n"
          ]
        },
        {
          "name": "stdout",
          "output_type": "stream",
          "text": [
            "    Found 3 entities\n",
            "  → Extracting article mentions...\n"
          ]
        },
        {
          "name": "stderr",
          "output_type": "stream",
          "text": [
            "WARNING:absl:Prompt alignment: non-exact match: [example#0] class='mention' status=AlignmentStatus.MATCH_FUZZY text='la presente Ley' char_span=(0, 15)\n",
            "WARNING:absl:Prompt alignment: non-exact match: [example#6] class='mention' status=AlignmentStatus.MATCH_FUZZY text='la presente Ley' char_span=(49, 64)\n"
          ]
        },
        {
          "name": "stdout",
          "output_type": "stream",
          "text": [
            "Error extracting mentions for row 12406E12_ARTCULO52: local variable 'art_match' referenced before assignment\n"
          ]
        },
        {
          "name": "stderr",
          "output_type": "stream",
          "text": [
            "WARNING:absl:Prompt alignment: non-exact match: [example#0] class='mention' status=AlignmentStatus.MATCH_FUZZY text='la presente Ley' char_span=(0, 15)\n",
            "WARNING:absl:Prompt alignment: non-exact match: [example#6] class='mention' status=AlignmentStatus.MATCH_FUZZY text='la presente Ley' char_span=(49, 64)\n"
          ]
        },
        {
          "name": "stdout",
          "output_type": "stream",
          "text": [
            "Error extracting mentions for row 12406E12_ARTCULO53: local variable 'art_match' referenced before assignment\n",
            "Error extracting mentions for row 12406E12_ARTCULO54: local variable 'art_match' referenced before assignment\n",
            "    Found 0 mentions\n",
            "\n",
            "Processing batch 19/111 (articles 55-57)\n",
            "  → Extracting government entities...\n"
          ]
        },
        {
          "name": "stderr",
          "output_type": "stream",
          "text": [
            "WARNING:absl:Prompt alignment: non-exact match: [example#0] class='mention' status=AlignmentStatus.MATCH_FUZZY text='la presente Ley' char_span=(0, 15)\n",
            "WARNING:absl:Prompt alignment: non-exact match: [example#6] class='mention' status=AlignmentStatus.MATCH_FUZZY text='la presente Ley' char_span=(49, 64)\n"
          ]
        },
        {
          "name": "stdout",
          "output_type": "stream",
          "text": [
            "    Found 4 entities\n",
            "  → Extracting article mentions...\n"
          ]
        },
        {
          "name": "stderr",
          "output_type": "stream",
          "text": [
            "WARNING:absl:Prompt alignment: non-exact match: [example#0] class='mention' status=AlignmentStatus.MATCH_FUZZY text='la presente Ley' char_span=(0, 15)\n",
            "WARNING:absl:Prompt alignment: non-exact match: [example#6] class='mention' status=AlignmentStatus.MATCH_FUZZY text='la presente Ley' char_span=(49, 64)\n",
            "WARNING:absl:Prompt alignment: non-exact match: [example#0] class='mention' status=AlignmentStatus.MATCH_FUZZY text='la presente Ley' char_span=(0, 15)\n",
            "WARNING:absl:Prompt alignment: non-exact match: [example#6] class='mention' status=AlignmentStatus.MATCH_FUZZY text='la presente Ley' char_span=(49, 64)\n"
          ]
        },
        {
          "name": "stdout",
          "output_type": "stream",
          "text": [
            "    Found 6 mentions\n",
            "\n",
            "Processing batch 20/111 (articles 58-60)\n",
            "  → Extracting government entities...\n"
          ]
        },
        {
          "name": "stderr",
          "output_type": "stream",
          "text": [
            "WARNING:absl:Prompt alignment: non-exact match: [example#0] class='mention' status=AlignmentStatus.MATCH_FUZZY text='la presente Ley' char_span=(0, 15)\n",
            "WARNING:absl:Prompt alignment: non-exact match: [example#6] class='mention' status=AlignmentStatus.MATCH_FUZZY text='la presente Ley' char_span=(49, 64)\n"
          ]
        },
        {
          "name": "stdout",
          "output_type": "stream",
          "text": [
            "    Found 1 entities\n",
            "  → Extracting article mentions...\n"
          ]
        },
        {
          "name": "stderr",
          "output_type": "stream",
          "text": [
            "WARNING:absl:Prompt alignment: non-exact match: [example#0] class='mention' status=AlignmentStatus.MATCH_FUZZY text='la presente Ley' char_span=(0, 15)\n",
            "WARNING:absl:Prompt alignment: non-exact match: [example#6] class='mention' status=AlignmentStatus.MATCH_FUZZY text='la presente Ley' char_span=(49, 64)\n",
            "WARNING:absl:Prompt alignment: non-exact match: [example#0] class='mention' status=AlignmentStatus.MATCH_FUZZY text='la presente Ley' char_span=(0, 15)\n",
            "WARNING:absl:Prompt alignment: non-exact match: [example#6] class='mention' status=AlignmentStatus.MATCH_FUZZY text='la presente Ley' char_span=(49, 64)\n"
          ]
        },
        {
          "name": "stdout",
          "output_type": "stream",
          "text": [
            "    Found 6 mentions\n",
            "\n",
            "Processing batch 21/111 (articles 61-63)\n",
            "  → Extracting government entities...\n"
          ]
        },
        {
          "name": "stderr",
          "output_type": "stream",
          "text": [
            "WARNING:absl:Prompt alignment: non-exact match: [example#0] class='mention' status=AlignmentStatus.MATCH_FUZZY text='la presente Ley' char_span=(0, 15)\n",
            "WARNING:absl:Prompt alignment: non-exact match: [example#6] class='mention' status=AlignmentStatus.MATCH_FUZZY text='la presente Ley' char_span=(49, 64)\n"
          ]
        },
        {
          "name": "stdout",
          "output_type": "stream",
          "text": [
            "    Found 3 entities\n",
            "  → Extracting article mentions...\n"
          ]
        },
        {
          "name": "stderr",
          "output_type": "stream",
          "text": [
            "WARNING:absl:Prompt alignment: non-exact match: [example#0] class='mention' status=AlignmentStatus.MATCH_FUZZY text='la presente Ley' char_span=(0, 15)\n",
            "WARNING:absl:Prompt alignment: non-exact match: [example#6] class='mention' status=AlignmentStatus.MATCH_FUZZY text='la presente Ley' char_span=(49, 64)\n",
            "WARNING:absl:Prompt alignment: non-exact match: [example#0] class='mention' status=AlignmentStatus.MATCH_FUZZY text='la presente Ley' char_span=(0, 15)\n",
            "WARNING:absl:Prompt alignment: non-exact match: [example#6] class='mention' status=AlignmentStatus.MATCH_FUZZY text='la presente Ley' char_span=(49, 64)\n"
          ]
        },
        {
          "name": "stdout",
          "output_type": "stream",
          "text": [
            "    Found 7 mentions\n",
            "\n",
            "Processing batch 22/111 (articles 64-66)\n",
            "  → Extracting government entities...\n"
          ]
        },
        {
          "name": "stderr",
          "output_type": "stream",
          "text": [
            "WARNING:absl:Prompt alignment: non-exact match: [example#0] class='mention' status=AlignmentStatus.MATCH_FUZZY text='la presente Ley' char_span=(0, 15)\n",
            "WARNING:absl:Prompt alignment: non-exact match: [example#6] class='mention' status=AlignmentStatus.MATCH_FUZZY text='la presente Ley' char_span=(49, 64)\n"
          ]
        },
        {
          "name": "stdout",
          "output_type": "stream",
          "text": [
            "    Found 3 entities\n",
            "  → Extracting article mentions...\n"
          ]
        },
        {
          "name": "stderr",
          "output_type": "stream",
          "text": [
            "WARNING:absl:Prompt alignment: non-exact match: [example#0] class='mention' status=AlignmentStatus.MATCH_FUZZY text='la presente Ley' char_span=(0, 15)\n",
            "WARNING:absl:Prompt alignment: non-exact match: [example#6] class='mention' status=AlignmentStatus.MATCH_FUZZY text='la presente Ley' char_span=(49, 64)\n"
          ]
        },
        {
          "name": "stdout",
          "output_type": "stream",
          "text": [
            "Error extracting mentions for row 12406E12_ARTCULO64: local variable 'art_match' referenced before assignment\n"
          ]
        },
        {
          "name": "stderr",
          "output_type": "stream",
          "text": [
            "WARNING:absl:Prompt alignment: non-exact match: [example#0] class='mention' status=AlignmentStatus.MATCH_FUZZY text='la presente Ley' char_span=(0, 15)\n",
            "WARNING:absl:Prompt alignment: non-exact match: [example#6] class='mention' status=AlignmentStatus.MATCH_FUZZY text='la presente Ley' char_span=(49, 64)\n"
          ]
        },
        {
          "name": "stdout",
          "output_type": "stream",
          "text": [
            "Error extracting mentions for row 12406E12_ARTCULO66: local variable 'art_match' referenced before assignment\n",
            "    Found 0 mentions\n",
            "\n",
            "Processing batch 23/111 (articles 67-69)\n",
            "  → Extracting government entities...\n"
          ]
        },
        {
          "name": "stderr",
          "output_type": "stream",
          "text": [
            "WARNING:absl:Prompt alignment: non-exact match: [example#0] class='mention' status=AlignmentStatus.MATCH_FUZZY text='la presente Ley' char_span=(0, 15)\n",
            "WARNING:absl:Prompt alignment: non-exact match: [example#6] class='mention' status=AlignmentStatus.MATCH_FUZZY text='la presente Ley' char_span=(49, 64)\n"
          ]
        },
        {
          "name": "stdout",
          "output_type": "stream",
          "text": [
            "    Found 2 entities\n",
            "  → Extracting article mentions...\n"
          ]
        },
        {
          "name": "stderr",
          "output_type": "stream",
          "text": [
            "WARNING:absl:Prompt alignment: non-exact match: [example#0] class='mention' status=AlignmentStatus.MATCH_FUZZY text='la presente Ley' char_span=(0, 15)\n",
            "WARNING:absl:Prompt alignment: non-exact match: [example#6] class='mention' status=AlignmentStatus.MATCH_FUZZY text='la presente Ley' char_span=(49, 64)\n"
          ]
        },
        {
          "name": "stdout",
          "output_type": "stream",
          "text": [
            "Error extracting mentions for row 12406E12_ARTCULO67: local variable 'art_match' referenced before assignment\n"
          ]
        },
        {
          "name": "stderr",
          "output_type": "stream",
          "text": [
            "WARNING:absl:Prompt alignment: non-exact match: [example#0] class='mention' status=AlignmentStatus.MATCH_FUZZY text='la presente Ley' char_span=(0, 15)\n",
            "WARNING:absl:Prompt alignment: non-exact match: [example#6] class='mention' status=AlignmentStatus.MATCH_FUZZY text='la presente Ley' char_span=(49, 64)\n"
          ]
        },
        {
          "name": "stdout",
          "output_type": "stream",
          "text": [
            "Error extracting mentions for row 12406E12_ARTCULO68: local variable 'art_match' referenced before assignment\n",
            "    Found 0 mentions\n",
            "\n",
            "Processing batch 24/111 (articles 70-72)\n",
            "  → Extracting government entities...\n"
          ]
        },
        {
          "name": "stderr",
          "output_type": "stream",
          "text": [
            "WARNING:absl:Prompt alignment: non-exact match: [example#0] class='mention' status=AlignmentStatus.MATCH_FUZZY text='la presente Ley' char_span=(0, 15)\n",
            "WARNING:absl:Prompt alignment: non-exact match: [example#6] class='mention' status=AlignmentStatus.MATCH_FUZZY text='la presente Ley' char_span=(49, 64)\n"
          ]
        },
        {
          "name": "stdout",
          "output_type": "stream",
          "text": [
            "    Found 3 entities\n",
            "  → Extracting article mentions...\n"
          ]
        },
        {
          "name": "stderr",
          "output_type": "stream",
          "text": [
            "WARNING:absl:Prompt alignment: non-exact match: [example#0] class='mention' status=AlignmentStatus.MATCH_FUZZY text='la presente Ley' char_span=(0, 15)\n",
            "WARNING:absl:Prompt alignment: non-exact match: [example#6] class='mention' status=AlignmentStatus.MATCH_FUZZY text='la presente Ley' char_span=(49, 64)\n",
            "WARNING:absl:Prompt alignment: non-exact match: [example#0] class='mention' status=AlignmentStatus.MATCH_FUZZY text='la presente Ley' char_span=(0, 15)\n",
            "WARNING:absl:Prompt alignment: non-exact match: [example#6] class='mention' status=AlignmentStatus.MATCH_FUZZY text='la presente Ley' char_span=(49, 64)\n"
          ]
        },
        {
          "name": "stdout",
          "output_type": "stream",
          "text": [
            "Error extracting mentions for row 12406E12_ARTCULO71: local variable 'art_match' referenced before assignment\n",
            "    Found 0 mentions\n",
            "\n",
            "Processing batch 25/111 (articles 73-75)\n",
            "  → Extracting government entities...\n"
          ]
        },
        {
          "name": "stderr",
          "output_type": "stream",
          "text": [
            "WARNING:absl:Prompt alignment: non-exact match: [example#0] class='mention' status=AlignmentStatus.MATCH_FUZZY text='la presente Ley' char_span=(0, 15)\n",
            "WARNING:absl:Prompt alignment: non-exact match: [example#6] class='mention' status=AlignmentStatus.MATCH_FUZZY text='la presente Ley' char_span=(49, 64)\n"
          ]
        },
        {
          "name": "stdout",
          "output_type": "stream",
          "text": [
            "    Found 3 entities\n",
            "  → Extracting article mentions...\n"
          ]
        },
        {
          "name": "stderr",
          "output_type": "stream",
          "text": [
            "WARNING:absl:Prompt alignment: non-exact match: [example#0] class='mention' status=AlignmentStatus.MATCH_FUZZY text='la presente Ley' char_span=(0, 15)\n",
            "WARNING:absl:Prompt alignment: non-exact match: [example#6] class='mention' status=AlignmentStatus.MATCH_FUZZY text='la presente Ley' char_span=(49, 64)\n",
            "WARNING:absl:Prompt alignment: non-exact match: [example#0] class='mention' status=AlignmentStatus.MATCH_FUZZY text='la presente Ley' char_span=(0, 15)\n",
            "WARNING:absl:Prompt alignment: non-exact match: [example#6] class='mention' status=AlignmentStatus.MATCH_FUZZY text='la presente Ley' char_span=(49, 64)\n"
          ]
        },
        {
          "name": "stdout",
          "output_type": "stream",
          "text": [
            "    Found 2 mentions\n",
            "\n",
            "Processing batch 26/111 (articles 76-78)\n",
            "  → Extracting government entities...\n"
          ]
        },
        {
          "name": "stderr",
          "output_type": "stream",
          "text": [
            "WARNING:absl:Prompt alignment: non-exact match: [example#0] class='mention' status=AlignmentStatus.MATCH_FUZZY text='la presente Ley' char_span=(0, 15)\n",
            "WARNING:absl:Prompt alignment: non-exact match: [example#6] class='mention' status=AlignmentStatus.MATCH_FUZZY text='la presente Ley' char_span=(49, 64)\n"
          ]
        },
        {
          "name": "stdout",
          "output_type": "stream",
          "text": [
            "    Found 4 entities\n",
            "  → Extracting article mentions...\n"
          ]
        },
        {
          "name": "stderr",
          "output_type": "stream",
          "text": [
            "WARNING:absl:Prompt alignment: non-exact match: [example#0] class='mention' status=AlignmentStatus.MATCH_FUZZY text='la presente Ley' char_span=(0, 15)\n",
            "WARNING:absl:Prompt alignment: non-exact match: [example#6] class='mention' status=AlignmentStatus.MATCH_FUZZY text='la presente Ley' char_span=(49, 64)\n",
            "WARNING:absl:Prompt alignment: non-exact match: [example#0] class='mention' status=AlignmentStatus.MATCH_FUZZY text='la presente Ley' char_span=(0, 15)\n",
            "WARNING:absl:Prompt alignment: non-exact match: [example#6] class='mention' status=AlignmentStatus.MATCH_FUZZY text='la presente Ley' char_span=(49, 64)\n"
          ]
        },
        {
          "name": "stdout",
          "output_type": "stream",
          "text": [
            "    Found 7 mentions\n",
            "\n",
            "Processing batch 27/111 (articles 79-81)\n",
            "  → Extracting government entities...\n"
          ]
        },
        {
          "name": "stderr",
          "output_type": "stream",
          "text": [
            "WARNING:absl:Prompt alignment: non-exact match: [example#0] class='mention' status=AlignmentStatus.MATCH_FUZZY text='la presente Ley' char_span=(0, 15)\n",
            "WARNING:absl:Prompt alignment: non-exact match: [example#6] class='mention' status=AlignmentStatus.MATCH_FUZZY text='la presente Ley' char_span=(49, 64)\n"
          ]
        },
        {
          "name": "stdout",
          "output_type": "stream",
          "text": [
            "    Found 3 entities\n",
            "  → Extracting article mentions...\n"
          ]
        },
        {
          "name": "stderr",
          "output_type": "stream",
          "text": [
            "WARNING:absl:Prompt alignment: non-exact match: [example#0] class='mention' status=AlignmentStatus.MATCH_FUZZY text='la presente Ley' char_span=(0, 15)\n",
            "WARNING:absl:Prompt alignment: non-exact match: [example#6] class='mention' status=AlignmentStatus.MATCH_FUZZY text='la presente Ley' char_span=(49, 64)\n",
            "WARNING:absl:Prompt alignment: non-exact match: [example#0] class='mention' status=AlignmentStatus.MATCH_FUZZY text='la presente Ley' char_span=(0, 15)\n",
            "WARNING:absl:Prompt alignment: non-exact match: [example#6] class='mention' status=AlignmentStatus.MATCH_FUZZY text='la presente Ley' char_span=(49, 64)\n"
          ]
        },
        {
          "name": "stdout",
          "output_type": "stream",
          "text": [
            "    Found 15 mentions\n",
            "\n",
            "Processing batch 28/111 (articles 82-84)\n",
            "  → Extracting government entities...\n"
          ]
        },
        {
          "name": "stderr",
          "output_type": "stream",
          "text": [
            "WARNING:absl:Prompt alignment: non-exact match: [example#0] class='mention' status=AlignmentStatus.MATCH_FUZZY text='la presente Ley' char_span=(0, 15)\n",
            "WARNING:absl:Prompt alignment: non-exact match: [example#6] class='mention' status=AlignmentStatus.MATCH_FUZZY text='la presente Ley' char_span=(49, 64)\n"
          ]
        },
        {
          "name": "stdout",
          "output_type": "stream",
          "text": [
            "    Found 8 entities\n",
            "  → Extracting article mentions...\n"
          ]
        },
        {
          "name": "stderr",
          "output_type": "stream",
          "text": [
            "WARNING:absl:Prompt alignment: non-exact match: [example#0] class='mention' status=AlignmentStatus.MATCH_FUZZY text='la presente Ley' char_span=(0, 15)\n",
            "WARNING:absl:Prompt alignment: non-exact match: [example#6] class='mention' status=AlignmentStatus.MATCH_FUZZY text='la presente Ley' char_span=(49, 64)\n"
          ]
        },
        {
          "name": "stdout",
          "output_type": "stream",
          "text": [
            "Error extracting mentions for row 12406E12_ARTCULO82: local variable 'art_match' referenced before assignment\n"
          ]
        },
        {
          "name": "stderr",
          "output_type": "stream",
          "text": [
            "WARNING:absl:Prompt alignment: non-exact match: [example#0] class='mention' status=AlignmentStatus.MATCH_FUZZY text='la presente Ley' char_span=(0, 15)\n",
            "WARNING:absl:Prompt alignment: non-exact match: [example#6] class='mention' status=AlignmentStatus.MATCH_FUZZY text='la presente Ley' char_span=(49, 64)\n"
          ]
        },
        {
          "name": "stdout",
          "output_type": "stream",
          "text": [
            "Error extracting mentions for row 12406E12_ARTCULO84: local variable 'art_match' referenced before assignment\n",
            "    Found 0 mentions\n",
            "\n",
            "Processing batch 29/111 (articles 85-87)\n",
            "  → Extracting government entities...\n"
          ]
        },
        {
          "name": "stderr",
          "output_type": "stream",
          "text": [
            "WARNING:absl:Prompt alignment: non-exact match: [example#0] class='mention' status=AlignmentStatus.MATCH_FUZZY text='la presente Ley' char_span=(0, 15)\n",
            "WARNING:absl:Prompt alignment: non-exact match: [example#6] class='mention' status=AlignmentStatus.MATCH_FUZZY text='la presente Ley' char_span=(49, 64)\n"
          ]
        },
        {
          "name": "stdout",
          "output_type": "stream",
          "text": [
            "    Found 3 entities\n",
            "  → Extracting article mentions...\n"
          ]
        },
        {
          "name": "stderr",
          "output_type": "stream",
          "text": [
            "WARNING:absl:Prompt alignment: non-exact match: [example#0] class='mention' status=AlignmentStatus.MATCH_FUZZY text='la presente Ley' char_span=(0, 15)\n",
            "WARNING:absl:Prompt alignment: non-exact match: [example#6] class='mention' status=AlignmentStatus.MATCH_FUZZY text='la presente Ley' char_span=(49, 64)\n"
          ]
        },
        {
          "name": "stdout",
          "output_type": "stream",
          "text": [
            "Error extracting mentions for row 12406E12_ARTCULO85: local variable 'art_match' referenced before assignment\n"
          ]
        },
        {
          "name": "stderr",
          "output_type": "stream",
          "text": [
            "WARNING:absl:Prompt alignment: non-exact match: [example#0] class='mention' status=AlignmentStatus.MATCH_FUZZY text='la presente Ley' char_span=(0, 15)\n",
            "WARNING:absl:Prompt alignment: non-exact match: [example#6] class='mention' status=AlignmentStatus.MATCH_FUZZY text='la presente Ley' char_span=(49, 64)\n"
          ]
        },
        {
          "name": "stdout",
          "output_type": "stream",
          "text": [
            "Error extracting mentions for row 12406E12_ARTCULO86: local variable 'art_match' referenced before assignment\n",
            "    Found 0 mentions\n",
            "\n",
            "Processing batch 30/111 (articles 88-90)\n",
            "  → Extracting government entities...\n"
          ]
        },
        {
          "name": "stderr",
          "output_type": "stream",
          "text": [
            "WARNING:absl:Prompt alignment: non-exact match: [example#0] class='mention' status=AlignmentStatus.MATCH_FUZZY text='la presente Ley' char_span=(0, 15)\n",
            "WARNING:absl:Prompt alignment: non-exact match: [example#6] class='mention' status=AlignmentStatus.MATCH_FUZZY text='la presente Ley' char_span=(49, 64)\n"
          ]
        },
        {
          "name": "stdout",
          "output_type": "stream",
          "text": [
            "    Found 2 entities\n",
            "  → Extracting article mentions...\n"
          ]
        },
        {
          "name": "stderr",
          "output_type": "stream",
          "text": [
            "WARNING:absl:Prompt alignment: non-exact match: [example#0] class='mention' status=AlignmentStatus.MATCH_FUZZY text='la presente Ley' char_span=(0, 15)\n",
            "WARNING:absl:Prompt alignment: non-exact match: [example#6] class='mention' status=AlignmentStatus.MATCH_FUZZY text='la presente Ley' char_span=(49, 64)\n"
          ]
        },
        {
          "name": "stdout",
          "output_type": "stream",
          "text": [
            "Error extracting mentions for row 12406E12_ARTCULO88: local variable 'art_match' referenced before assignment\n"
          ]
        },
        {
          "name": "stderr",
          "output_type": "stream",
          "text": [
            "WARNING:absl:Prompt alignment: non-exact match: [example#0] class='mention' status=AlignmentStatus.MATCH_FUZZY text='la presente Ley' char_span=(0, 15)\n",
            "WARNING:absl:Prompt alignment: non-exact match: [example#6] class='mention' status=AlignmentStatus.MATCH_FUZZY text='la presente Ley' char_span=(49, 64)\n"
          ]
        },
        {
          "name": "stdout",
          "output_type": "stream",
          "text": [
            "    Found 4 mentions\n",
            "\n",
            "Processing batch 31/111 (articles 91-93)\n",
            "  → Extracting government entities...\n"
          ]
        },
        {
          "name": "stderr",
          "output_type": "stream",
          "text": [
            "WARNING:absl:Prompt alignment: non-exact match: [example#0] class='mention' status=AlignmentStatus.MATCH_FUZZY text='la presente Ley' char_span=(0, 15)\n",
            "WARNING:absl:Prompt alignment: non-exact match: [example#6] class='mention' status=AlignmentStatus.MATCH_FUZZY text='la presente Ley' char_span=(49, 64)\n"
          ]
        },
        {
          "name": "stdout",
          "output_type": "stream",
          "text": [
            "    Found 3 entities\n",
            "  → Extracting article mentions...\n"
          ]
        },
        {
          "name": "stderr",
          "output_type": "stream",
          "text": [
            "WARNING:absl:Prompt alignment: non-exact match: [example#0] class='mention' status=AlignmentStatus.MATCH_FUZZY text='la presente Ley' char_span=(0, 15)\n",
            "WARNING:absl:Prompt alignment: non-exact match: [example#6] class='mention' status=AlignmentStatus.MATCH_FUZZY text='la presente Ley' char_span=(49, 64)\n"
          ]
        },
        {
          "name": "stdout",
          "output_type": "stream",
          "text": [
            "Error extracting mentions for row 12406E12_ARTCULO91: local variable 'art_match' referenced before assignment\n"
          ]
        },
        {
          "name": "stderr",
          "output_type": "stream",
          "text": [
            "WARNING:absl:Prompt alignment: non-exact match: [example#0] class='mention' status=AlignmentStatus.MATCH_FUZZY text='la presente Ley' char_span=(0, 15)\n",
            "WARNING:absl:Prompt alignment: non-exact match: [example#6] class='mention' status=AlignmentStatus.MATCH_FUZZY text='la presente Ley' char_span=(49, 64)\n"
          ]
        },
        {
          "name": "stdout",
          "output_type": "stream",
          "text": [
            "    Found 1 mentions\n",
            "\n",
            "Processing batch 32/111 (articles 94-96)\n",
            "  → Extracting government entities...\n"
          ]
        },
        {
          "name": "stderr",
          "output_type": "stream",
          "text": [
            "WARNING:absl:Prompt alignment: non-exact match: [example#0] class='mention' status=AlignmentStatus.MATCH_FUZZY text='la presente Ley' char_span=(0, 15)\n",
            "WARNING:absl:Prompt alignment: non-exact match: [example#6] class='mention' status=AlignmentStatus.MATCH_FUZZY text='la presente Ley' char_span=(49, 64)\n"
          ]
        },
        {
          "name": "stdout",
          "output_type": "stream",
          "text": [
            "    Found 1 entities\n",
            "  → Extracting article mentions...\n"
          ]
        },
        {
          "name": "stderr",
          "output_type": "stream",
          "text": [
            "WARNING:absl:Prompt alignment: non-exact match: [example#0] class='mention' status=AlignmentStatus.MATCH_FUZZY text='la presente Ley' char_span=(0, 15)\n",
            "WARNING:absl:Prompt alignment: non-exact match: [example#6] class='mention' status=AlignmentStatus.MATCH_FUZZY text='la presente Ley' char_span=(49, 64)\n",
            "WARNING:absl:Prompt alignment: non-exact match: [example#0] class='mention' status=AlignmentStatus.MATCH_FUZZY text='la presente Ley' char_span=(0, 15)\n",
            "WARNING:absl:Prompt alignment: non-exact match: [example#6] class='mention' status=AlignmentStatus.MATCH_FUZZY text='la presente Ley' char_span=(49, 64)\n"
          ]
        },
        {
          "name": "stdout",
          "output_type": "stream",
          "text": [
            "    Found 0 mentions\n",
            "\n",
            "Processing batch 33/111 (articles 97-99)\n",
            "  → Extracting government entities...\n"
          ]
        },
        {
          "name": "stderr",
          "output_type": "stream",
          "text": [
            "WARNING:absl:Prompt alignment: non-exact match: [example#0] class='mention' status=AlignmentStatus.MATCH_FUZZY text='la presente Ley' char_span=(0, 15)\n",
            "WARNING:absl:Prompt alignment: non-exact match: [example#6] class='mention' status=AlignmentStatus.MATCH_FUZZY text='la presente Ley' char_span=(49, 64)\n"
          ]
        },
        {
          "name": "stdout",
          "output_type": "stream",
          "text": [
            "    Found 3 entities\n",
            "  → Extracting article mentions...\n"
          ]
        },
        {
          "name": "stderr",
          "output_type": "stream",
          "text": [
            "WARNING:absl:Prompt alignment: non-exact match: [example#0] class='mention' status=AlignmentStatus.MATCH_FUZZY text='la presente Ley' char_span=(0, 15)\n",
            "WARNING:absl:Prompt alignment: non-exact match: [example#6] class='mention' status=AlignmentStatus.MATCH_FUZZY text='la presente Ley' char_span=(49, 64)\n",
            "WARNING:absl:Prompt alignment: non-exact match: [example#0] class='mention' status=AlignmentStatus.MATCH_FUZZY text='la presente Ley' char_span=(0, 15)\n",
            "WARNING:absl:Prompt alignment: non-exact match: [example#6] class='mention' status=AlignmentStatus.MATCH_FUZZY text='la presente Ley' char_span=(49, 64)\n"
          ]
        },
        {
          "name": "stdout",
          "output_type": "stream",
          "text": [
            "    Found 0 mentions\n",
            "\n",
            "Processing batch 34/111 (articles 100-102)\n",
            "  → Extracting government entities...\n"
          ]
        },
        {
          "name": "stderr",
          "output_type": "stream",
          "text": [
            "WARNING:absl:Prompt alignment: non-exact match: [example#0] class='mention' status=AlignmentStatus.MATCH_FUZZY text='la presente Ley' char_span=(0, 15)\n",
            "WARNING:absl:Prompt alignment: non-exact match: [example#6] class='mention' status=AlignmentStatus.MATCH_FUZZY text='la presente Ley' char_span=(49, 64)\n"
          ]
        },
        {
          "name": "stdout",
          "output_type": "stream",
          "text": [
            "    Found 3 entities\n",
            "  → Extracting article mentions...\n"
          ]
        },
        {
          "name": "stderr",
          "output_type": "stream",
          "text": [
            "WARNING:absl:Prompt alignment: non-exact match: [example#0] class='mention' status=AlignmentStatus.MATCH_FUZZY text='la presente Ley' char_span=(0, 15)\n",
            "WARNING:absl:Prompt alignment: non-exact match: [example#6] class='mention' status=AlignmentStatus.MATCH_FUZZY text='la presente Ley' char_span=(49, 64)\n",
            "WARNING:absl:Prompt alignment: non-exact match: [example#0] class='mention' status=AlignmentStatus.MATCH_FUZZY text='la presente Ley' char_span=(0, 15)\n",
            "WARNING:absl:Prompt alignment: non-exact match: [example#6] class='mention' status=AlignmentStatus.MATCH_FUZZY text='la presente Ley' char_span=(49, 64)\n"
          ]
        },
        {
          "name": "stdout",
          "output_type": "stream",
          "text": [
            "    Found 0 mentions\n",
            "\n",
            "Processing batch 35/111 (articles 103-105)\n",
            "  → Extracting government entities...\n"
          ]
        },
        {
          "name": "stderr",
          "output_type": "stream",
          "text": [
            "WARNING:absl:Prompt alignment: non-exact match: [example#0] class='mention' status=AlignmentStatus.MATCH_FUZZY text='la presente Ley' char_span=(0, 15)\n",
            "WARNING:absl:Prompt alignment: non-exact match: [example#6] class='mention' status=AlignmentStatus.MATCH_FUZZY text='la presente Ley' char_span=(49, 64)\n"
          ]
        },
        {
          "name": "stdout",
          "output_type": "stream",
          "text": [
            "    Found 1 entities\n",
            "  → Extracting article mentions...\n"
          ]
        },
        {
          "name": "stderr",
          "output_type": "stream",
          "text": [
            "WARNING:absl:Prompt alignment: non-exact match: [example#0] class='mention' status=AlignmentStatus.MATCH_FUZZY text='la presente Ley' char_span=(0, 15)\n",
            "WARNING:absl:Prompt alignment: non-exact match: [example#6] class='mention' status=AlignmentStatus.MATCH_FUZZY text='la presente Ley' char_span=(49, 64)\n"
          ]
        },
        {
          "name": "stdout",
          "output_type": "stream",
          "text": [
            "Error extracting mentions for row 12406E12_ARTCULO103: local variable 'art_match' referenced before assignment\n"
          ]
        },
        {
          "name": "stderr",
          "output_type": "stream",
          "text": [
            "WARNING:absl:Prompt alignment: non-exact match: [example#0] class='mention' status=AlignmentStatus.MATCH_FUZZY text='la presente Ley' char_span=(0, 15)\n",
            "WARNING:absl:Prompt alignment: non-exact match: [example#6] class='mention' status=AlignmentStatus.MATCH_FUZZY text='la presente Ley' char_span=(49, 64)\n"
          ]
        },
        {
          "name": "stdout",
          "output_type": "stream",
          "text": [
            "    Found 0 mentions\n",
            "\n",
            "Processing batch 36/111 (articles 106-108)\n",
            "  → Extracting government entities...\n"
          ]
        },
        {
          "name": "stderr",
          "output_type": "stream",
          "text": [
            "WARNING:absl:Prompt alignment: non-exact match: [example#0] class='mention' status=AlignmentStatus.MATCH_FUZZY text='la presente Ley' char_span=(0, 15)\n",
            "WARNING:absl:Prompt alignment: non-exact match: [example#6] class='mention' status=AlignmentStatus.MATCH_FUZZY text='la presente Ley' char_span=(49, 64)\n"
          ]
        },
        {
          "name": "stdout",
          "output_type": "stream",
          "text": [
            "    Found 14 entities\n",
            "  → Extracting article mentions...\n"
          ]
        },
        {
          "name": "stderr",
          "output_type": "stream",
          "text": [
            "WARNING:absl:Prompt alignment: non-exact match: [example#0] class='mention' status=AlignmentStatus.MATCH_FUZZY text='la presente Ley' char_span=(0, 15)\n",
            "WARNING:absl:Prompt alignment: non-exact match: [example#6] class='mention' status=AlignmentStatus.MATCH_FUZZY text='la presente Ley' char_span=(49, 64)\n"
          ]
        },
        {
          "name": "stdout",
          "output_type": "stream",
          "text": [
            "Error extracting mentions for row 12406E12_ARTCULO106: local variable 'art_match' referenced before assignment\n"
          ]
        },
        {
          "name": "stderr",
          "output_type": "stream",
          "text": [
            "WARNING:absl:Prompt alignment: non-exact match: [example#0] class='mention' status=AlignmentStatus.MATCH_FUZZY text='la presente Ley' char_span=(0, 15)\n",
            "WARNING:absl:Prompt alignment: non-exact match: [example#6] class='mention' status=AlignmentStatus.MATCH_FUZZY text='la presente Ley' char_span=(49, 64)\n"
          ]
        },
        {
          "name": "stdout",
          "output_type": "stream",
          "text": [
            "    Found 6 mentions\n",
            "\n",
            "Processing batch 37/111 (articles 109-111)\n",
            "  → Extracting government entities...\n"
          ]
        },
        {
          "name": "stderr",
          "output_type": "stream",
          "text": [
            "WARNING:absl:Prompt alignment: non-exact match: [example#0] class='mention' status=AlignmentStatus.MATCH_FUZZY text='la presente Ley' char_span=(0, 15)\n",
            "WARNING:absl:Prompt alignment: non-exact match: [example#6] class='mention' status=AlignmentStatus.MATCH_FUZZY text='la presente Ley' char_span=(49, 64)\n"
          ]
        },
        {
          "name": "stdout",
          "output_type": "stream",
          "text": [
            "    Found 3 entities\n",
            "  → Extracting article mentions...\n"
          ]
        },
        {
          "name": "stderr",
          "output_type": "stream",
          "text": [
            "WARNING:absl:Prompt alignment: non-exact match: [example#0] class='mention' status=AlignmentStatus.MATCH_FUZZY text='la presente Ley' char_span=(0, 15)\n",
            "WARNING:absl:Prompt alignment: non-exact match: [example#6] class='mention' status=AlignmentStatus.MATCH_FUZZY text='la presente Ley' char_span=(49, 64)\n",
            "WARNING:absl:Prompt alignment: non-exact match: [example#0] class='mention' status=AlignmentStatus.MATCH_FUZZY text='la presente Ley' char_span=(0, 15)\n",
            "WARNING:absl:Prompt alignment: non-exact match: [example#6] class='mention' status=AlignmentStatus.MATCH_FUZZY text='la presente Ley' char_span=(49, 64)\n"
          ]
        },
        {
          "name": "stdout",
          "output_type": "stream",
          "text": [
            "    Found 7 mentions\n",
            "\n",
            "Processing batch 38/111 (articles 112-114)\n",
            "  → Extracting government entities...\n"
          ]
        },
        {
          "name": "stderr",
          "output_type": "stream",
          "text": [
            "WARNING:absl:Prompt alignment: non-exact match: [example#0] class='mention' status=AlignmentStatus.MATCH_FUZZY text='la presente Ley' char_span=(0, 15)\n",
            "WARNING:absl:Prompt alignment: non-exact match: [example#6] class='mention' status=AlignmentStatus.MATCH_FUZZY text='la presente Ley' char_span=(49, 64)\n"
          ]
        },
        {
          "name": "stdout",
          "output_type": "stream",
          "text": [
            "    Found 3 entities\n",
            "  → Extracting article mentions...\n"
          ]
        },
        {
          "name": "stderr",
          "output_type": "stream",
          "text": [
            "WARNING:absl:Prompt alignment: non-exact match: [example#0] class='mention' status=AlignmentStatus.MATCH_FUZZY text='la presente Ley' char_span=(0, 15)\n",
            "WARNING:absl:Prompt alignment: non-exact match: [example#6] class='mention' status=AlignmentStatus.MATCH_FUZZY text='la presente Ley' char_span=(49, 64)\n",
            "WARNING:absl:Prompt alignment: non-exact match: [example#0] class='mention' status=AlignmentStatus.MATCH_FUZZY text='la presente Ley' char_span=(0, 15)\n",
            "WARNING:absl:Prompt alignment: non-exact match: [example#6] class='mention' status=AlignmentStatus.MATCH_FUZZY text='la presente Ley' char_span=(49, 64)\n"
          ]
        },
        {
          "name": "stdout",
          "output_type": "stream",
          "text": [
            "    Found 8 mentions\n",
            "\n",
            "Processing batch 39/111 (articles 115-117)\n",
            "  → Extracting government entities...\n"
          ]
        },
        {
          "name": "stderr",
          "output_type": "stream",
          "text": [
            "WARNING:absl:Prompt alignment: non-exact match: [example#0] class='mention' status=AlignmentStatus.MATCH_FUZZY text='la presente Ley' char_span=(0, 15)\n",
            "WARNING:absl:Prompt alignment: non-exact match: [example#6] class='mention' status=AlignmentStatus.MATCH_FUZZY text='la presente Ley' char_span=(49, 64)\n"
          ]
        },
        {
          "name": "stdout",
          "output_type": "stream",
          "text": [
            "    Found 1 entities\n",
            "  → Extracting article mentions...\n"
          ]
        },
        {
          "name": "stderr",
          "output_type": "stream",
          "text": [
            "WARNING:absl:Prompt alignment: non-exact match: [example#0] class='mention' status=AlignmentStatus.MATCH_FUZZY text='la presente Ley' char_span=(0, 15)\n",
            "WARNING:absl:Prompt alignment: non-exact match: [example#6] class='mention' status=AlignmentStatus.MATCH_FUZZY text='la presente Ley' char_span=(49, 64)\n",
            "WARNING:absl:Prompt alignment: non-exact match: [example#0] class='mention' status=AlignmentStatus.MATCH_FUZZY text='la presente Ley' char_span=(0, 15)\n",
            "WARNING:absl:Prompt alignment: non-exact match: [example#6] class='mention' status=AlignmentStatus.MATCH_FUZZY text='la presente Ley' char_span=(49, 64)\n"
          ]
        },
        {
          "name": "stdout",
          "output_type": "stream",
          "text": [
            "    Found 0 mentions\n",
            "\n",
            "Processing batch 40/111 (articles 118-120)\n",
            "  → Extracting government entities...\n"
          ]
        },
        {
          "name": "stderr",
          "output_type": "stream",
          "text": [
            "WARNING:absl:Prompt alignment: non-exact match: [example#0] class='mention' status=AlignmentStatus.MATCH_FUZZY text='la presente Ley' char_span=(0, 15)\n",
            "WARNING:absl:Prompt alignment: non-exact match: [example#6] class='mention' status=AlignmentStatus.MATCH_FUZZY text='la presente Ley' char_span=(49, 64)\n"
          ]
        },
        {
          "name": "stdout",
          "output_type": "stream",
          "text": [
            "    Found 10 entities\n",
            "  → Extracting article mentions...\n"
          ]
        },
        {
          "name": "stderr",
          "output_type": "stream",
          "text": [
            "WARNING:absl:Prompt alignment: non-exact match: [example#0] class='mention' status=AlignmentStatus.MATCH_FUZZY text='la presente Ley' char_span=(0, 15)\n",
            "WARNING:absl:Prompt alignment: non-exact match: [example#6] class='mention' status=AlignmentStatus.MATCH_FUZZY text='la presente Ley' char_span=(49, 64)\n"
          ]
        },
        {
          "name": "stdout",
          "output_type": "stream",
          "text": [
            "Error extracting mentions for row 12406E12_ARTCULO118: local variable 'art_match' referenced before assignment\n"
          ]
        },
        {
          "name": "stderr",
          "output_type": "stream",
          "text": [
            "WARNING:absl:Prompt alignment: non-exact match: [example#0] class='mention' status=AlignmentStatus.MATCH_FUZZY text='la presente Ley' char_span=(0, 15)\n",
            "WARNING:absl:Prompt alignment: non-exact match: [example#6] class='mention' status=AlignmentStatus.MATCH_FUZZY text='la presente Ley' char_span=(49, 64)\n"
          ]
        },
        {
          "name": "stdout",
          "output_type": "stream",
          "text": [
            "    Found 9 mentions\n",
            "\n",
            "Processing batch 41/111 (articles 121-123)\n",
            "  → Extracting government entities...\n"
          ]
        },
        {
          "name": "stderr",
          "output_type": "stream",
          "text": [
            "WARNING:absl:Prompt alignment: non-exact match: [example#0] class='mention' status=AlignmentStatus.MATCH_FUZZY text='la presente Ley' char_span=(0, 15)\n",
            "WARNING:absl:Prompt alignment: non-exact match: [example#6] class='mention' status=AlignmentStatus.MATCH_FUZZY text='la presente Ley' char_span=(49, 64)\n"
          ]
        },
        {
          "name": "stdout",
          "output_type": "stream",
          "text": [
            "    Found 3 entities\n",
            "  → Extracting article mentions...\n"
          ]
        },
        {
          "name": "stderr",
          "output_type": "stream",
          "text": [
            "WARNING:absl:Prompt alignment: non-exact match: [example#0] class='mention' status=AlignmentStatus.MATCH_FUZZY text='la presente Ley' char_span=(0, 15)\n",
            "WARNING:absl:Prompt alignment: non-exact match: [example#6] class='mention' status=AlignmentStatus.MATCH_FUZZY text='la presente Ley' char_span=(49, 64)\n"
          ]
        },
        {
          "name": "stdout",
          "output_type": "stream",
          "text": [
            "Error extracting mentions for row 12406E12_ARTCULO121: local variable 'art_match' referenced before assignment\n"
          ]
        },
        {
          "name": "stderr",
          "output_type": "stream",
          "text": [
            "WARNING:absl:Prompt alignment: non-exact match: [example#0] class='mention' status=AlignmentStatus.MATCH_FUZZY text='la presente Ley' char_span=(0, 15)\n",
            "WARNING:absl:Prompt alignment: non-exact match: [example#6] class='mention' status=AlignmentStatus.MATCH_FUZZY text='la presente Ley' char_span=(49, 64)\n"
          ]
        },
        {
          "name": "stdout",
          "output_type": "stream",
          "text": [
            "Error extracting mentions for row 12406E12_ARTCULO122: local variable 'art_match' referenced before assignment\n",
            "Error extracting mentions for row 12406E12_ARTCULO123: local variable 'art_match' referenced before assignment\n",
            "    Found 0 mentions\n",
            "\n",
            "Processing batch 42/111 (articles 124-126)\n",
            "  → Extracting government entities...\n"
          ]
        },
        {
          "name": "stderr",
          "output_type": "stream",
          "text": [
            "WARNING:absl:Prompt alignment: non-exact match: [example#0] class='mention' status=AlignmentStatus.MATCH_FUZZY text='la presente Ley' char_span=(0, 15)\n",
            "WARNING:absl:Prompt alignment: non-exact match: [example#6] class='mention' status=AlignmentStatus.MATCH_FUZZY text='la presente Ley' char_span=(49, 64)\n"
          ]
        },
        {
          "name": "stdout",
          "output_type": "stream",
          "text": [
            "    Found 8 entities\n",
            "  → Extracting article mentions...\n"
          ]
        },
        {
          "name": "stderr",
          "output_type": "stream",
          "text": [
            "WARNING:absl:Prompt alignment: non-exact match: [example#0] class='mention' status=AlignmentStatus.MATCH_FUZZY text='la presente Ley' char_span=(0, 15)\n",
            "WARNING:absl:Prompt alignment: non-exact match: [example#6] class='mention' status=AlignmentStatus.MATCH_FUZZY text='la presente Ley' char_span=(49, 64)\n",
            "WARNING:absl:Prompt alignment: non-exact match: [example#0] class='mention' status=AlignmentStatus.MATCH_FUZZY text='la presente Ley' char_span=(0, 15)\n",
            "WARNING:absl:Prompt alignment: non-exact match: [example#6] class='mention' status=AlignmentStatus.MATCH_FUZZY text='la presente Ley' char_span=(49, 64)\n"
          ]
        },
        {
          "name": "stdout",
          "output_type": "stream",
          "text": [
            "    Found 0 mentions\n",
            "\n",
            "Processing batch 43/111 (articles 127-129)\n",
            "  → Extracting government entities...\n"
          ]
        },
        {
          "name": "stderr",
          "output_type": "stream",
          "text": [
            "WARNING:absl:Prompt alignment: non-exact match: [example#0] class='mention' status=AlignmentStatus.MATCH_FUZZY text='la presente Ley' char_span=(0, 15)\n",
            "WARNING:absl:Prompt alignment: non-exact match: [example#6] class='mention' status=AlignmentStatus.MATCH_FUZZY text='la presente Ley' char_span=(49, 64)\n"
          ]
        },
        {
          "name": "stdout",
          "output_type": "stream",
          "text": [
            "    Found 0 entities\n",
            "  → Extracting article mentions...\n"
          ]
        },
        {
          "name": "stderr",
          "output_type": "stream",
          "text": [
            "WARNING:absl:Prompt alignment: non-exact match: [example#0] class='mention' status=AlignmentStatus.MATCH_FUZZY text='la presente Ley' char_span=(0, 15)\n",
            "WARNING:absl:Prompt alignment: non-exact match: [example#6] class='mention' status=AlignmentStatus.MATCH_FUZZY text='la presente Ley' char_span=(49, 64)\n",
            "WARNING:absl:Prompt alignment: non-exact match: [example#0] class='mention' status=AlignmentStatus.MATCH_FUZZY text='la presente Ley' char_span=(0, 15)\n",
            "WARNING:absl:Prompt alignment: non-exact match: [example#6] class='mention' status=AlignmentStatus.MATCH_FUZZY text='la presente Ley' char_span=(49, 64)\n"
          ]
        },
        {
          "name": "stdout",
          "output_type": "stream",
          "text": [
            "    Found 0 mentions\n",
            "\n",
            "Processing batch 44/111 (articles 130-132)\n",
            "  → Extracting government entities...\n"
          ]
        },
        {
          "name": "stderr",
          "output_type": "stream",
          "text": [
            "WARNING:absl:Prompt alignment: non-exact match: [example#0] class='mention' status=AlignmentStatus.MATCH_FUZZY text='la presente Ley' char_span=(0, 15)\n",
            "WARNING:absl:Prompt alignment: non-exact match: [example#6] class='mention' status=AlignmentStatus.MATCH_FUZZY text='la presente Ley' char_span=(49, 64)\n"
          ]
        },
        {
          "name": "stdout",
          "output_type": "stream",
          "text": [
            "    Found 0 entities\n",
            "  → Extracting article mentions...\n"
          ]
        },
        {
          "name": "stderr",
          "output_type": "stream",
          "text": [
            "WARNING:absl:Prompt alignment: non-exact match: [example#0] class='mention' status=AlignmentStatus.MATCH_FUZZY text='la presente Ley' char_span=(0, 15)\n",
            "WARNING:absl:Prompt alignment: non-exact match: [example#6] class='mention' status=AlignmentStatus.MATCH_FUZZY text='la presente Ley' char_span=(49, 64)\n",
            "WARNING:absl:Prompt alignment: non-exact match: [example#0] class='mention' status=AlignmentStatus.MATCH_FUZZY text='la presente Ley' char_span=(0, 15)\n",
            "WARNING:absl:Prompt alignment: non-exact match: [example#6] class='mention' status=AlignmentStatus.MATCH_FUZZY text='la presente Ley' char_span=(49, 64)\n"
          ]
        },
        {
          "name": "stdout",
          "output_type": "stream",
          "text": [
            "    Found 0 mentions\n",
            "\n",
            "Processing batch 45/111 (articles 133-135)\n",
            "  → Extracting government entities...\n"
          ]
        },
        {
          "name": "stderr",
          "output_type": "stream",
          "text": [
            "WARNING:absl:Prompt alignment: non-exact match: [example#0] class='mention' status=AlignmentStatus.MATCH_FUZZY text='la presente Ley' char_span=(0, 15)\n",
            "WARNING:absl:Prompt alignment: non-exact match: [example#6] class='mention' status=AlignmentStatus.MATCH_FUZZY text='la presente Ley' char_span=(49, 64)\n"
          ]
        },
        {
          "name": "stdout",
          "output_type": "stream",
          "text": [
            "    Found 5 entities\n",
            "  → Extracting article mentions...\n"
          ]
        },
        {
          "name": "stderr",
          "output_type": "stream",
          "text": [
            "WARNING:absl:Prompt alignment: non-exact match: [example#0] class='mention' status=AlignmentStatus.MATCH_FUZZY text='la presente Ley' char_span=(0, 15)\n",
            "WARNING:absl:Prompt alignment: non-exact match: [example#6] class='mention' status=AlignmentStatus.MATCH_FUZZY text='la presente Ley' char_span=(49, 64)\n"
          ]
        },
        {
          "name": "stdout",
          "output_type": "stream",
          "text": [
            "Error extracting mentions for row 12406E12_ARTCULO133: local variable 'art_match' referenced before assignment\n"
          ]
        },
        {
          "name": "stderr",
          "output_type": "stream",
          "text": [
            "WARNING:absl:Prompt alignment: non-exact match: [example#0] class='mention' status=AlignmentStatus.MATCH_FUZZY text='la presente Ley' char_span=(0, 15)\n",
            "WARNING:absl:Prompt alignment: non-exact match: [example#6] class='mention' status=AlignmentStatus.MATCH_FUZZY text='la presente Ley' char_span=(49, 64)\n"
          ]
        },
        {
          "name": "stdout",
          "output_type": "stream",
          "text": [
            "    Found 3 mentions\n",
            "\n",
            "Processing batch 46/111 (articles 136-138)\n",
            "  → Extracting government entities...\n"
          ]
        },
        {
          "name": "stderr",
          "output_type": "stream",
          "text": [
            "WARNING:absl:Prompt alignment: non-exact match: [example#0] class='mention' status=AlignmentStatus.MATCH_FUZZY text='la presente Ley' char_span=(0, 15)\n",
            "WARNING:absl:Prompt alignment: non-exact match: [example#6] class='mention' status=AlignmentStatus.MATCH_FUZZY text='la presente Ley' char_span=(49, 64)\n"
          ]
        },
        {
          "name": "stdout",
          "output_type": "stream",
          "text": [
            "    Found 3 entities\n",
            "  → Extracting article mentions...\n"
          ]
        },
        {
          "name": "stderr",
          "output_type": "stream",
          "text": [
            "WARNING:absl:Prompt alignment: non-exact match: [example#0] class='mention' status=AlignmentStatus.MATCH_FUZZY text='la presente Ley' char_span=(0, 15)\n",
            "WARNING:absl:Prompt alignment: non-exact match: [example#6] class='mention' status=AlignmentStatus.MATCH_FUZZY text='la presente Ley' char_span=(49, 64)\n",
            "WARNING:absl:Prompt alignment: non-exact match: [example#0] class='mention' status=AlignmentStatus.MATCH_FUZZY text='la presente Ley' char_span=(0, 15)\n",
            "WARNING:absl:Prompt alignment: non-exact match: [example#6] class='mention' status=AlignmentStatus.MATCH_FUZZY text='la presente Ley' char_span=(49, 64)\n"
          ]
        },
        {
          "name": "stdout",
          "output_type": "stream",
          "text": [
            "    Found 13 mentions\n",
            "\n",
            "Processing batch 47/111 (articles 139-141)\n",
            "  → Extracting government entities...\n"
          ]
        },
        {
          "name": "stderr",
          "output_type": "stream",
          "text": [
            "WARNING:absl:Prompt alignment: non-exact match: [example#0] class='mention' status=AlignmentStatus.MATCH_FUZZY text='la presente Ley' char_span=(0, 15)\n",
            "WARNING:absl:Prompt alignment: non-exact match: [example#6] class='mention' status=AlignmentStatus.MATCH_FUZZY text='la presente Ley' char_span=(49, 64)\n"
          ]
        },
        {
          "name": "stdout",
          "output_type": "stream",
          "text": [
            "    Found 7 entities\n",
            "  → Extracting article mentions...\n"
          ]
        },
        {
          "name": "stderr",
          "output_type": "stream",
          "text": [
            "WARNING:absl:Prompt alignment: non-exact match: [example#0] class='mention' status=AlignmentStatus.MATCH_FUZZY text='la presente Ley' char_span=(0, 15)\n",
            "WARNING:absl:Prompt alignment: non-exact match: [example#6] class='mention' status=AlignmentStatus.MATCH_FUZZY text='la presente Ley' char_span=(49, 64)\n",
            "WARNING:absl:Prompt alignment: non-exact match: [example#0] class='mention' status=AlignmentStatus.MATCH_FUZZY text='la presente Ley' char_span=(0, 15)\n",
            "WARNING:absl:Prompt alignment: non-exact match: [example#6] class='mention' status=AlignmentStatus.MATCH_FUZZY text='la presente Ley' char_span=(49, 64)\n"
          ]
        },
        {
          "name": "stdout",
          "output_type": "stream",
          "text": [
            "    Found 9 mentions\n",
            "\n",
            "Processing batch 48/111 (articles 142-144)\n",
            "  → Extracting government entities...\n"
          ]
        },
        {
          "name": "stderr",
          "output_type": "stream",
          "text": [
            "WARNING:absl:Prompt alignment: non-exact match: [example#0] class='mention' status=AlignmentStatus.MATCH_FUZZY text='la presente Ley' char_span=(0, 15)\n",
            "WARNING:absl:Prompt alignment: non-exact match: [example#6] class='mention' status=AlignmentStatus.MATCH_FUZZY text='la presente Ley' char_span=(49, 64)\n"
          ]
        },
        {
          "name": "stdout",
          "output_type": "stream",
          "text": [
            "    Found 3 entities\n",
            "  → Extracting article mentions...\n"
          ]
        },
        {
          "name": "stderr",
          "output_type": "stream",
          "text": [
            "WARNING:absl:Prompt alignment: non-exact match: [example#0] class='mention' status=AlignmentStatus.MATCH_FUZZY text='la presente Ley' char_span=(0, 15)\n",
            "WARNING:absl:Prompt alignment: non-exact match: [example#6] class='mention' status=AlignmentStatus.MATCH_FUZZY text='la presente Ley' char_span=(49, 64)\n",
            "WARNING:absl:Prompt alignment: non-exact match: [example#0] class='mention' status=AlignmentStatus.MATCH_FUZZY text='la presente Ley' char_span=(0, 15)\n",
            "WARNING:absl:Prompt alignment: non-exact match: [example#6] class='mention' status=AlignmentStatus.MATCH_FUZZY text='la presente Ley' char_span=(49, 64)\n"
          ]
        },
        {
          "name": "stdout",
          "output_type": "stream",
          "text": [
            "    Found 9 mentions\n",
            "\n",
            "Processing batch 49/111 (articles 145-147)\n",
            "  → Extracting government entities...\n"
          ]
        },
        {
          "name": "stderr",
          "output_type": "stream",
          "text": [
            "WARNING:absl:Prompt alignment: non-exact match: [example#0] class='mention' status=AlignmentStatus.MATCH_FUZZY text='la presente Ley' char_span=(0, 15)\n",
            "WARNING:absl:Prompt alignment: non-exact match: [example#6] class='mention' status=AlignmentStatus.MATCH_FUZZY text='la presente Ley' char_span=(49, 64)\n"
          ]
        },
        {
          "name": "stdout",
          "output_type": "stream",
          "text": [
            "    Found 3 entities\n",
            "  → Extracting article mentions...\n"
          ]
        },
        {
          "name": "stderr",
          "output_type": "stream",
          "text": [
            "WARNING:absl:Prompt alignment: non-exact match: [example#0] class='mention' status=AlignmentStatus.MATCH_FUZZY text='la presente Ley' char_span=(0, 15)\n",
            "WARNING:absl:Prompt alignment: non-exact match: [example#6] class='mention' status=AlignmentStatus.MATCH_FUZZY text='la presente Ley' char_span=(49, 64)\n",
            "WARNING:absl:Prompt alignment: non-exact match: [example#0] class='mention' status=AlignmentStatus.MATCH_FUZZY text='la presente Ley' char_span=(0, 15)\n",
            "WARNING:absl:Prompt alignment: non-exact match: [example#6] class='mention' status=AlignmentStatus.MATCH_FUZZY text='la presente Ley' char_span=(49, 64)\n"
          ]
        },
        {
          "name": "stdout",
          "output_type": "stream",
          "text": [
            "Error extracting mentions for row 12406E12_ARTCULO146: local variable 'art_match' referenced before assignment\n",
            "    Found 3 mentions\n",
            "\n",
            "Processing batch 50/111 (articles 148-150)\n",
            "  → Extracting government entities...\n"
          ]
        },
        {
          "name": "stderr",
          "output_type": "stream",
          "text": [
            "WARNING:absl:Prompt alignment: non-exact match: [example#0] class='mention' status=AlignmentStatus.MATCH_FUZZY text='la presente Ley' char_span=(0, 15)\n",
            "WARNING:absl:Prompt alignment: non-exact match: [example#6] class='mention' status=AlignmentStatus.MATCH_FUZZY text='la presente Ley' char_span=(49, 64)\n"
          ]
        },
        {
          "name": "stdout",
          "output_type": "stream",
          "text": [
            "    Found 4 entities\n",
            "  → Extracting article mentions...\n"
          ]
        },
        {
          "name": "stderr",
          "output_type": "stream",
          "text": [
            "WARNING:absl:Prompt alignment: non-exact match: [example#0] class='mention' status=AlignmentStatus.MATCH_FUZZY text='la presente Ley' char_span=(0, 15)\n",
            "WARNING:absl:Prompt alignment: non-exact match: [example#6] class='mention' status=AlignmentStatus.MATCH_FUZZY text='la presente Ley' char_span=(49, 64)\n",
            "WARNING:absl:Prompt alignment: non-exact match: [example#0] class='mention' status=AlignmentStatus.MATCH_FUZZY text='la presente Ley' char_span=(0, 15)\n",
            "WARNING:absl:Prompt alignment: non-exact match: [example#6] class='mention' status=AlignmentStatus.MATCH_FUZZY text='la presente Ley' char_span=(49, 64)\n"
          ]
        },
        {
          "name": "stdout",
          "output_type": "stream",
          "text": [
            "    Found 10 mentions\n",
            "\n",
            "Processing batch 51/111 (articles 151-153)\n",
            "  → Extracting government entities...\n"
          ]
        },
        {
          "name": "stderr",
          "output_type": "stream",
          "text": [
            "WARNING:absl:Prompt alignment: non-exact match: [example#0] class='mention' status=AlignmentStatus.MATCH_FUZZY text='la presente Ley' char_span=(0, 15)\n",
            "WARNING:absl:Prompt alignment: non-exact match: [example#6] class='mention' status=AlignmentStatus.MATCH_FUZZY text='la presente Ley' char_span=(49, 64)\n"
          ]
        },
        {
          "name": "stdout",
          "output_type": "stream",
          "text": [
            "    Found 9 entities\n",
            "  → Extracting article mentions...\n"
          ]
        },
        {
          "name": "stderr",
          "output_type": "stream",
          "text": [
            "WARNING:absl:Prompt alignment: non-exact match: [example#0] class='mention' status=AlignmentStatus.MATCH_FUZZY text='la presente Ley' char_span=(0, 15)\n",
            "WARNING:absl:Prompt alignment: non-exact match: [example#6] class='mention' status=AlignmentStatus.MATCH_FUZZY text='la presente Ley' char_span=(49, 64)\n",
            "WARNING:absl:Prompt alignment: non-exact match: [example#0] class='mention' status=AlignmentStatus.MATCH_FUZZY text='la presente Ley' char_span=(0, 15)\n",
            "WARNING:absl:Prompt alignment: non-exact match: [example#6] class='mention' status=AlignmentStatus.MATCH_FUZZY text='la presente Ley' char_span=(49, 64)\n"
          ]
        },
        {
          "name": "stdout",
          "output_type": "stream",
          "text": [
            "    Found 3 mentions\n",
            "\n",
            "Processing batch 52/111 (articles 154-156)\n",
            "  → Extracting government entities...\n"
          ]
        },
        {
          "name": "stderr",
          "output_type": "stream",
          "text": [
            "WARNING:absl:Prompt alignment: non-exact match: [example#0] class='mention' status=AlignmentStatus.MATCH_FUZZY text='la presente Ley' char_span=(0, 15)\n",
            "WARNING:absl:Prompt alignment: non-exact match: [example#6] class='mention' status=AlignmentStatus.MATCH_FUZZY text='la presente Ley' char_span=(49, 64)\n"
          ]
        },
        {
          "name": "stdout",
          "output_type": "stream",
          "text": [
            "    Found 0 entities\n",
            "  → Extracting article mentions...\n"
          ]
        },
        {
          "name": "stderr",
          "output_type": "stream",
          "text": [
            "WARNING:absl:Prompt alignment: non-exact match: [example#0] class='mention' status=AlignmentStatus.MATCH_FUZZY text='la presente Ley' char_span=(0, 15)\n",
            "WARNING:absl:Prompt alignment: non-exact match: [example#6] class='mention' status=AlignmentStatus.MATCH_FUZZY text='la presente Ley' char_span=(49, 64)\n",
            "WARNING:absl:Prompt alignment: non-exact match: [example#0] class='mention' status=AlignmentStatus.MATCH_FUZZY text='la presente Ley' char_span=(0, 15)\n",
            "WARNING:absl:Prompt alignment: non-exact match: [example#6] class='mention' status=AlignmentStatus.MATCH_FUZZY text='la presente Ley' char_span=(49, 64)\n"
          ]
        },
        {
          "name": "stdout",
          "output_type": "stream",
          "text": [
            "Error extracting mentions for row 12406E12_ARTCULO156: local variable 'art_match' referenced before assignment\n",
            "    Found 0 mentions\n",
            "\n",
            "Processing batch 53/111 (articles 157-159)\n",
            "  → Extracting government entities...\n"
          ]
        },
        {
          "name": "stderr",
          "output_type": "stream",
          "text": [
            "WARNING:absl:Prompt alignment: non-exact match: [example#0] class='mention' status=AlignmentStatus.MATCH_FUZZY text='la presente Ley' char_span=(0, 15)\n",
            "WARNING:absl:Prompt alignment: non-exact match: [example#6] class='mention' status=AlignmentStatus.MATCH_FUZZY text='la presente Ley' char_span=(49, 64)\n"
          ]
        },
        {
          "name": "stdout",
          "output_type": "stream",
          "text": [
            "    Found 3 entities\n",
            "  → Extracting article mentions...\n"
          ]
        },
        {
          "name": "stderr",
          "output_type": "stream",
          "text": [
            "WARNING:absl:Prompt alignment: non-exact match: [example#0] class='mention' status=AlignmentStatus.MATCH_FUZZY text='la presente Ley' char_span=(0, 15)\n",
            "WARNING:absl:Prompt alignment: non-exact match: [example#6] class='mention' status=AlignmentStatus.MATCH_FUZZY text='la presente Ley' char_span=(49, 64)\n",
            "WARNING:absl:Prompt alignment: non-exact match: [example#0] class='mention' status=AlignmentStatus.MATCH_FUZZY text='la presente Ley' char_span=(0, 15)\n",
            "WARNING:absl:Prompt alignment: non-exact match: [example#6] class='mention' status=AlignmentStatus.MATCH_FUZZY text='la presente Ley' char_span=(49, 64)\n"
          ]
        },
        {
          "name": "stdout",
          "output_type": "stream",
          "text": [
            "    Found 4 mentions\n",
            "\n",
            "Processing batch 54/111 (articles 160-162)\n",
            "  → Extracting government entities...\n"
          ]
        },
        {
          "name": "stderr",
          "output_type": "stream",
          "text": [
            "WARNING:absl:Prompt alignment: non-exact match: [example#0] class='mention' status=AlignmentStatus.MATCH_FUZZY text='la presente Ley' char_span=(0, 15)\n",
            "WARNING:absl:Prompt alignment: non-exact match: [example#6] class='mention' status=AlignmentStatus.MATCH_FUZZY text='la presente Ley' char_span=(49, 64)\n"
          ]
        },
        {
          "name": "stdout",
          "output_type": "stream",
          "text": [
            "    Found 4 entities\n",
            "  → Extracting article mentions...\n"
          ]
        },
        {
          "name": "stderr",
          "output_type": "stream",
          "text": [
            "WARNING:absl:Prompt alignment: non-exact match: [example#0] class='mention' status=AlignmentStatus.MATCH_FUZZY text='la presente Ley' char_span=(0, 15)\n",
            "WARNING:absl:Prompt alignment: non-exact match: [example#6] class='mention' status=AlignmentStatus.MATCH_FUZZY text='la presente Ley' char_span=(49, 64)\n",
            "WARNING:absl:Prompt alignment: non-exact match: [example#0] class='mention' status=AlignmentStatus.MATCH_FUZZY text='la presente Ley' char_span=(0, 15)\n",
            "WARNING:absl:Prompt alignment: non-exact match: [example#6] class='mention' status=AlignmentStatus.MATCH_FUZZY text='la presente Ley' char_span=(49, 64)\n"
          ]
        },
        {
          "name": "stdout",
          "output_type": "stream",
          "text": [
            "    Found 4 mentions\n",
            "\n",
            "Processing batch 55/111 (articles 163-165)\n",
            "  → Extracting government entities...\n"
          ]
        },
        {
          "name": "stderr",
          "output_type": "stream",
          "text": [
            "WARNING:absl:Prompt alignment: non-exact match: [example#0] class='mention' status=AlignmentStatus.MATCH_FUZZY text='la presente Ley' char_span=(0, 15)\n",
            "WARNING:absl:Prompt alignment: non-exact match: [example#6] class='mention' status=AlignmentStatus.MATCH_FUZZY text='la presente Ley' char_span=(49, 64)\n"
          ]
        },
        {
          "name": "stdout",
          "output_type": "stream",
          "text": [
            "    Found 3 entities\n",
            "  → Extracting article mentions...\n"
          ]
        },
        {
          "name": "stderr",
          "output_type": "stream",
          "text": [
            "WARNING:absl:Prompt alignment: non-exact match: [example#0] class='mention' status=AlignmentStatus.MATCH_FUZZY text='la presente Ley' char_span=(0, 15)\n",
            "WARNING:absl:Prompt alignment: non-exact match: [example#6] class='mention' status=AlignmentStatus.MATCH_FUZZY text='la presente Ley' char_span=(49, 64)\n",
            "WARNING:absl:Prompt alignment: non-exact match: [example#0] class='mention' status=AlignmentStatus.MATCH_FUZZY text='la presente Ley' char_span=(0, 15)\n",
            "WARNING:absl:Prompt alignment: non-exact match: [example#6] class='mention' status=AlignmentStatus.MATCH_FUZZY text='la presente Ley' char_span=(49, 64)\n"
          ]
        },
        {
          "name": "stdout",
          "output_type": "stream",
          "text": [
            "    Found 0 mentions\n",
            "\n",
            "Processing batch 56/111 (articles 166-168)\n",
            "  → Extracting government entities...\n"
          ]
        },
        {
          "name": "stderr",
          "output_type": "stream",
          "text": [
            "WARNING:absl:Prompt alignment: non-exact match: [example#0] class='mention' status=AlignmentStatus.MATCH_FUZZY text='la presente Ley' char_span=(0, 15)\n",
            "WARNING:absl:Prompt alignment: non-exact match: [example#6] class='mention' status=AlignmentStatus.MATCH_FUZZY text='la presente Ley' char_span=(49, 64)\n"
          ]
        },
        {
          "name": "stdout",
          "output_type": "stream",
          "text": [
            "    Found 3 entities\n",
            "  → Extracting article mentions...\n"
          ]
        },
        {
          "name": "stderr",
          "output_type": "stream",
          "text": [
            "WARNING:absl:Prompt alignment: non-exact match: [example#0] class='mention' status=AlignmentStatus.MATCH_FUZZY text='la presente Ley' char_span=(0, 15)\n",
            "WARNING:absl:Prompt alignment: non-exact match: [example#6] class='mention' status=AlignmentStatus.MATCH_FUZZY text='la presente Ley' char_span=(49, 64)\n",
            "WARNING:absl:Prompt alignment: non-exact match: [example#0] class='mention' status=AlignmentStatus.MATCH_FUZZY text='la presente Ley' char_span=(0, 15)\n",
            "WARNING:absl:Prompt alignment: non-exact match: [example#6] class='mention' status=AlignmentStatus.MATCH_FUZZY text='la presente Ley' char_span=(49, 64)\n"
          ]
        },
        {
          "name": "stdout",
          "output_type": "stream",
          "text": [
            "    Found 5 mentions\n",
            "\n",
            "Processing batch 57/111 (articles 169-171)\n",
            "  → Extracting government entities...\n"
          ]
        },
        {
          "name": "stderr",
          "output_type": "stream",
          "text": [
            "WARNING:absl:Prompt alignment: non-exact match: [example#0] class='mention' status=AlignmentStatus.MATCH_FUZZY text='la presente Ley' char_span=(0, 15)\n",
            "WARNING:absl:Prompt alignment: non-exact match: [example#6] class='mention' status=AlignmentStatus.MATCH_FUZZY text='la presente Ley' char_span=(49, 64)\n"
          ]
        },
        {
          "name": "stdout",
          "output_type": "stream",
          "text": [
            "    Found 3 entities\n",
            "  → Extracting article mentions...\n"
          ]
        },
        {
          "name": "stderr",
          "output_type": "stream",
          "text": [
            "WARNING:absl:Prompt alignment: non-exact match: [example#0] class='mention' status=AlignmentStatus.MATCH_FUZZY text='la presente Ley' char_span=(0, 15)\n",
            "WARNING:absl:Prompt alignment: non-exact match: [example#6] class='mention' status=AlignmentStatus.MATCH_FUZZY text='la presente Ley' char_span=(49, 64)\n",
            "WARNING:absl:Prompt alignment: non-exact match: [example#0] class='mention' status=AlignmentStatus.MATCH_FUZZY text='la presente Ley' char_span=(0, 15)\n",
            "WARNING:absl:Prompt alignment: non-exact match: [example#6] class='mention' status=AlignmentStatus.MATCH_FUZZY text='la presente Ley' char_span=(49, 64)\n"
          ]
        },
        {
          "name": "stdout",
          "output_type": "stream",
          "text": [
            "    Found 3 mentions\n",
            "\n",
            "Processing batch 58/111 (articles 172-174)\n",
            "  → Extracting government entities...\n"
          ]
        },
        {
          "name": "stderr",
          "output_type": "stream",
          "text": [
            "WARNING:absl:Prompt alignment: non-exact match: [example#0] class='mention' status=AlignmentStatus.MATCH_FUZZY text='la presente Ley' char_span=(0, 15)\n",
            "WARNING:absl:Prompt alignment: non-exact match: [example#6] class='mention' status=AlignmentStatus.MATCH_FUZZY text='la presente Ley' char_span=(49, 64)\n"
          ]
        },
        {
          "name": "stdout",
          "output_type": "stream",
          "text": [
            "    Found 4 entities\n",
            "  → Extracting article mentions...\n"
          ]
        },
        {
          "name": "stderr",
          "output_type": "stream",
          "text": [
            "WARNING:absl:Prompt alignment: non-exact match: [example#0] class='mention' status=AlignmentStatus.MATCH_FUZZY text='la presente Ley' char_span=(0, 15)\n",
            "WARNING:absl:Prompt alignment: non-exact match: [example#6] class='mention' status=AlignmentStatus.MATCH_FUZZY text='la presente Ley' char_span=(49, 64)\n",
            "WARNING:absl:Prompt alignment: non-exact match: [example#0] class='mention' status=AlignmentStatus.MATCH_FUZZY text='la presente Ley' char_span=(0, 15)\n",
            "WARNING:absl:Prompt alignment: non-exact match: [example#6] class='mention' status=AlignmentStatus.MATCH_FUZZY text='la presente Ley' char_span=(49, 64)\n"
          ]
        },
        {
          "name": "stdout",
          "output_type": "stream",
          "text": [
            "    Found 1 mentions\n",
            "\n",
            "Processing batch 59/111 (articles 175-177)\n",
            "  → Extracting government entities...\n"
          ]
        },
        {
          "name": "stderr",
          "output_type": "stream",
          "text": [
            "WARNING:absl:Prompt alignment: non-exact match: [example#0] class='mention' status=AlignmentStatus.MATCH_FUZZY text='la presente Ley' char_span=(0, 15)\n",
            "WARNING:absl:Prompt alignment: non-exact match: [example#6] class='mention' status=AlignmentStatus.MATCH_FUZZY text='la presente Ley' char_span=(49, 64)\n"
          ]
        },
        {
          "name": "stdout",
          "output_type": "stream",
          "text": [
            "    Found 4 entities\n",
            "  → Extracting article mentions...\n"
          ]
        },
        {
          "name": "stderr",
          "output_type": "stream",
          "text": [
            "WARNING:absl:Prompt alignment: non-exact match: [example#0] class='mention' status=AlignmentStatus.MATCH_FUZZY text='la presente Ley' char_span=(0, 15)\n",
            "WARNING:absl:Prompt alignment: non-exact match: [example#6] class='mention' status=AlignmentStatus.MATCH_FUZZY text='la presente Ley' char_span=(49, 64)\n",
            "WARNING:absl:Prompt alignment: non-exact match: [example#0] class='mention' status=AlignmentStatus.MATCH_FUZZY text='la presente Ley' char_span=(0, 15)\n",
            "WARNING:absl:Prompt alignment: non-exact match: [example#6] class='mention' status=AlignmentStatus.MATCH_FUZZY text='la presente Ley' char_span=(49, 64)\n"
          ]
        },
        {
          "name": "stdout",
          "output_type": "stream",
          "text": [
            "    Found 4 mentions\n",
            "\n",
            "Processing batch 60/111 (articles 178-180)\n",
            "  → Extracting government entities...\n"
          ]
        },
        {
          "name": "stderr",
          "output_type": "stream",
          "text": [
            "WARNING:absl:Prompt alignment: non-exact match: [example#0] class='mention' status=AlignmentStatus.MATCH_FUZZY text='la presente Ley' char_span=(0, 15)\n",
            "WARNING:absl:Prompt alignment: non-exact match: [example#6] class='mention' status=AlignmentStatus.MATCH_FUZZY text='la presente Ley' char_span=(49, 64)\n"
          ]
        },
        {
          "name": "stdout",
          "output_type": "stream",
          "text": [
            "    Found 4 entities\n",
            "  → Extracting article mentions...\n"
          ]
        },
        {
          "name": "stderr",
          "output_type": "stream",
          "text": [
            "WARNING:absl:Prompt alignment: non-exact match: [example#0] class='mention' status=AlignmentStatus.MATCH_FUZZY text='la presente Ley' char_span=(0, 15)\n",
            "WARNING:absl:Prompt alignment: non-exact match: [example#6] class='mention' status=AlignmentStatus.MATCH_FUZZY text='la presente Ley' char_span=(49, 64)\n",
            "WARNING:absl:Prompt alignment: non-exact match: [example#0] class='mention' status=AlignmentStatus.MATCH_FUZZY text='la presente Ley' char_span=(0, 15)\n",
            "WARNING:absl:Prompt alignment: non-exact match: [example#6] class='mention' status=AlignmentStatus.MATCH_FUZZY text='la presente Ley' char_span=(49, 64)\n"
          ]
        },
        {
          "name": "stdout",
          "output_type": "stream",
          "text": [
            "    Found 2 mentions\n",
            "\n",
            "Processing batch 61/111 (articles 181-183)\n",
            "  → Extracting government entities...\n"
          ]
        },
        {
          "name": "stderr",
          "output_type": "stream",
          "text": [
            "WARNING:absl:Prompt alignment: non-exact match: [example#0] class='mention' status=AlignmentStatus.MATCH_FUZZY text='la presente Ley' char_span=(0, 15)\n",
            "WARNING:absl:Prompt alignment: non-exact match: [example#6] class='mention' status=AlignmentStatus.MATCH_FUZZY text='la presente Ley' char_span=(49, 64)\n"
          ]
        },
        {
          "name": "stdout",
          "output_type": "stream",
          "text": [
            "    Found 3 entities\n",
            "  → Extracting article mentions...\n"
          ]
        },
        {
          "name": "stderr",
          "output_type": "stream",
          "text": [
            "WARNING:absl:Prompt alignment: non-exact match: [example#0] class='mention' status=AlignmentStatus.MATCH_FUZZY text='la presente Ley' char_span=(0, 15)\n",
            "WARNING:absl:Prompt alignment: non-exact match: [example#6] class='mention' status=AlignmentStatus.MATCH_FUZZY text='la presente Ley' char_span=(49, 64)\n",
            "WARNING:absl:Prompt alignment: non-exact match: [example#0] class='mention' status=AlignmentStatus.MATCH_FUZZY text='la presente Ley' char_span=(0, 15)\n",
            "WARNING:absl:Prompt alignment: non-exact match: [example#6] class='mention' status=AlignmentStatus.MATCH_FUZZY text='la presente Ley' char_span=(49, 64)\n"
          ]
        },
        {
          "name": "stdout",
          "output_type": "stream",
          "text": [
            "    Found 6 mentions\n",
            "\n",
            "Processing batch 62/111 (articles 184-186)\n",
            "  → Extracting government entities...\n"
          ]
        },
        {
          "name": "stderr",
          "output_type": "stream",
          "text": [
            "WARNING:absl:Prompt alignment: non-exact match: [example#0] class='mention' status=AlignmentStatus.MATCH_FUZZY text='la presente Ley' char_span=(0, 15)\n",
            "WARNING:absl:Prompt alignment: non-exact match: [example#6] class='mention' status=AlignmentStatus.MATCH_FUZZY text='la presente Ley' char_span=(49, 64)\n"
          ]
        },
        {
          "name": "stdout",
          "output_type": "stream",
          "text": [
            "    Found 0 entities\n",
            "  → Extracting article mentions...\n"
          ]
        },
        {
          "name": "stderr",
          "output_type": "stream",
          "text": [
            "WARNING:absl:Prompt alignment: non-exact match: [example#0] class='mention' status=AlignmentStatus.MATCH_FUZZY text='la presente Ley' char_span=(0, 15)\n",
            "WARNING:absl:Prompt alignment: non-exact match: [example#6] class='mention' status=AlignmentStatus.MATCH_FUZZY text='la presente Ley' char_span=(49, 64)\n",
            "WARNING:absl:Prompt alignment: non-exact match: [example#0] class='mention' status=AlignmentStatus.MATCH_FUZZY text='la presente Ley' char_span=(0, 15)\n",
            "WARNING:absl:Prompt alignment: non-exact match: [example#6] class='mention' status=AlignmentStatus.MATCH_FUZZY text='la presente Ley' char_span=(49, 64)\n"
          ]
        },
        {
          "name": "stdout",
          "output_type": "stream",
          "text": [
            "Error extracting mentions for row 12406E12_ARTCULO186: local variable 'art_match' referenced before assignment\n",
            "    Found 0 mentions\n",
            "\n",
            "Processing batch 63/111 (articles 187-189)\n",
            "  → Extracting government entities...\n"
          ]
        },
        {
          "name": "stderr",
          "output_type": "stream",
          "text": [
            "WARNING:absl:Prompt alignment: non-exact match: [example#0] class='mention' status=AlignmentStatus.MATCH_FUZZY text='la presente Ley' char_span=(0, 15)\n",
            "WARNING:absl:Prompt alignment: non-exact match: [example#6] class='mention' status=AlignmentStatus.MATCH_FUZZY text='la presente Ley' char_span=(49, 64)\n"
          ]
        },
        {
          "name": "stdout",
          "output_type": "stream",
          "text": [
            "    Found 4 entities\n",
            "  → Extracting article mentions...\n"
          ]
        },
        {
          "name": "stderr",
          "output_type": "stream",
          "text": [
            "WARNING:absl:Prompt alignment: non-exact match: [example#0] class='mention' status=AlignmentStatus.MATCH_FUZZY text='la presente Ley' char_span=(0, 15)\n",
            "WARNING:absl:Prompt alignment: non-exact match: [example#6] class='mention' status=AlignmentStatus.MATCH_FUZZY text='la presente Ley' char_span=(49, 64)\n"
          ]
        },
        {
          "name": "stdout",
          "output_type": "stream",
          "text": [
            "Error extracting mentions for row 12406E12_ARTCULO187: local variable 'art_match' referenced before assignment\n"
          ]
        },
        {
          "name": "stderr",
          "output_type": "stream",
          "text": [
            "WARNING:absl:Prompt alignment: non-exact match: [example#0] class='mention' status=AlignmentStatus.MATCH_FUZZY text='la presente Ley' char_span=(0, 15)\n",
            "WARNING:absl:Prompt alignment: non-exact match: [example#6] class='mention' status=AlignmentStatus.MATCH_FUZZY text='la presente Ley' char_span=(49, 64)\n"
          ]
        },
        {
          "name": "stdout",
          "output_type": "stream",
          "text": [
            "Error extracting mentions for row 12406E12_ARTCULO188: local variable 'art_match' referenced before assignment\n",
            "    Found 3 mentions\n",
            "\n",
            "Processing batch 64/111 (articles 190-192)\n",
            "  → Extracting government entities...\n"
          ]
        },
        {
          "name": "stderr",
          "output_type": "stream",
          "text": [
            "WARNING:absl:Prompt alignment: non-exact match: [example#0] class='mention' status=AlignmentStatus.MATCH_FUZZY text='la presente Ley' char_span=(0, 15)\n",
            "WARNING:absl:Prompt alignment: non-exact match: [example#6] class='mention' status=AlignmentStatus.MATCH_FUZZY text='la presente Ley' char_span=(49, 64)\n"
          ]
        },
        {
          "name": "stdout",
          "output_type": "stream",
          "text": [
            "    Found 1 entities\n",
            "  → Extracting article mentions...\n"
          ]
        },
        {
          "name": "stderr",
          "output_type": "stream",
          "text": [
            "WARNING:absl:Prompt alignment: non-exact match: [example#0] class='mention' status=AlignmentStatus.MATCH_FUZZY text='la presente Ley' char_span=(0, 15)\n",
            "WARNING:absl:Prompt alignment: non-exact match: [example#6] class='mention' status=AlignmentStatus.MATCH_FUZZY text='la presente Ley' char_span=(49, 64)\n",
            "WARNING:absl:Prompt alignment: non-exact match: [example#0] class='mention' status=AlignmentStatus.MATCH_FUZZY text='la presente Ley' char_span=(0, 15)\n",
            "WARNING:absl:Prompt alignment: non-exact match: [example#6] class='mention' status=AlignmentStatus.MATCH_FUZZY text='la presente Ley' char_span=(49, 64)\n"
          ]
        },
        {
          "name": "stdout",
          "output_type": "stream",
          "text": [
            "    Found 4 mentions\n",
            "\n",
            "Processing batch 65/111 (articles 193-195)\n",
            "  → Extracting government entities...\n"
          ]
        },
        {
          "name": "stderr",
          "output_type": "stream",
          "text": [
            "WARNING:absl:Prompt alignment: non-exact match: [example#0] class='mention' status=AlignmentStatus.MATCH_FUZZY text='la presente Ley' char_span=(0, 15)\n",
            "WARNING:absl:Prompt alignment: non-exact match: [example#6] class='mention' status=AlignmentStatus.MATCH_FUZZY text='la presente Ley' char_span=(49, 64)\n"
          ]
        },
        {
          "name": "stdout",
          "output_type": "stream",
          "text": [
            "    Found 8 entities\n",
            "  → Extracting article mentions...\n"
          ]
        },
        {
          "name": "stderr",
          "output_type": "stream",
          "text": [
            "WARNING:absl:Prompt alignment: non-exact match: [example#0] class='mention' status=AlignmentStatus.MATCH_FUZZY text='la presente Ley' char_span=(0, 15)\n",
            "WARNING:absl:Prompt alignment: non-exact match: [example#6] class='mention' status=AlignmentStatus.MATCH_FUZZY text='la presente Ley' char_span=(49, 64)\n"
          ]
        },
        {
          "name": "stdout",
          "output_type": "stream",
          "text": [
            "Error extracting mentions for row 12406E12_ARTCULO193: local variable 'art_match' referenced before assignment\n"
          ]
        },
        {
          "name": "stderr",
          "output_type": "stream",
          "text": [
            "WARNING:absl:Prompt alignment: non-exact match: [example#0] class='mention' status=AlignmentStatus.MATCH_FUZZY text='la presente Ley' char_span=(0, 15)\n",
            "WARNING:absl:Prompt alignment: non-exact match: [example#6] class='mention' status=AlignmentStatus.MATCH_FUZZY text='la presente Ley' char_span=(49, 64)\n"
          ]
        },
        {
          "name": "stdout",
          "output_type": "stream",
          "text": [
            "Error extracting mentions for row 12406E12_ARTCULO195: local variable 'art_match' referenced before assignment\n",
            "    Found 0 mentions\n",
            "\n",
            "Processing batch 66/111 (articles 196-198)\n",
            "  → Extracting government entities...\n"
          ]
        },
        {
          "name": "stderr",
          "output_type": "stream",
          "text": [
            "WARNING:absl:Prompt alignment: non-exact match: [example#0] class='mention' status=AlignmentStatus.MATCH_FUZZY text='la presente Ley' char_span=(0, 15)\n",
            "WARNING:absl:Prompt alignment: non-exact match: [example#6] class='mention' status=AlignmentStatus.MATCH_FUZZY text='la presente Ley' char_span=(49, 64)\n"
          ]
        },
        {
          "name": "stdout",
          "output_type": "stream",
          "text": [
            "    Found 0 entities\n",
            "  → Extracting article mentions...\n"
          ]
        },
        {
          "name": "stderr",
          "output_type": "stream",
          "text": [
            "WARNING:absl:Prompt alignment: non-exact match: [example#0] class='mention' status=AlignmentStatus.MATCH_FUZZY text='la presente Ley' char_span=(0, 15)\n",
            "WARNING:absl:Prompt alignment: non-exact match: [example#6] class='mention' status=AlignmentStatus.MATCH_FUZZY text='la presente Ley' char_span=(49, 64)\n",
            "WARNING:absl:Prompt alignment: non-exact match: [example#0] class='mention' status=AlignmentStatus.MATCH_FUZZY text='la presente Ley' char_span=(0, 15)\n",
            "WARNING:absl:Prompt alignment: non-exact match: [example#6] class='mention' status=AlignmentStatus.MATCH_FUZZY text='la presente Ley' char_span=(49, 64)\n"
          ]
        },
        {
          "name": "stdout",
          "output_type": "stream",
          "text": [
            "    Found 4 mentions\n",
            "\n",
            "Processing batch 67/111 (articles 199-201)\n",
            "  → Extracting government entities...\n"
          ]
        },
        {
          "name": "stderr",
          "output_type": "stream",
          "text": [
            "WARNING:absl:Prompt alignment: non-exact match: [example#0] class='mention' status=AlignmentStatus.MATCH_FUZZY text='la presente Ley' char_span=(0, 15)\n",
            "WARNING:absl:Prompt alignment: non-exact match: [example#6] class='mention' status=AlignmentStatus.MATCH_FUZZY text='la presente Ley' char_span=(49, 64)\n"
          ]
        },
        {
          "name": "stdout",
          "output_type": "stream",
          "text": [
            "    Found 12 entities\n",
            "  → Extracting article mentions...\n"
          ]
        },
        {
          "name": "stderr",
          "output_type": "stream",
          "text": [
            "WARNING:absl:Prompt alignment: non-exact match: [example#0] class='mention' status=AlignmentStatus.MATCH_FUZZY text='la presente Ley' char_span=(0, 15)\n",
            "WARNING:absl:Prompt alignment: non-exact match: [example#6] class='mention' status=AlignmentStatus.MATCH_FUZZY text='la presente Ley' char_span=(49, 64)\n",
            "WARNING:absl:Prompt alignment: non-exact match: [example#0] class='mention' status=AlignmentStatus.MATCH_FUZZY text='la presente Ley' char_span=(0, 15)\n",
            "WARNING:absl:Prompt alignment: non-exact match: [example#6] class='mention' status=AlignmentStatus.MATCH_FUZZY text='la presente Ley' char_span=(49, 64)\n"
          ]
        },
        {
          "name": "stdout",
          "output_type": "stream",
          "text": [
            "    Found 22 mentions\n",
            "\n",
            "Processing batch 68/111 (articles 202-204)\n",
            "  → Extracting government entities...\n"
          ]
        },
        {
          "name": "stderr",
          "output_type": "stream",
          "text": [
            "WARNING:absl:Prompt alignment: non-exact match: [example#0] class='mention' status=AlignmentStatus.MATCH_FUZZY text='la presente Ley' char_span=(0, 15)\n",
            "WARNING:absl:Prompt alignment: non-exact match: [example#6] class='mention' status=AlignmentStatus.MATCH_FUZZY text='la presente Ley' char_span=(49, 64)\n"
          ]
        },
        {
          "name": "stdout",
          "output_type": "stream",
          "text": [
            "    Found 6 entities\n",
            "  → Extracting article mentions...\n"
          ]
        },
        {
          "name": "stderr",
          "output_type": "stream",
          "text": [
            "WARNING:absl:Prompt alignment: non-exact match: [example#0] class='mention' status=AlignmentStatus.MATCH_FUZZY text='la presente Ley' char_span=(0, 15)\n",
            "WARNING:absl:Prompt alignment: non-exact match: [example#6] class='mention' status=AlignmentStatus.MATCH_FUZZY text='la presente Ley' char_span=(49, 64)\n",
            "WARNING:absl:Prompt alignment: non-exact match: [example#0] class='mention' status=AlignmentStatus.MATCH_FUZZY text='la presente Ley' char_span=(0, 15)\n",
            "WARNING:absl:Prompt alignment: non-exact match: [example#6] class='mention' status=AlignmentStatus.MATCH_FUZZY text='la presente Ley' char_span=(49, 64)\n"
          ]
        },
        {
          "name": "stdout",
          "output_type": "stream",
          "text": [
            "    Found 5 mentions\n",
            "\n",
            "Processing batch 69/111 (articles 205-207)\n",
            "  → Extracting government entities...\n"
          ]
        },
        {
          "name": "stderr",
          "output_type": "stream",
          "text": [
            "WARNING:absl:Prompt alignment: non-exact match: [example#0] class='mention' status=AlignmentStatus.MATCH_FUZZY text='la presente Ley' char_span=(0, 15)\n",
            "WARNING:absl:Prompt alignment: non-exact match: [example#6] class='mention' status=AlignmentStatus.MATCH_FUZZY text='la presente Ley' char_span=(49, 64)\n"
          ]
        },
        {
          "name": "stdout",
          "output_type": "stream",
          "text": [
            "    Found 4 entities\n",
            "  → Extracting article mentions...\n"
          ]
        },
        {
          "name": "stderr",
          "output_type": "stream",
          "text": [
            "WARNING:absl:Prompt alignment: non-exact match: [example#0] class='mention' status=AlignmentStatus.MATCH_FUZZY text='la presente Ley' char_span=(0, 15)\n",
            "WARNING:absl:Prompt alignment: non-exact match: [example#6] class='mention' status=AlignmentStatus.MATCH_FUZZY text='la presente Ley' char_span=(49, 64)\n",
            "WARNING:absl:Prompt alignment: non-exact match: [example#0] class='mention' status=AlignmentStatus.MATCH_FUZZY text='la presente Ley' char_span=(0, 15)\n",
            "WARNING:absl:Prompt alignment: non-exact match: [example#6] class='mention' status=AlignmentStatus.MATCH_FUZZY text='la presente Ley' char_span=(49, 64)\n"
          ]
        },
        {
          "name": "stdout",
          "output_type": "stream",
          "text": [
            "    Found 16 mentions\n",
            "\n",
            "Processing batch 70/111 (articles 208-210)\n",
            "  → Extracting government entities...\n"
          ]
        },
        {
          "name": "stderr",
          "output_type": "stream",
          "text": [
            "WARNING:absl:Prompt alignment: non-exact match: [example#0] class='mention' status=AlignmentStatus.MATCH_FUZZY text='la presente Ley' char_span=(0, 15)\n",
            "WARNING:absl:Prompt alignment: non-exact match: [example#6] class='mention' status=AlignmentStatus.MATCH_FUZZY text='la presente Ley' char_span=(49, 64)\n"
          ]
        },
        {
          "name": "stdout",
          "output_type": "stream",
          "text": [
            "    Found 8 entities\n",
            "  → Extracting article mentions...\n"
          ]
        },
        {
          "name": "stderr",
          "output_type": "stream",
          "text": [
            "WARNING:absl:Prompt alignment: non-exact match: [example#0] class='mention' status=AlignmentStatus.MATCH_FUZZY text='la presente Ley' char_span=(0, 15)\n",
            "WARNING:absl:Prompt alignment: non-exact match: [example#6] class='mention' status=AlignmentStatus.MATCH_FUZZY text='la presente Ley' char_span=(49, 64)\n",
            "WARNING:absl:Prompt alignment: non-exact match: [example#0] class='mention' status=AlignmentStatus.MATCH_FUZZY text='la presente Ley' char_span=(0, 15)\n",
            "WARNING:absl:Prompt alignment: non-exact match: [example#6] class='mention' status=AlignmentStatus.MATCH_FUZZY text='la presente Ley' char_span=(49, 64)\n"
          ]
        },
        {
          "name": "stdout",
          "output_type": "stream",
          "text": [
            "    Found 12 mentions\n",
            "\n",
            "Processing batch 71/111 (articles 211-213)\n",
            "  → Extracting government entities...\n"
          ]
        },
        {
          "name": "stderr",
          "output_type": "stream",
          "text": [
            "WARNING:absl:Prompt alignment: non-exact match: [example#0] class='mention' status=AlignmentStatus.MATCH_FUZZY text='la presente Ley' char_span=(0, 15)\n",
            "WARNING:absl:Prompt alignment: non-exact match: [example#6] class='mention' status=AlignmentStatus.MATCH_FUZZY text='la presente Ley' char_span=(49, 64)\n"
          ]
        },
        {
          "name": "stdout",
          "output_type": "stream",
          "text": [
            "    Found 9 entities\n",
            "  → Extracting article mentions...\n"
          ]
        },
        {
          "name": "stderr",
          "output_type": "stream",
          "text": [
            "WARNING:absl:Prompt alignment: non-exact match: [example#0] class='mention' status=AlignmentStatus.MATCH_FUZZY text='la presente Ley' char_span=(0, 15)\n",
            "WARNING:absl:Prompt alignment: non-exact match: [example#6] class='mention' status=AlignmentStatus.MATCH_FUZZY text='la presente Ley' char_span=(49, 64)\n",
            "WARNING:absl:Prompt alignment: non-exact match: [example#0] class='mention' status=AlignmentStatus.MATCH_FUZZY text='la presente Ley' char_span=(0, 15)\n",
            "WARNING:absl:Prompt alignment: non-exact match: [example#6] class='mention' status=AlignmentStatus.MATCH_FUZZY text='la presente Ley' char_span=(49, 64)\n"
          ]
        },
        {
          "name": "stdout",
          "output_type": "stream",
          "text": [
            "    Found 9 mentions\n",
            "\n",
            "Processing batch 72/111 (articles 214-216)\n",
            "  → Extracting government entities...\n"
          ]
        },
        {
          "name": "stderr",
          "output_type": "stream",
          "text": [
            "WARNING:absl:Prompt alignment: non-exact match: [example#0] class='mention' status=AlignmentStatus.MATCH_FUZZY text='la presente Ley' char_span=(0, 15)\n",
            "WARNING:absl:Prompt alignment: non-exact match: [example#6] class='mention' status=AlignmentStatus.MATCH_FUZZY text='la presente Ley' char_span=(49, 64)\n"
          ]
        },
        {
          "name": "stdout",
          "output_type": "stream",
          "text": [
            "    Found 16 entities\n",
            "  → Extracting article mentions...\n"
          ]
        },
        {
          "name": "stderr",
          "output_type": "stream",
          "text": [
            "WARNING:absl:Prompt alignment: non-exact match: [example#0] class='mention' status=AlignmentStatus.MATCH_FUZZY text='la presente Ley' char_span=(0, 15)\n",
            "WARNING:absl:Prompt alignment: non-exact match: [example#6] class='mention' status=AlignmentStatus.MATCH_FUZZY text='la presente Ley' char_span=(49, 64)\n",
            "WARNING:absl:Prompt alignment: non-exact match: [example#0] class='mention' status=AlignmentStatus.MATCH_FUZZY text='la presente Ley' char_span=(0, 15)\n",
            "WARNING:absl:Prompt alignment: non-exact match: [example#6] class='mention' status=AlignmentStatus.MATCH_FUZZY text='la presente Ley' char_span=(49, 64)\n"
          ]
        },
        {
          "name": "stdout",
          "output_type": "stream",
          "text": [
            "    Found 17 mentions\n",
            "\n",
            "Processing batch 73/111 (articles 217-219)\n",
            "  → Extracting government entities...\n"
          ]
        },
        {
          "name": "stderr",
          "output_type": "stream",
          "text": [
            "WARNING:absl:Prompt alignment: non-exact match: [example#0] class='mention' status=AlignmentStatus.MATCH_FUZZY text='la presente Ley' char_span=(0, 15)\n",
            "WARNING:absl:Prompt alignment: non-exact match: [example#6] class='mention' status=AlignmentStatus.MATCH_FUZZY text='la presente Ley' char_span=(49, 64)\n"
          ]
        },
        {
          "name": "stdout",
          "output_type": "stream",
          "text": [
            "    Found 2 entities\n",
            "  → Extracting article mentions...\n"
          ]
        },
        {
          "name": "stderr",
          "output_type": "stream",
          "text": [
            "WARNING:absl:Prompt alignment: non-exact match: [example#0] class='mention' status=AlignmentStatus.MATCH_FUZZY text='la presente Ley' char_span=(0, 15)\n",
            "WARNING:absl:Prompt alignment: non-exact match: [example#6] class='mention' status=AlignmentStatus.MATCH_FUZZY text='la presente Ley' char_span=(49, 64)\n",
            "WARNING:absl:Prompt alignment: non-exact match: [example#0] class='mention' status=AlignmentStatus.MATCH_FUZZY text='la presente Ley' char_span=(0, 15)\n",
            "WARNING:absl:Prompt alignment: non-exact match: [example#6] class='mention' status=AlignmentStatus.MATCH_FUZZY text='la presente Ley' char_span=(49, 64)\n"
          ]
        },
        {
          "name": "stdout",
          "output_type": "stream",
          "text": [
            "    Found 1 mentions\n",
            "\n",
            "Processing batch 74/111 (articles 220-222)\n",
            "  → Extracting government entities...\n"
          ]
        },
        {
          "name": "stderr",
          "output_type": "stream",
          "text": [
            "WARNING:absl:Prompt alignment: non-exact match: [example#0] class='mention' status=AlignmentStatus.MATCH_FUZZY text='la presente Ley' char_span=(0, 15)\n",
            "WARNING:absl:Prompt alignment: non-exact match: [example#6] class='mention' status=AlignmentStatus.MATCH_FUZZY text='la presente Ley' char_span=(49, 64)\n"
          ]
        },
        {
          "name": "stdout",
          "output_type": "stream",
          "text": [
            "    Found 2 entities\n",
            "  → Extracting article mentions...\n"
          ]
        },
        {
          "name": "stderr",
          "output_type": "stream",
          "text": [
            "WARNING:absl:Prompt alignment: non-exact match: [example#0] class='mention' status=AlignmentStatus.MATCH_FUZZY text='la presente Ley' char_span=(0, 15)\n",
            "WARNING:absl:Prompt alignment: non-exact match: [example#6] class='mention' status=AlignmentStatus.MATCH_FUZZY text='la presente Ley' char_span=(49, 64)\n",
            "WARNING:absl:Prompt alignment: non-exact match: [example#0] class='mention' status=AlignmentStatus.MATCH_FUZZY text='la presente Ley' char_span=(0, 15)\n",
            "WARNING:absl:Prompt alignment: non-exact match: [example#6] class='mention' status=AlignmentStatus.MATCH_FUZZY text='la presente Ley' char_span=(49, 64)\n"
          ]
        },
        {
          "name": "stdout",
          "output_type": "stream",
          "text": [
            "Error extracting mentions for row 12406E12_ARTCULO222: local variable 'art_match' referenced before assignment\n",
            "    Found 0 mentions\n",
            "\n",
            "Processing batch 75/111 (articles 223-225)\n",
            "  → Extracting government entities...\n"
          ]
        },
        {
          "name": "stderr",
          "output_type": "stream",
          "text": [
            "WARNING:absl:Prompt alignment: non-exact match: [example#0] class='mention' status=AlignmentStatus.MATCH_FUZZY text='la presente Ley' char_span=(0, 15)\n",
            "WARNING:absl:Prompt alignment: non-exact match: [example#6] class='mention' status=AlignmentStatus.MATCH_FUZZY text='la presente Ley' char_span=(49, 64)\n"
          ]
        },
        {
          "name": "stdout",
          "output_type": "stream",
          "text": [
            "    Found 4 entities\n",
            "  → Extracting article mentions...\n"
          ]
        },
        {
          "name": "stderr",
          "output_type": "stream",
          "text": [
            "WARNING:absl:Prompt alignment: non-exact match: [example#0] class='mention' status=AlignmentStatus.MATCH_FUZZY text='la presente Ley' char_span=(0, 15)\n",
            "WARNING:absl:Prompt alignment: non-exact match: [example#6] class='mention' status=AlignmentStatus.MATCH_FUZZY text='la presente Ley' char_span=(49, 64)\n",
            "WARNING:absl:Prompt alignment: non-exact match: [example#0] class='mention' status=AlignmentStatus.MATCH_FUZZY text='la presente Ley' char_span=(0, 15)\n",
            "WARNING:absl:Prompt alignment: non-exact match: [example#6] class='mention' status=AlignmentStatus.MATCH_FUZZY text='la presente Ley' char_span=(49, 64)\n"
          ]
        },
        {
          "name": "stdout",
          "output_type": "stream",
          "text": [
            "    Found 1 mentions\n",
            "\n",
            "Processing batch 76/111 (articles 226-228)\n",
            "  → Extracting government entities...\n"
          ]
        },
        {
          "name": "stderr",
          "output_type": "stream",
          "text": [
            "WARNING:absl:Prompt alignment: non-exact match: [example#0] class='mention' status=AlignmentStatus.MATCH_FUZZY text='la presente Ley' char_span=(0, 15)\n",
            "WARNING:absl:Prompt alignment: non-exact match: [example#6] class='mention' status=AlignmentStatus.MATCH_FUZZY text='la presente Ley' char_span=(49, 64)\n"
          ]
        },
        {
          "name": "stdout",
          "output_type": "stream",
          "text": [
            "    Found 0 entities\n",
            "  → Extracting article mentions...\n"
          ]
        },
        {
          "name": "stderr",
          "output_type": "stream",
          "text": [
            "WARNING:absl:Prompt alignment: non-exact match: [example#0] class='mention' status=AlignmentStatus.MATCH_FUZZY text='la presente Ley' char_span=(0, 15)\n",
            "WARNING:absl:Prompt alignment: non-exact match: [example#6] class='mention' status=AlignmentStatus.MATCH_FUZZY text='la presente Ley' char_span=(49, 64)\n",
            "WARNING:absl:Prompt alignment: non-exact match: [example#0] class='mention' status=AlignmentStatus.MATCH_FUZZY text='la presente Ley' char_span=(0, 15)\n",
            "WARNING:absl:Prompt alignment: non-exact match: [example#6] class='mention' status=AlignmentStatus.MATCH_FUZZY text='la presente Ley' char_span=(49, 64)\n"
          ]
        },
        {
          "name": "stdout",
          "output_type": "stream",
          "text": [
            "    Found 1 mentions\n",
            "\n",
            "Processing batch 77/111 (articles 229-231)\n",
            "  → Extracting government entities...\n"
          ]
        },
        {
          "name": "stderr",
          "output_type": "stream",
          "text": [
            "WARNING:absl:Prompt alignment: non-exact match: [example#0] class='mention' status=AlignmentStatus.MATCH_FUZZY text='la presente Ley' char_span=(0, 15)\n",
            "WARNING:absl:Prompt alignment: non-exact match: [example#6] class='mention' status=AlignmentStatus.MATCH_FUZZY text='la presente Ley' char_span=(49, 64)\n"
          ]
        },
        {
          "name": "stdout",
          "output_type": "stream",
          "text": [
            "    Found 2 entities\n",
            "  → Extracting article mentions...\n"
          ]
        },
        {
          "name": "stderr",
          "output_type": "stream",
          "text": [
            "WARNING:absl:Prompt alignment: non-exact match: [example#0] class='mention' status=AlignmentStatus.MATCH_FUZZY text='la presente Ley' char_span=(0, 15)\n",
            "WARNING:absl:Prompt alignment: non-exact match: [example#6] class='mention' status=AlignmentStatus.MATCH_FUZZY text='la presente Ley' char_span=(49, 64)\n",
            "WARNING:absl:Prompt alignment: non-exact match: [example#0] class='mention' status=AlignmentStatus.MATCH_FUZZY text='la presente Ley' char_span=(0, 15)\n",
            "WARNING:absl:Prompt alignment: non-exact match: [example#6] class='mention' status=AlignmentStatus.MATCH_FUZZY text='la presente Ley' char_span=(49, 64)\n"
          ]
        },
        {
          "name": "stdout",
          "output_type": "stream",
          "text": [
            "    Found 4 mentions\n",
            "\n",
            "Processing batch 78/111 (articles 232-234)\n",
            "  → Extracting government entities...\n"
          ]
        },
        {
          "name": "stderr",
          "output_type": "stream",
          "text": [
            "WARNING:absl:Prompt alignment: non-exact match: [example#0] class='mention' status=AlignmentStatus.MATCH_FUZZY text='la presente Ley' char_span=(0, 15)\n",
            "WARNING:absl:Prompt alignment: non-exact match: [example#6] class='mention' status=AlignmentStatus.MATCH_FUZZY text='la presente Ley' char_span=(49, 64)\n"
          ]
        },
        {
          "name": "stdout",
          "output_type": "stream",
          "text": [
            "    Found 3 entities\n",
            "  → Extracting article mentions...\n"
          ]
        },
        {
          "name": "stderr",
          "output_type": "stream",
          "text": [
            "WARNING:absl:Prompt alignment: non-exact match: [example#0] class='mention' status=AlignmentStatus.MATCH_FUZZY text='la presente Ley' char_span=(0, 15)\n",
            "WARNING:absl:Prompt alignment: non-exact match: [example#6] class='mention' status=AlignmentStatus.MATCH_FUZZY text='la presente Ley' char_span=(49, 64)\n",
            "WARNING:absl:Prompt alignment: non-exact match: [example#0] class='mention' status=AlignmentStatus.MATCH_FUZZY text='la presente Ley' char_span=(0, 15)\n",
            "WARNING:absl:Prompt alignment: non-exact match: [example#6] class='mention' status=AlignmentStatus.MATCH_FUZZY text='la presente Ley' char_span=(49, 64)\n"
          ]
        },
        {
          "name": "stdout",
          "output_type": "stream",
          "text": [
            "Error extracting mentions for row 12406E12_ARTCULO233: local variable 'art_match' referenced before assignment\n",
            "    Found 0 mentions\n",
            "\n",
            "Processing batch 79/111 (articles 235-237)\n",
            "  → Extracting government entities...\n"
          ]
        },
        {
          "name": "stderr",
          "output_type": "stream",
          "text": [
            "WARNING:absl:Prompt alignment: non-exact match: [example#0] class='mention' status=AlignmentStatus.MATCH_FUZZY text='la presente Ley' char_span=(0, 15)\n",
            "WARNING:absl:Prompt alignment: non-exact match: [example#6] class='mention' status=AlignmentStatus.MATCH_FUZZY text='la presente Ley' char_span=(49, 64)\n"
          ]
        },
        {
          "name": "stdout",
          "output_type": "stream",
          "text": [
            "    Found 3 entities\n",
            "  → Extracting article mentions...\n"
          ]
        },
        {
          "name": "stderr",
          "output_type": "stream",
          "text": [
            "WARNING:absl:Prompt alignment: non-exact match: [example#0] class='mention' status=AlignmentStatus.MATCH_FUZZY text='la presente Ley' char_span=(0, 15)\n",
            "WARNING:absl:Prompt alignment: non-exact match: [example#6] class='mention' status=AlignmentStatus.MATCH_FUZZY text='la presente Ley' char_span=(49, 64)\n",
            "WARNING:absl:Prompt alignment: non-exact match: [example#0] class='mention' status=AlignmentStatus.MATCH_FUZZY text='la presente Ley' char_span=(0, 15)\n",
            "WARNING:absl:Prompt alignment: non-exact match: [example#6] class='mention' status=AlignmentStatus.MATCH_FUZZY text='la presente Ley' char_span=(49, 64)\n"
          ]
        },
        {
          "name": "stdout",
          "output_type": "stream",
          "text": [
            "    Found 3 mentions\n",
            "\n",
            "Processing batch 80/111 (articles 238-240)\n",
            "  → Extracting government entities...\n"
          ]
        },
        {
          "name": "stderr",
          "output_type": "stream",
          "text": [
            "WARNING:absl:Prompt alignment: non-exact match: [example#0] class='mention' status=AlignmentStatus.MATCH_FUZZY text='la presente Ley' char_span=(0, 15)\n",
            "WARNING:absl:Prompt alignment: non-exact match: [example#6] class='mention' status=AlignmentStatus.MATCH_FUZZY text='la presente Ley' char_span=(49, 64)\n"
          ]
        },
        {
          "name": "stdout",
          "output_type": "stream",
          "text": [
            "    Found 18 entities\n",
            "  → Extracting article mentions...\n"
          ]
        },
        {
          "name": "stderr",
          "output_type": "stream",
          "text": [
            "WARNING:absl:Prompt alignment: non-exact match: [example#0] class='mention' status=AlignmentStatus.MATCH_FUZZY text='la presente Ley' char_span=(0, 15)\n",
            "WARNING:absl:Prompt alignment: non-exact match: [example#6] class='mention' status=AlignmentStatus.MATCH_FUZZY text='la presente Ley' char_span=(49, 64)\n",
            "WARNING:absl:Prompt alignment: non-exact match: [example#0] class='mention' status=AlignmentStatus.MATCH_FUZZY text='la presente Ley' char_span=(0, 15)\n",
            "WARNING:absl:Prompt alignment: non-exact match: [example#6] class='mention' status=AlignmentStatus.MATCH_FUZZY text='la presente Ley' char_span=(49, 64)\n"
          ]
        },
        {
          "name": "stdout",
          "output_type": "stream",
          "text": [
            "Error extracting mentions for row 12406E12_ARTCULO239: local variable 'art_match' referenced before assignment\n",
            "    Found 0 mentions\n",
            "\n",
            "Processing batch 81/111 (articles 241-243)\n",
            "  → Extracting government entities...\n"
          ]
        },
        {
          "name": "stderr",
          "output_type": "stream",
          "text": [
            "WARNING:absl:Prompt alignment: non-exact match: [example#0] class='mention' status=AlignmentStatus.MATCH_FUZZY text='la presente Ley' char_span=(0, 15)\n",
            "WARNING:absl:Prompt alignment: non-exact match: [example#6] class='mention' status=AlignmentStatus.MATCH_FUZZY text='la presente Ley' char_span=(49, 64)\n"
          ]
        },
        {
          "name": "stdout",
          "output_type": "stream",
          "text": [
            "    Found 4 entities\n",
            "  → Extracting article mentions...\n"
          ]
        },
        {
          "name": "stderr",
          "output_type": "stream",
          "text": [
            "WARNING:absl:Prompt alignment: non-exact match: [example#0] class='mention' status=AlignmentStatus.MATCH_FUZZY text='la presente Ley' char_span=(0, 15)\n",
            "WARNING:absl:Prompt alignment: non-exact match: [example#6] class='mention' status=AlignmentStatus.MATCH_FUZZY text='la presente Ley' char_span=(49, 64)\n",
            "WARNING:absl:Prompt alignment: non-exact match: [example#0] class='mention' status=AlignmentStatus.MATCH_FUZZY text='la presente Ley' char_span=(0, 15)\n",
            "WARNING:absl:Prompt alignment: non-exact match: [example#6] class='mention' status=AlignmentStatus.MATCH_FUZZY text='la presente Ley' char_span=(49, 64)\n"
          ]
        },
        {
          "name": "stdout",
          "output_type": "stream",
          "text": [
            "    Found 5 mentions\n",
            "\n",
            "Processing batch 82/111 (articles 244-246)\n",
            "  → Extracting government entities...\n"
          ]
        },
        {
          "name": "stderr",
          "output_type": "stream",
          "text": [
            "WARNING:absl:Prompt alignment: non-exact match: [example#0] class='mention' status=AlignmentStatus.MATCH_FUZZY text='la presente Ley' char_span=(0, 15)\n",
            "WARNING:absl:Prompt alignment: non-exact match: [example#6] class='mention' status=AlignmentStatus.MATCH_FUZZY text='la presente Ley' char_span=(49, 64)\n"
          ]
        },
        {
          "name": "stdout",
          "output_type": "stream",
          "text": [
            "    Found 0 entities\n",
            "  → Extracting article mentions...\n"
          ]
        },
        {
          "name": "stderr",
          "output_type": "stream",
          "text": [
            "WARNING:absl:Prompt alignment: non-exact match: [example#0] class='mention' status=AlignmentStatus.MATCH_FUZZY text='la presente Ley' char_span=(0, 15)\n",
            "WARNING:absl:Prompt alignment: non-exact match: [example#6] class='mention' status=AlignmentStatus.MATCH_FUZZY text='la presente Ley' char_span=(49, 64)\n",
            "WARNING:absl:Prompt alignment: non-exact match: [example#0] class='mention' status=AlignmentStatus.MATCH_FUZZY text='la presente Ley' char_span=(0, 15)\n",
            "WARNING:absl:Prompt alignment: non-exact match: [example#6] class='mention' status=AlignmentStatus.MATCH_FUZZY text='la presente Ley' char_span=(49, 64)\n"
          ]
        },
        {
          "name": "stdout",
          "output_type": "stream",
          "text": [
            "Error extracting mentions for row 12406E12_ARTCULO246: local variable 'art_match' referenced before assignment\n",
            "    Found 0 mentions\n",
            "\n",
            "Processing batch 83/111 (articles 247-249)\n",
            "  → Extracting government entities...\n"
          ]
        },
        {
          "name": "stderr",
          "output_type": "stream",
          "text": [
            "WARNING:absl:Prompt alignment: non-exact match: [example#0] class='mention' status=AlignmentStatus.MATCH_FUZZY text='la presente Ley' char_span=(0, 15)\n",
            "WARNING:absl:Prompt alignment: non-exact match: [example#6] class='mention' status=AlignmentStatus.MATCH_FUZZY text='la presente Ley' char_span=(49, 64)\n"
          ]
        },
        {
          "name": "stdout",
          "output_type": "stream",
          "text": [
            "    Found 2 entities\n",
            "  → Extracting article mentions...\n"
          ]
        },
        {
          "name": "stderr",
          "output_type": "stream",
          "text": [
            "WARNING:absl:Prompt alignment: non-exact match: [example#0] class='mention' status=AlignmentStatus.MATCH_FUZZY text='la presente Ley' char_span=(0, 15)\n",
            "WARNING:absl:Prompt alignment: non-exact match: [example#6] class='mention' status=AlignmentStatus.MATCH_FUZZY text='la presente Ley' char_span=(49, 64)\n",
            "WARNING:absl:Prompt alignment: non-exact match: [example#0] class='mention' status=AlignmentStatus.MATCH_FUZZY text='la presente Ley' char_span=(0, 15)\n",
            "WARNING:absl:Prompt alignment: non-exact match: [example#6] class='mention' status=AlignmentStatus.MATCH_FUZZY text='la presente Ley' char_span=(49, 64)\n"
          ]
        },
        {
          "name": "stdout",
          "output_type": "stream",
          "text": [
            "Error extracting mentions for row 12406E12_ARTCULO248: local variable 'art_match' referenced before assignment\n",
            "    Found 0 mentions\n",
            "\n",
            "Processing batch 84/111 (articles 250-252)\n",
            "  → Extracting government entities...\n"
          ]
        },
        {
          "name": "stderr",
          "output_type": "stream",
          "text": [
            "WARNING:absl:Prompt alignment: non-exact match: [example#0] class='mention' status=AlignmentStatus.MATCH_FUZZY text='la presente Ley' char_span=(0, 15)\n",
            "WARNING:absl:Prompt alignment: non-exact match: [example#6] class='mention' status=AlignmentStatus.MATCH_FUZZY text='la presente Ley' char_span=(49, 64)\n"
          ]
        },
        {
          "name": "stdout",
          "output_type": "stream",
          "text": [
            "    Found 2 entities\n",
            "  → Extracting article mentions...\n"
          ]
        },
        {
          "name": "stderr",
          "output_type": "stream",
          "text": [
            "WARNING:absl:Prompt alignment: non-exact match: [example#0] class='mention' status=AlignmentStatus.MATCH_FUZZY text='la presente Ley' char_span=(0, 15)\n",
            "WARNING:absl:Prompt alignment: non-exact match: [example#6] class='mention' status=AlignmentStatus.MATCH_FUZZY text='la presente Ley' char_span=(49, 64)\n"
          ]
        },
        {
          "name": "stdout",
          "output_type": "stream",
          "text": [
            "Error extracting mentions for row 12406E12_ARTCULO250: local variable 'art_match' referenced before assignment\n"
          ]
        },
        {
          "name": "stderr",
          "output_type": "stream",
          "text": [
            "WARNING:absl:Prompt alignment: non-exact match: [example#0] class='mention' status=AlignmentStatus.MATCH_FUZZY text='la presente Ley' char_span=(0, 15)\n",
            "WARNING:absl:Prompt alignment: non-exact match: [example#6] class='mention' status=AlignmentStatus.MATCH_FUZZY text='la presente Ley' char_span=(49, 64)\n"
          ]
        },
        {
          "name": "stdout",
          "output_type": "stream",
          "text": [
            "Error extracting mentions for row 12406E12_ARTCULO252: local variable 'art_match' referenced before assignment\n",
            "    Found 0 mentions\n",
            "\n",
            "Processing batch 85/111 (articles 253-255)\n",
            "  → Extracting government entities...\n"
          ]
        },
        {
          "name": "stderr",
          "output_type": "stream",
          "text": [
            "WARNING:absl:Prompt alignment: non-exact match: [example#0] class='mention' status=AlignmentStatus.MATCH_FUZZY text='la presente Ley' char_span=(0, 15)\n",
            "WARNING:absl:Prompt alignment: non-exact match: [example#6] class='mention' status=AlignmentStatus.MATCH_FUZZY text='la presente Ley' char_span=(49, 64)\n"
          ]
        },
        {
          "name": "stdout",
          "output_type": "stream",
          "text": [
            "    Found 4 entities\n",
            "  → Extracting article mentions...\n"
          ]
        },
        {
          "name": "stderr",
          "output_type": "stream",
          "text": [
            "WARNING:absl:Prompt alignment: non-exact match: [example#0] class='mention' status=AlignmentStatus.MATCH_FUZZY text='la presente Ley' char_span=(0, 15)\n",
            "WARNING:absl:Prompt alignment: non-exact match: [example#6] class='mention' status=AlignmentStatus.MATCH_FUZZY text='la presente Ley' char_span=(49, 64)\n",
            "WARNING:absl:Prompt alignment: non-exact match: [example#0] class='mention' status=AlignmentStatus.MATCH_FUZZY text='la presente Ley' char_span=(0, 15)\n",
            "WARNING:absl:Prompt alignment: non-exact match: [example#6] class='mention' status=AlignmentStatus.MATCH_FUZZY text='la presente Ley' char_span=(49, 64)\n"
          ]
        },
        {
          "name": "stdout",
          "output_type": "stream",
          "text": [
            "    Found 3 mentions\n",
            "\n",
            "Processing batch 86/111 (articles 256-258)\n",
            "  → Extracting government entities...\n"
          ]
        },
        {
          "name": "stderr",
          "output_type": "stream",
          "text": [
            "WARNING:absl:Prompt alignment: non-exact match: [example#0] class='mention' status=AlignmentStatus.MATCH_FUZZY text='la presente Ley' char_span=(0, 15)\n",
            "WARNING:absl:Prompt alignment: non-exact match: [example#6] class='mention' status=AlignmentStatus.MATCH_FUZZY text='la presente Ley' char_span=(49, 64)\n"
          ]
        },
        {
          "name": "stdout",
          "output_type": "stream",
          "text": [
            "    Found 13 entities\n",
            "  → Extracting article mentions...\n"
          ]
        },
        {
          "name": "stderr",
          "output_type": "stream",
          "text": [
            "WARNING:absl:Prompt alignment: non-exact match: [example#0] class='mention' status=AlignmentStatus.MATCH_FUZZY text='la presente Ley' char_span=(0, 15)\n",
            "WARNING:absl:Prompt alignment: non-exact match: [example#6] class='mention' status=AlignmentStatus.MATCH_FUZZY text='la presente Ley' char_span=(49, 64)\n"
          ]
        },
        {
          "name": "stdout",
          "output_type": "stream",
          "text": [
            "Error extracting mentions for row 12406E12_ARTCULO256: local variable 'art_match' referenced before assignment\n"
          ]
        },
        {
          "name": "stderr",
          "output_type": "stream",
          "text": [
            "WARNING:absl:Prompt alignment: non-exact match: [example#0] class='mention' status=AlignmentStatus.MATCH_FUZZY text='la presente Ley' char_span=(0, 15)\n",
            "WARNING:absl:Prompt alignment: non-exact match: [example#6] class='mention' status=AlignmentStatus.MATCH_FUZZY text='la presente Ley' char_span=(49, 64)\n"
          ]
        },
        {
          "name": "stdout",
          "output_type": "stream",
          "text": [
            "Error extracting mentions for row 12406E12_ARTCULO257: local variable 'art_match' referenced before assignment\n",
            "Error extracting mentions for row 12406E12_ARTCULO258: local variable 'art_match' referenced before assignment\n",
            "    Found 0 mentions\n",
            "\n",
            "Processing batch 87/111 (articles 259-261)\n",
            "  → Extracting government entities...\n"
          ]
        },
        {
          "name": "stderr",
          "output_type": "stream",
          "text": [
            "WARNING:absl:Prompt alignment: non-exact match: [example#0] class='mention' status=AlignmentStatus.MATCH_FUZZY text='la presente Ley' char_span=(0, 15)\n",
            "WARNING:absl:Prompt alignment: non-exact match: [example#6] class='mention' status=AlignmentStatus.MATCH_FUZZY text='la presente Ley' char_span=(49, 64)\n"
          ]
        },
        {
          "name": "stdout",
          "output_type": "stream",
          "text": [
            "    Found 2 entities\n",
            "  → Extracting article mentions...\n"
          ]
        },
        {
          "name": "stderr",
          "output_type": "stream",
          "text": [
            "WARNING:absl:Prompt alignment: non-exact match: [example#0] class='mention' status=AlignmentStatus.MATCH_FUZZY text='la presente Ley' char_span=(0, 15)\n",
            "WARNING:absl:Prompt alignment: non-exact match: [example#6] class='mention' status=AlignmentStatus.MATCH_FUZZY text='la presente Ley' char_span=(49, 64)\n",
            "WARNING:absl:Prompt alignment: non-exact match: [example#0] class='mention' status=AlignmentStatus.MATCH_FUZZY text='la presente Ley' char_span=(0, 15)\n",
            "WARNING:absl:Prompt alignment: non-exact match: [example#6] class='mention' status=AlignmentStatus.MATCH_FUZZY text='la presente Ley' char_span=(49, 64)\n"
          ]
        },
        {
          "name": "stdout",
          "output_type": "stream",
          "text": [
            "    Found 7 mentions\n",
            "\n",
            "Processing batch 88/111 (articles 262-264)\n",
            "  → Extracting government entities...\n"
          ]
        },
        {
          "name": "stderr",
          "output_type": "stream",
          "text": [
            "WARNING:absl:Prompt alignment: non-exact match: [example#0] class='mention' status=AlignmentStatus.MATCH_FUZZY text='la presente Ley' char_span=(0, 15)\n",
            "WARNING:absl:Prompt alignment: non-exact match: [example#6] class='mention' status=AlignmentStatus.MATCH_FUZZY text='la presente Ley' char_span=(49, 64)\n"
          ]
        },
        {
          "name": "stdout",
          "output_type": "stream",
          "text": [
            "    Found 8 entities\n",
            "  → Extracting article mentions...\n"
          ]
        },
        {
          "name": "stderr",
          "output_type": "stream",
          "text": [
            "WARNING:absl:Prompt alignment: non-exact match: [example#0] class='mention' status=AlignmentStatus.MATCH_FUZZY text='la presente Ley' char_span=(0, 15)\n",
            "WARNING:absl:Prompt alignment: non-exact match: [example#6] class='mention' status=AlignmentStatus.MATCH_FUZZY text='la presente Ley' char_span=(49, 64)\n",
            "WARNING:absl:Prompt alignment: non-exact match: [example#0] class='mention' status=AlignmentStatus.MATCH_FUZZY text='la presente Ley' char_span=(0, 15)\n",
            "WARNING:absl:Prompt alignment: non-exact match: [example#6] class='mention' status=AlignmentStatus.MATCH_FUZZY text='la presente Ley' char_span=(49, 64)\n"
          ]
        },
        {
          "name": "stdout",
          "output_type": "stream",
          "text": [
            "    Found 11 mentions\n",
            "\n",
            "Processing batch 89/111 (articles 265-267)\n",
            "  → Extracting government entities...\n"
          ]
        },
        {
          "name": "stderr",
          "output_type": "stream",
          "text": [
            "WARNING:absl:Prompt alignment: non-exact match: [example#0] class='mention' status=AlignmentStatus.MATCH_FUZZY text='la presente Ley' char_span=(0, 15)\n",
            "WARNING:absl:Prompt alignment: non-exact match: [example#6] class='mention' status=AlignmentStatus.MATCH_FUZZY text='la presente Ley' char_span=(49, 64)\n"
          ]
        },
        {
          "name": "stdout",
          "output_type": "stream",
          "text": [
            "    Found 3 entities\n",
            "  → Extracting article mentions...\n"
          ]
        },
        {
          "name": "stderr",
          "output_type": "stream",
          "text": [
            "WARNING:absl:Prompt alignment: non-exact match: [example#0] class='mention' status=AlignmentStatus.MATCH_FUZZY text='la presente Ley' char_span=(0, 15)\n",
            "WARNING:absl:Prompt alignment: non-exact match: [example#6] class='mention' status=AlignmentStatus.MATCH_FUZZY text='la presente Ley' char_span=(49, 64)\n",
            "WARNING:absl:Prompt alignment: non-exact match: [example#0] class='mention' status=AlignmentStatus.MATCH_FUZZY text='la presente Ley' char_span=(0, 15)\n",
            "WARNING:absl:Prompt alignment: non-exact match: [example#6] class='mention' status=AlignmentStatus.MATCH_FUZZY text='la presente Ley' char_span=(49, 64)\n"
          ]
        },
        {
          "name": "stdout",
          "output_type": "stream",
          "text": [
            "    Found 6 mentions\n",
            "\n",
            "Processing batch 90/111 (articles 268-270)\n",
            "  → Extracting government entities...\n"
          ]
        },
        {
          "name": "stderr",
          "output_type": "stream",
          "text": [
            "WARNING:absl:Prompt alignment: non-exact match: [example#0] class='mention' status=AlignmentStatus.MATCH_FUZZY text='la presente Ley' char_span=(0, 15)\n",
            "WARNING:absl:Prompt alignment: non-exact match: [example#6] class='mention' status=AlignmentStatus.MATCH_FUZZY text='la presente Ley' char_span=(49, 64)\n"
          ]
        },
        {
          "name": "stdout",
          "output_type": "stream",
          "text": [
            "    Found 4 entities\n",
            "  → Extracting article mentions...\n"
          ]
        },
        {
          "name": "stderr",
          "output_type": "stream",
          "text": [
            "WARNING:absl:Prompt alignment: non-exact match: [example#0] class='mention' status=AlignmentStatus.MATCH_FUZZY text='la presente Ley' char_span=(0, 15)\n",
            "WARNING:absl:Prompt alignment: non-exact match: [example#6] class='mention' status=AlignmentStatus.MATCH_FUZZY text='la presente Ley' char_span=(49, 64)\n",
            "WARNING:absl:Prompt alignment: non-exact match: [example#0] class='mention' status=AlignmentStatus.MATCH_FUZZY text='la presente Ley' char_span=(0, 15)\n",
            "WARNING:absl:Prompt alignment: non-exact match: [example#6] class='mention' status=AlignmentStatus.MATCH_FUZZY text='la presente Ley' char_span=(49, 64)\n"
          ]
        },
        {
          "name": "stdout",
          "output_type": "stream",
          "text": [
            "Error extracting mentions for row 12406E12_ARTCULO269: local variable 'art_match' referenced before assignment\n",
            "    Found 2 mentions\n",
            "\n",
            "Processing batch 91/111 (articles 271-273)\n",
            "  → Extracting government entities...\n"
          ]
        },
        {
          "name": "stderr",
          "output_type": "stream",
          "text": [
            "WARNING:absl:Prompt alignment: non-exact match: [example#0] class='mention' status=AlignmentStatus.MATCH_FUZZY text='la presente Ley' char_span=(0, 15)\n",
            "WARNING:absl:Prompt alignment: non-exact match: [example#6] class='mention' status=AlignmentStatus.MATCH_FUZZY text='la presente Ley' char_span=(49, 64)\n"
          ]
        },
        {
          "name": "stdout",
          "output_type": "stream",
          "text": [
            "    Found 6 entities\n",
            "  → Extracting article mentions...\n"
          ]
        },
        {
          "name": "stderr",
          "output_type": "stream",
          "text": [
            "WARNING:absl:Prompt alignment: non-exact match: [example#0] class='mention' status=AlignmentStatus.MATCH_FUZZY text='la presente Ley' char_span=(0, 15)\n",
            "WARNING:absl:Prompt alignment: non-exact match: [example#6] class='mention' status=AlignmentStatus.MATCH_FUZZY text='la presente Ley' char_span=(49, 64)\n",
            "WARNING:absl:Prompt alignment: non-exact match: [example#0] class='mention' status=AlignmentStatus.MATCH_FUZZY text='la presente Ley' char_span=(0, 15)\n",
            "WARNING:absl:Prompt alignment: non-exact match: [example#6] class='mention' status=AlignmentStatus.MATCH_FUZZY text='la presente Ley' char_span=(49, 64)\n"
          ]
        },
        {
          "name": "stdout",
          "output_type": "stream",
          "text": [
            "    Found 5 mentions\n",
            "\n",
            "Processing batch 92/111 (articles 274-276)\n",
            "  → Extracting government entities...\n"
          ]
        },
        {
          "name": "stderr",
          "output_type": "stream",
          "text": [
            "WARNING:absl:Prompt alignment: non-exact match: [example#0] class='mention' status=AlignmentStatus.MATCH_FUZZY text='la presente Ley' char_span=(0, 15)\n",
            "WARNING:absl:Prompt alignment: non-exact match: [example#6] class='mention' status=AlignmentStatus.MATCH_FUZZY text='la presente Ley' char_span=(49, 64)\n"
          ]
        },
        {
          "name": "stdout",
          "output_type": "stream",
          "text": [
            "    Found 4 entities\n",
            "  → Extracting article mentions...\n"
          ]
        },
        {
          "name": "stderr",
          "output_type": "stream",
          "text": [
            "WARNING:absl:Prompt alignment: non-exact match: [example#0] class='mention' status=AlignmentStatus.MATCH_FUZZY text='la presente Ley' char_span=(0, 15)\n",
            "WARNING:absl:Prompt alignment: non-exact match: [example#6] class='mention' status=AlignmentStatus.MATCH_FUZZY text='la presente Ley' char_span=(49, 64)\n"
          ]
        },
        {
          "name": "stdout",
          "output_type": "stream",
          "text": [
            "Error extracting mentions for row 12406E12_ARTCULO274: local variable 'art_match' referenced before assignment\n"
          ]
        },
        {
          "name": "stderr",
          "output_type": "stream",
          "text": [
            "WARNING:absl:Prompt alignment: non-exact match: [example#0] class='mention' status=AlignmentStatus.MATCH_FUZZY text='la presente Ley' char_span=(0, 15)\n",
            "WARNING:absl:Prompt alignment: non-exact match: [example#6] class='mention' status=AlignmentStatus.MATCH_FUZZY text='la presente Ley' char_span=(49, 64)\n"
          ]
        },
        {
          "name": "stdout",
          "output_type": "stream",
          "text": [
            "Error extracting mentions for row 12406E12_ARTCULO275: local variable 'art_match' referenced before assignment\n",
            "Error extracting mentions for row 12406E12_ARTCULO276: local variable 'art_match' referenced before assignment\n",
            "    Found 0 mentions\n",
            "\n",
            "Processing batch 93/111 (articles 277-279)\n",
            "  → Extracting government entities...\n"
          ]
        },
        {
          "name": "stderr",
          "output_type": "stream",
          "text": [
            "WARNING:absl:Prompt alignment: non-exact match: [example#0] class='mention' status=AlignmentStatus.MATCH_FUZZY text='la presente Ley' char_span=(0, 15)\n",
            "WARNING:absl:Prompt alignment: non-exact match: [example#6] class='mention' status=AlignmentStatus.MATCH_FUZZY text='la presente Ley' char_span=(49, 64)\n"
          ]
        },
        {
          "name": "stdout",
          "output_type": "stream",
          "text": [
            "    Found 3 entities\n",
            "  → Extracting article mentions...\n"
          ]
        },
        {
          "name": "stderr",
          "output_type": "stream",
          "text": [
            "WARNING:absl:Prompt alignment: non-exact match: [example#0] class='mention' status=AlignmentStatus.MATCH_FUZZY text='la presente Ley' char_span=(0, 15)\n",
            "WARNING:absl:Prompt alignment: non-exact match: [example#6] class='mention' status=AlignmentStatus.MATCH_FUZZY text='la presente Ley' char_span=(49, 64)\n"
          ]
        },
        {
          "name": "stdout",
          "output_type": "stream",
          "text": [
            "Error extracting mentions for row 12406E12_ARTCULO277: local variable 'art_match' referenced before assignment\n"
          ]
        },
        {
          "name": "stderr",
          "output_type": "stream",
          "text": [
            "WARNING:absl:Prompt alignment: non-exact match: [example#0] class='mention' status=AlignmentStatus.MATCH_FUZZY text='la presente Ley' char_span=(0, 15)\n",
            "WARNING:absl:Prompt alignment: non-exact match: [example#6] class='mention' status=AlignmentStatus.MATCH_FUZZY text='la presente Ley' char_span=(49, 64)\n"
          ]
        },
        {
          "name": "stdout",
          "output_type": "stream",
          "text": [
            "Error extracting mentions for row 12406E12_ARTCULO279: local variable 'art_match' referenced before assignment\n",
            "    Found 0 mentions\n",
            "\n",
            "Processing batch 94/111 (articles 280-282)\n",
            "  → Extracting government entities...\n"
          ]
        },
        {
          "name": "stderr",
          "output_type": "stream",
          "text": [
            "WARNING:absl:Prompt alignment: non-exact match: [example#0] class='mention' status=AlignmentStatus.MATCH_FUZZY text='la presente Ley' char_span=(0, 15)\n",
            "WARNING:absl:Prompt alignment: non-exact match: [example#6] class='mention' status=AlignmentStatus.MATCH_FUZZY text='la presente Ley' char_span=(49, 64)\n"
          ]
        },
        {
          "name": "stdout",
          "output_type": "stream",
          "text": [
            "    Found 3 entities\n",
            "  → Extracting article mentions...\n"
          ]
        },
        {
          "name": "stderr",
          "output_type": "stream",
          "text": [
            "WARNING:absl:Prompt alignment: non-exact match: [example#0] class='mention' status=AlignmentStatus.MATCH_FUZZY text='la presente Ley' char_span=(0, 15)\n",
            "WARNING:absl:Prompt alignment: non-exact match: [example#6] class='mention' status=AlignmentStatus.MATCH_FUZZY text='la presente Ley' char_span=(49, 64)\n"
          ]
        },
        {
          "name": "stdout",
          "output_type": "stream",
          "text": [
            "Error extracting mentions for row 12406E12_ARTCULO280: local variable 'art_match' referenced before assignment\n"
          ]
        },
        {
          "name": "stderr",
          "output_type": "stream",
          "text": [
            "WARNING:absl:Prompt alignment: non-exact match: [example#0] class='mention' status=AlignmentStatus.MATCH_FUZZY text='la presente Ley' char_span=(0, 15)\n",
            "WARNING:absl:Prompt alignment: non-exact match: [example#6] class='mention' status=AlignmentStatus.MATCH_FUZZY text='la presente Ley' char_span=(49, 64)\n"
          ]
        },
        {
          "name": "stdout",
          "output_type": "stream",
          "text": [
            "Error extracting mentions for row 12406E12_ARTCULO282: local variable 'art_match' referenced before assignment\n",
            "    Found 0 mentions\n",
            "\n",
            "Processing batch 95/111 (articles 283-285)\n",
            "  → Extracting government entities...\n"
          ]
        },
        {
          "name": "stderr",
          "output_type": "stream",
          "text": [
            "WARNING:absl:Prompt alignment: non-exact match: [example#0] class='mention' status=AlignmentStatus.MATCH_FUZZY text='la presente Ley' char_span=(0, 15)\n",
            "WARNING:absl:Prompt alignment: non-exact match: [example#6] class='mention' status=AlignmentStatus.MATCH_FUZZY text='la presente Ley' char_span=(49, 64)\n"
          ]
        },
        {
          "name": "stdout",
          "output_type": "stream",
          "text": [
            "    Found 1 entities\n",
            "  → Extracting article mentions...\n"
          ]
        },
        {
          "name": "stderr",
          "output_type": "stream",
          "text": [
            "WARNING:absl:Prompt alignment: non-exact match: [example#0] class='mention' status=AlignmentStatus.MATCH_FUZZY text='la presente Ley' char_span=(0, 15)\n",
            "WARNING:absl:Prompt alignment: non-exact match: [example#6] class='mention' status=AlignmentStatus.MATCH_FUZZY text='la presente Ley' char_span=(49, 64)\n"
          ]
        },
        {
          "name": "stdout",
          "output_type": "stream",
          "text": [
            "Error extracting mentions for row 12406E12_ARTCULO283: local variable 'art_match' referenced before assignment\n"
          ]
        },
        {
          "name": "stderr",
          "output_type": "stream",
          "text": [
            "WARNING:absl:Prompt alignment: non-exact match: [example#0] class='mention' status=AlignmentStatus.MATCH_FUZZY text='la presente Ley' char_span=(0, 15)\n",
            "WARNING:absl:Prompt alignment: non-exact match: [example#6] class='mention' status=AlignmentStatus.MATCH_FUZZY text='la presente Ley' char_span=(49, 64)\n"
          ]
        },
        {
          "name": "stdout",
          "output_type": "stream",
          "text": [
            "    Found 2 mentions\n",
            "\n",
            "Processing batch 96/111 (articles 286-288)\n",
            "  → Extracting government entities...\n"
          ]
        },
        {
          "name": "stderr",
          "output_type": "stream",
          "text": [
            "WARNING:absl:Prompt alignment: non-exact match: [example#0] class='mention' status=AlignmentStatus.MATCH_FUZZY text='la presente Ley' char_span=(0, 15)\n",
            "WARNING:absl:Prompt alignment: non-exact match: [example#6] class='mention' status=AlignmentStatus.MATCH_FUZZY text='la presente Ley' char_span=(49, 64)\n"
          ]
        },
        {
          "name": "stdout",
          "output_type": "stream",
          "text": [
            "    Found 0 entities\n",
            "  → Extracting article mentions...\n"
          ]
        },
        {
          "name": "stderr",
          "output_type": "stream",
          "text": [
            "WARNING:absl:Prompt alignment: non-exact match: [example#0] class='mention' status=AlignmentStatus.MATCH_FUZZY text='la presente Ley' char_span=(0, 15)\n",
            "WARNING:absl:Prompt alignment: non-exact match: [example#6] class='mention' status=AlignmentStatus.MATCH_FUZZY text='la presente Ley' char_span=(49, 64)\n",
            "WARNING:absl:Prompt alignment: non-exact match: [example#0] class='mention' status=AlignmentStatus.MATCH_FUZZY text='la presente Ley' char_span=(0, 15)\n",
            "WARNING:absl:Prompt alignment: non-exact match: [example#6] class='mention' status=AlignmentStatus.MATCH_FUZZY text='la presente Ley' char_span=(49, 64)\n"
          ]
        },
        {
          "name": "stdout",
          "output_type": "stream",
          "text": [
            "    Found 4 mentions\n",
            "\n",
            "Processing batch 97/111 (articles 289-291)\n",
            "  → Extracting government entities...\n"
          ]
        },
        {
          "name": "stderr",
          "output_type": "stream",
          "text": [
            "WARNING:absl:Prompt alignment: non-exact match: [example#0] class='mention' status=AlignmentStatus.MATCH_FUZZY text='la presente Ley' char_span=(0, 15)\n",
            "WARNING:absl:Prompt alignment: non-exact match: [example#6] class='mention' status=AlignmentStatus.MATCH_FUZZY text='la presente Ley' char_span=(49, 64)\n"
          ]
        },
        {
          "name": "stdout",
          "output_type": "stream",
          "text": [
            "    Found 1 entities\n",
            "  → Extracting article mentions...\n"
          ]
        },
        {
          "name": "stderr",
          "output_type": "stream",
          "text": [
            "WARNING:absl:Prompt alignment: non-exact match: [example#0] class='mention' status=AlignmentStatus.MATCH_FUZZY text='la presente Ley' char_span=(0, 15)\n",
            "WARNING:absl:Prompt alignment: non-exact match: [example#6] class='mention' status=AlignmentStatus.MATCH_FUZZY text='la presente Ley' char_span=(49, 64)\n"
          ]
        },
        {
          "name": "stdout",
          "output_type": "stream",
          "text": [
            "Error extracting mentions for row 12406E12_ARTCULO289: local variable 'art_match' referenced before assignment\n"
          ]
        },
        {
          "name": "stderr",
          "output_type": "stream",
          "text": [
            "WARNING:absl:Prompt alignment: non-exact match: [example#0] class='mention' status=AlignmentStatus.MATCH_FUZZY text='la presente Ley' char_span=(0, 15)\n",
            "WARNING:absl:Prompt alignment: non-exact match: [example#6] class='mention' status=AlignmentStatus.MATCH_FUZZY text='la presente Ley' char_span=(49, 64)\n"
          ]
        },
        {
          "name": "stdout",
          "output_type": "stream",
          "text": [
            "    Found 0 mentions\n",
            "\n",
            "Processing batch 98/111 (articles 292-294)\n",
            "  → Extracting government entities...\n"
          ]
        },
        {
          "name": "stderr",
          "output_type": "stream",
          "text": [
            "WARNING:absl:Prompt alignment: non-exact match: [example#0] class='mention' status=AlignmentStatus.MATCH_FUZZY text='la presente Ley' char_span=(0, 15)\n",
            "WARNING:absl:Prompt alignment: non-exact match: [example#6] class='mention' status=AlignmentStatus.MATCH_FUZZY text='la presente Ley' char_span=(49, 64)\n"
          ]
        },
        {
          "name": "stdout",
          "output_type": "stream",
          "text": [
            "    Found 1 entities\n",
            "  → Extracting article mentions...\n"
          ]
        },
        {
          "name": "stderr",
          "output_type": "stream",
          "text": [
            "WARNING:absl:Prompt alignment: non-exact match: [example#0] class='mention' status=AlignmentStatus.MATCH_FUZZY text='la presente Ley' char_span=(0, 15)\n",
            "WARNING:absl:Prompt alignment: non-exact match: [example#6] class='mention' status=AlignmentStatus.MATCH_FUZZY text='la presente Ley' char_span=(49, 64)\n",
            "WARNING:absl:Prompt alignment: non-exact match: [example#0] class='mention' status=AlignmentStatus.MATCH_FUZZY text='la presente Ley' char_span=(0, 15)\n",
            "WARNING:absl:Prompt alignment: non-exact match: [example#6] class='mention' status=AlignmentStatus.MATCH_FUZZY text='la presente Ley' char_span=(49, 64)\n"
          ]
        },
        {
          "name": "stdout",
          "output_type": "stream",
          "text": [
            "    Found 2 mentions\n",
            "\n",
            "Processing batch 99/111 (articles 295-297)\n",
            "  → Extracting government entities...\n"
          ]
        },
        {
          "name": "stderr",
          "output_type": "stream",
          "text": [
            "WARNING:absl:Prompt alignment: non-exact match: [example#0] class='mention' status=AlignmentStatus.MATCH_FUZZY text='la presente Ley' char_span=(0, 15)\n",
            "WARNING:absl:Prompt alignment: non-exact match: [example#6] class='mention' status=AlignmentStatus.MATCH_FUZZY text='la presente Ley' char_span=(49, 64)\n"
          ]
        },
        {
          "name": "stdout",
          "output_type": "stream",
          "text": [
            "    Found 3 entities\n",
            "  → Extracting article mentions...\n"
          ]
        },
        {
          "name": "stderr",
          "output_type": "stream",
          "text": [
            "WARNING:absl:Prompt alignment: non-exact match: [example#0] class='mention' status=AlignmentStatus.MATCH_FUZZY text='la presente Ley' char_span=(0, 15)\n",
            "WARNING:absl:Prompt alignment: non-exact match: [example#6] class='mention' status=AlignmentStatus.MATCH_FUZZY text='la presente Ley' char_span=(49, 64)\n",
            "WARNING:absl:Prompt alignment: non-exact match: [example#0] class='mention' status=AlignmentStatus.MATCH_FUZZY text='la presente Ley' char_span=(0, 15)\n",
            "WARNING:absl:Prompt alignment: non-exact match: [example#6] class='mention' status=AlignmentStatus.MATCH_FUZZY text='la presente Ley' char_span=(49, 64)\n"
          ]
        },
        {
          "name": "stdout",
          "output_type": "stream",
          "text": [
            "    Found 12 mentions\n",
            "\n",
            "Processing batch 100/111 (articles 298-300)\n",
            "  → Extracting government entities...\n"
          ]
        },
        {
          "name": "stderr",
          "output_type": "stream",
          "text": [
            "WARNING:absl:Prompt alignment: non-exact match: [example#0] class='mention' status=AlignmentStatus.MATCH_FUZZY text='la presente Ley' char_span=(0, 15)\n",
            "WARNING:absl:Prompt alignment: non-exact match: [example#6] class='mention' status=AlignmentStatus.MATCH_FUZZY text='la presente Ley' char_span=(49, 64)\n"
          ]
        },
        {
          "name": "stdout",
          "output_type": "stream",
          "text": [
            "    Found 1 entities\n",
            "  → Extracting article mentions...\n"
          ]
        },
        {
          "name": "stderr",
          "output_type": "stream",
          "text": [
            "WARNING:absl:Prompt alignment: non-exact match: [example#0] class='mention' status=AlignmentStatus.MATCH_FUZZY text='la presente Ley' char_span=(0, 15)\n",
            "WARNING:absl:Prompt alignment: non-exact match: [example#6] class='mention' status=AlignmentStatus.MATCH_FUZZY text='la presente Ley' char_span=(49, 64)\n",
            "WARNING:absl:Prompt alignment: non-exact match: [example#0] class='mention' status=AlignmentStatus.MATCH_FUZZY text='la presente Ley' char_span=(0, 15)\n",
            "WARNING:absl:Prompt alignment: non-exact match: [example#6] class='mention' status=AlignmentStatus.MATCH_FUZZY text='la presente Ley' char_span=(49, 64)\n"
          ]
        },
        {
          "name": "stdout",
          "output_type": "stream",
          "text": [
            "Error extracting mentions for row 12406E12_ARTCULO299: local variable 'art_match' referenced before assignment\n",
            "Error extracting mentions for row 12406E12_ARTCULO300: local variable 'art_match' referenced before assignment\n",
            "    Found 0 mentions\n",
            "\n",
            "Processing batch 101/111 (articles 301-303)\n",
            "  → Extracting government entities...\n"
          ]
        },
        {
          "name": "stderr",
          "output_type": "stream",
          "text": [
            "WARNING:absl:Prompt alignment: non-exact match: [example#0] class='mention' status=AlignmentStatus.MATCH_FUZZY text='la presente Ley' char_span=(0, 15)\n",
            "WARNING:absl:Prompt alignment: non-exact match: [example#6] class='mention' status=AlignmentStatus.MATCH_FUZZY text='la presente Ley' char_span=(49, 64)\n"
          ]
        },
        {
          "name": "stdout",
          "output_type": "stream",
          "text": [
            "    Found 2 entities\n",
            "  → Extracting article mentions...\n"
          ]
        },
        {
          "name": "stderr",
          "output_type": "stream",
          "text": [
            "WARNING:absl:Prompt alignment: non-exact match: [example#0] class='mention' status=AlignmentStatus.MATCH_FUZZY text='la presente Ley' char_span=(0, 15)\n",
            "WARNING:absl:Prompt alignment: non-exact match: [example#6] class='mention' status=AlignmentStatus.MATCH_FUZZY text='la presente Ley' char_span=(49, 64)\n"
          ]
        },
        {
          "name": "stdout",
          "output_type": "stream",
          "text": [
            "Error extracting mentions for row 12406E12_ARTCULO301: local variable 'art_match' referenced before assignment\n"
          ]
        },
        {
          "name": "stderr",
          "output_type": "stream",
          "text": [
            "WARNING:absl:Prompt alignment: non-exact match: [example#0] class='mention' status=AlignmentStatus.MATCH_FUZZY text='la presente Ley' char_span=(0, 15)\n",
            "WARNING:absl:Prompt alignment: non-exact match: [example#6] class='mention' status=AlignmentStatus.MATCH_FUZZY text='la presente Ley' char_span=(49, 64)\n"
          ]
        },
        {
          "name": "stdout",
          "output_type": "stream",
          "text": [
            "Error extracting mentions for row 12406E12_ARTCULO302: local variable 'art_match' referenced before assignment\n",
            "Error extracting mentions for row 12406E12_ARTCULO303: local variable 'art_match' referenced before assignment\n",
            "    Found 0 mentions\n",
            "\n",
            "Processing batch 102/111 (articles 304-306)\n",
            "  → Extracting government entities...\n"
          ]
        },
        {
          "name": "stderr",
          "output_type": "stream",
          "text": [
            "WARNING:absl:Prompt alignment: non-exact match: [example#0] class='mention' status=AlignmentStatus.MATCH_FUZZY text='la presente Ley' char_span=(0, 15)\n",
            "WARNING:absl:Prompt alignment: non-exact match: [example#6] class='mention' status=AlignmentStatus.MATCH_FUZZY text='la presente Ley' char_span=(49, 64)\n"
          ]
        },
        {
          "name": "stdout",
          "output_type": "stream",
          "text": [
            "    Found 1 entities\n",
            "  → Extracting article mentions...\n"
          ]
        },
        {
          "name": "stderr",
          "output_type": "stream",
          "text": [
            "WARNING:absl:Prompt alignment: non-exact match: [example#0] class='mention' status=AlignmentStatus.MATCH_FUZZY text='la presente Ley' char_span=(0, 15)\n",
            "WARNING:absl:Prompt alignment: non-exact match: [example#6] class='mention' status=AlignmentStatus.MATCH_FUZZY text='la presente Ley' char_span=(49, 64)\n"
          ]
        },
        {
          "name": "stdout",
          "output_type": "stream",
          "text": [
            "Error extracting mentions for row 12406E12_ARTCULO304: local variable 'art_match' referenced before assignment\n"
          ]
        },
        {
          "name": "stderr",
          "output_type": "stream",
          "text": [
            "WARNING:absl:Prompt alignment: non-exact match: [example#0] class='mention' status=AlignmentStatus.MATCH_FUZZY text='la presente Ley' char_span=(0, 15)\n",
            "WARNING:absl:Prompt alignment: non-exact match: [example#6] class='mention' status=AlignmentStatus.MATCH_FUZZY text='la presente Ley' char_span=(49, 64)\n"
          ]
        },
        {
          "name": "stdout",
          "output_type": "stream",
          "text": [
            "    Found 6 mentions\n",
            "\n",
            "Processing batch 103/111 (articles 307-309)\n",
            "  → Extracting government entities...\n"
          ]
        },
        {
          "name": "stderr",
          "output_type": "stream",
          "text": [
            "WARNING:absl:Prompt alignment: non-exact match: [example#0] class='mention' status=AlignmentStatus.MATCH_FUZZY text='la presente Ley' char_span=(0, 15)\n",
            "WARNING:absl:Prompt alignment: non-exact match: [example#6] class='mention' status=AlignmentStatus.MATCH_FUZZY text='la presente Ley' char_span=(49, 64)\n"
          ]
        },
        {
          "name": "stdout",
          "output_type": "stream",
          "text": [
            "    Found 0 entities\n",
            "  → Extracting article mentions...\n"
          ]
        },
        {
          "name": "stderr",
          "output_type": "stream",
          "text": [
            "WARNING:absl:Prompt alignment: non-exact match: [example#0] class='mention' status=AlignmentStatus.MATCH_FUZZY text='la presente Ley' char_span=(0, 15)\n",
            "WARNING:absl:Prompt alignment: non-exact match: [example#6] class='mention' status=AlignmentStatus.MATCH_FUZZY text='la presente Ley' char_span=(49, 64)\n",
            "WARNING:absl:Prompt alignment: non-exact match: [example#0] class='mention' status=AlignmentStatus.MATCH_FUZZY text='la presente Ley' char_span=(0, 15)\n",
            "WARNING:absl:Prompt alignment: non-exact match: [example#6] class='mention' status=AlignmentStatus.MATCH_FUZZY text='la presente Ley' char_span=(49, 64)\n"
          ]
        },
        {
          "name": "stdout",
          "output_type": "stream",
          "text": [
            "    Found 0 mentions\n",
            "\n",
            "Processing batch 104/111 (articles 310-312)\n",
            "  → Extracting government entities...\n"
          ]
        },
        {
          "name": "stderr",
          "output_type": "stream",
          "text": [
            "WARNING:absl:Prompt alignment: non-exact match: [example#0] class='mention' status=AlignmentStatus.MATCH_FUZZY text='la presente Ley' char_span=(0, 15)\n",
            "WARNING:absl:Prompt alignment: non-exact match: [example#6] class='mention' status=AlignmentStatus.MATCH_FUZZY text='la presente Ley' char_span=(49, 64)\n"
          ]
        },
        {
          "name": "stdout",
          "output_type": "stream",
          "text": [
            "    Found 4 entities\n",
            "  → Extracting article mentions...\n"
          ]
        },
        {
          "name": "stderr",
          "output_type": "stream",
          "text": [
            "WARNING:absl:Prompt alignment: non-exact match: [example#0] class='mention' status=AlignmentStatus.MATCH_FUZZY text='la presente Ley' char_span=(0, 15)\n",
            "WARNING:absl:Prompt alignment: non-exact match: [example#6] class='mention' status=AlignmentStatus.MATCH_FUZZY text='la presente Ley' char_span=(49, 64)\n",
            "WARNING:absl:Prompt alignment: non-exact match: [example#0] class='mention' status=AlignmentStatus.MATCH_FUZZY text='la presente Ley' char_span=(0, 15)\n",
            "WARNING:absl:Prompt alignment: non-exact match: [example#6] class='mention' status=AlignmentStatus.MATCH_FUZZY text='la presente Ley' char_span=(49, 64)\n"
          ]
        },
        {
          "name": "stdout",
          "output_type": "stream",
          "text": [
            "Error extracting mentions for row 12406E12_ARTCULO311: local variable 'art_match' referenced before assignment\n",
            "Error extracting mentions for row 12406E12_ARTCULO312: local variable 'art_match' referenced before assignment\n",
            "    Found 0 mentions\n",
            "\n",
            "Processing batch 105/111 (articles 313-315)\n",
            "  → Extracting government entities...\n"
          ]
        },
        {
          "name": "stderr",
          "output_type": "stream",
          "text": [
            "WARNING:absl:Prompt alignment: non-exact match: [example#0] class='mention' status=AlignmentStatus.MATCH_FUZZY text='la presente Ley' char_span=(0, 15)\n",
            "WARNING:absl:Prompt alignment: non-exact match: [example#6] class='mention' status=AlignmentStatus.MATCH_FUZZY text='la presente Ley' char_span=(49, 64)\n"
          ]
        },
        {
          "name": "stdout",
          "output_type": "stream",
          "text": [
            "    Found 1 entities\n",
            "  → Extracting article mentions...\n"
          ]
        },
        {
          "name": "stderr",
          "output_type": "stream",
          "text": [
            "WARNING:absl:Prompt alignment: non-exact match: [example#0] class='mention' status=AlignmentStatus.MATCH_FUZZY text='la presente Ley' char_span=(0, 15)\n",
            "WARNING:absl:Prompt alignment: non-exact match: [example#6] class='mention' status=AlignmentStatus.MATCH_FUZZY text='la presente Ley' char_span=(49, 64)\n"
          ]
        },
        {
          "name": "stdout",
          "output_type": "stream",
          "text": [
            "Error extracting mentions for row 12406E12_ARTCULO313: local variable 'art_match' referenced before assignment\n"
          ]
        },
        {
          "name": "stderr",
          "output_type": "stream",
          "text": [
            "WARNING:absl:Prompt alignment: non-exact match: [example#0] class='mention' status=AlignmentStatus.MATCH_FUZZY text='la presente Ley' char_span=(0, 15)\n",
            "WARNING:absl:Prompt alignment: non-exact match: [example#6] class='mention' status=AlignmentStatus.MATCH_FUZZY text='la presente Ley' char_span=(49, 64)\n"
          ]
        },
        {
          "name": "stdout",
          "output_type": "stream",
          "text": [
            "Error extracting mentions for row 12406E12_ARTCULO314: local variable 'art_match' referenced before assignment\n",
            "Error extracting mentions for row 12406E12_ARTCULO315: local variable 'art_match' referenced before assignment\n",
            "    Found 0 mentions\n",
            "\n",
            "Processing batch 106/111 (articles 316-318)\n",
            "  → Extracting government entities...\n"
          ]
        },
        {
          "name": "stderr",
          "output_type": "stream",
          "text": [
            "WARNING:absl:Prompt alignment: non-exact match: [example#0] class='mention' status=AlignmentStatus.MATCH_FUZZY text='la presente Ley' char_span=(0, 15)\n",
            "WARNING:absl:Prompt alignment: non-exact match: [example#6] class='mention' status=AlignmentStatus.MATCH_FUZZY text='la presente Ley' char_span=(49, 64)\n"
          ]
        },
        {
          "name": "stdout",
          "output_type": "stream",
          "text": [
            "    Found 2 entities\n",
            "  → Extracting article mentions...\n"
          ]
        },
        {
          "name": "stderr",
          "output_type": "stream",
          "text": [
            "WARNING:absl:Prompt alignment: non-exact match: [example#0] class='mention' status=AlignmentStatus.MATCH_FUZZY text='la presente Ley' char_span=(0, 15)\n",
            "WARNING:absl:Prompt alignment: non-exact match: [example#6] class='mention' status=AlignmentStatus.MATCH_FUZZY text='la presente Ley' char_span=(49, 64)\n",
            "WARNING:absl:Prompt alignment: non-exact match: [example#0] class='mention' status=AlignmentStatus.MATCH_FUZZY text='la presente Ley' char_span=(0, 15)\n",
            "WARNING:absl:Prompt alignment: non-exact match: [example#6] class='mention' status=AlignmentStatus.MATCH_FUZZY text='la presente Ley' char_span=(49, 64)\n"
          ]
        },
        {
          "name": "stdout",
          "output_type": "stream",
          "text": [
            "    Found 10 mentions\n",
            "\n",
            "Processing batch 107/111 (articles 319-321)\n",
            "  → Extracting government entities...\n"
          ]
        },
        {
          "name": "stderr",
          "output_type": "stream",
          "text": [
            "WARNING:absl:Prompt alignment: non-exact match: [example#0] class='mention' status=AlignmentStatus.MATCH_FUZZY text='la presente Ley' char_span=(0, 15)\n",
            "WARNING:absl:Prompt alignment: non-exact match: [example#6] class='mention' status=AlignmentStatus.MATCH_FUZZY text='la presente Ley' char_span=(49, 64)\n"
          ]
        },
        {
          "name": "stdout",
          "output_type": "stream",
          "text": [
            "    Found 2 entities\n",
            "  → Extracting article mentions...\n"
          ]
        },
        {
          "name": "stderr",
          "output_type": "stream",
          "text": [
            "WARNING:absl:Prompt alignment: non-exact match: [example#0] class='mention' status=AlignmentStatus.MATCH_FUZZY text='la presente Ley' char_span=(0, 15)\n",
            "WARNING:absl:Prompt alignment: non-exact match: [example#6] class='mention' status=AlignmentStatus.MATCH_FUZZY text='la presente Ley' char_span=(49, 64)\n",
            "WARNING:absl:Prompt alignment: non-exact match: [example#0] class='mention' status=AlignmentStatus.MATCH_FUZZY text='la presente Ley' char_span=(0, 15)\n",
            "WARNING:absl:Prompt alignment: non-exact match: [example#6] class='mention' status=AlignmentStatus.MATCH_FUZZY text='la presente Ley' char_span=(49, 64)\n"
          ]
        },
        {
          "name": "stdout",
          "output_type": "stream",
          "text": [
            "Error extracting mentions for row 12406E12_ARTCULO321: local variable 'art_match' referenced before assignment\n",
            "    Found 0 mentions\n",
            "\n",
            "Processing batch 108/111 (articles 322-324)\n",
            "  → Extracting government entities...\n"
          ]
        },
        {
          "name": "stderr",
          "output_type": "stream",
          "text": [
            "WARNING:absl:Prompt alignment: non-exact match: [example#0] class='mention' status=AlignmentStatus.MATCH_FUZZY text='la presente Ley' char_span=(0, 15)\n",
            "WARNING:absl:Prompt alignment: non-exact match: [example#6] class='mention' status=AlignmentStatus.MATCH_FUZZY text='la presente Ley' char_span=(49, 64)\n"
          ]
        },
        {
          "name": "stdout",
          "output_type": "stream",
          "text": [
            "    Found 6 entities\n",
            "  → Extracting article mentions...\n"
          ]
        },
        {
          "name": "stderr",
          "output_type": "stream",
          "text": [
            "WARNING:absl:Prompt alignment: non-exact match: [example#0] class='mention' status=AlignmentStatus.MATCH_FUZZY text='la presente Ley' char_span=(0, 15)\n",
            "WARNING:absl:Prompt alignment: non-exact match: [example#6] class='mention' status=AlignmentStatus.MATCH_FUZZY text='la presente Ley' char_span=(49, 64)\n",
            "WARNING:absl:Prompt alignment: non-exact match: [example#0] class='mention' status=AlignmentStatus.MATCH_FUZZY text='la presente Ley' char_span=(0, 15)\n",
            "WARNING:absl:Prompt alignment: non-exact match: [example#6] class='mention' status=AlignmentStatus.MATCH_FUZZY text='la presente Ley' char_span=(49, 64)\n"
          ]
        },
        {
          "name": "stdout",
          "output_type": "stream",
          "text": [
            "    Found 5 mentions\n",
            "\n",
            "Processing batch 109/111 (articles 325-327)\n",
            "  → Extracting government entities...\n"
          ]
        },
        {
          "name": "stderr",
          "output_type": "stream",
          "text": [
            "WARNING:absl:Prompt alignment: non-exact match: [example#0] class='mention' status=AlignmentStatus.MATCH_FUZZY text='la presente Ley' char_span=(0, 15)\n",
            "WARNING:absl:Prompt alignment: non-exact match: [example#6] class='mention' status=AlignmentStatus.MATCH_FUZZY text='la presente Ley' char_span=(49, 64)\n"
          ]
        },
        {
          "name": "stdout",
          "output_type": "stream",
          "text": [
            "    Found 5 entities\n",
            "  → Extracting article mentions...\n"
          ]
        },
        {
          "name": "stderr",
          "output_type": "stream",
          "text": [
            "WARNING:absl:Prompt alignment: non-exact match: [example#0] class='mention' status=AlignmentStatus.MATCH_FUZZY text='la presente Ley' char_span=(0, 15)\n",
            "WARNING:absl:Prompt alignment: non-exact match: [example#6] class='mention' status=AlignmentStatus.MATCH_FUZZY text='la presente Ley' char_span=(49, 64)\n"
          ]
        },
        {
          "name": "stdout",
          "output_type": "stream",
          "text": [
            "Error extracting mentions for row 12406E12_ARTCULO325: local variable 'art_match' referenced before assignment\n"
          ]
        },
        {
          "name": "stderr",
          "output_type": "stream",
          "text": [
            "WARNING:absl:Prompt alignment: non-exact match: [example#0] class='mention' status=AlignmentStatus.MATCH_FUZZY text='la presente Ley' char_span=(0, 15)\n",
            "WARNING:absl:Prompt alignment: non-exact match: [example#6] class='mention' status=AlignmentStatus.MATCH_FUZZY text='la presente Ley' char_span=(49, 64)\n"
          ]
        },
        {
          "name": "stdout",
          "output_type": "stream",
          "text": [
            "    Found 1 mentions\n",
            "\n",
            "Processing batch 110/111 (articles 328-330)\n",
            "  → Extracting government entities...\n"
          ]
        },
        {
          "name": "stderr",
          "output_type": "stream",
          "text": [
            "WARNING:absl:Prompt alignment: non-exact match: [example#0] class='mention' status=AlignmentStatus.MATCH_FUZZY text='la presente Ley' char_span=(0, 15)\n",
            "WARNING:absl:Prompt alignment: non-exact match: [example#6] class='mention' status=AlignmentStatus.MATCH_FUZZY text='la presente Ley' char_span=(49, 64)\n"
          ]
        },
        {
          "name": "stdout",
          "output_type": "stream",
          "text": [
            "    Found 5 entities\n",
            "  → Extracting article mentions...\n"
          ]
        },
        {
          "name": "stderr",
          "output_type": "stream",
          "text": [
            "WARNING:absl:Prompt alignment: non-exact match: [example#0] class='mention' status=AlignmentStatus.MATCH_FUZZY text='la presente Ley' char_span=(0, 15)\n",
            "WARNING:absl:Prompt alignment: non-exact match: [example#6] class='mention' status=AlignmentStatus.MATCH_FUZZY text='la presente Ley' char_span=(49, 64)\n"
          ]
        },
        {
          "name": "stdout",
          "output_type": "stream",
          "text": [
            "Error extracting mentions for row 12406E12_ARTCULO328: local variable 'art_match' referenced before assignment\n"
          ]
        },
        {
          "name": "stderr",
          "output_type": "stream",
          "text": [
            "WARNING:absl:Prompt alignment: non-exact match: [example#0] class='mention' status=AlignmentStatus.MATCH_FUZZY text='la presente Ley' char_span=(0, 15)\n",
            "WARNING:absl:Prompt alignment: non-exact match: [example#6] class='mention' status=AlignmentStatus.MATCH_FUZZY text='la presente Ley' char_span=(49, 64)\n"
          ]
        },
        {
          "name": "stdout",
          "output_type": "stream",
          "text": [
            "Error extracting mentions for row 12406E12_ARTCULO329: local variable 'art_match' referenced before assignment\n",
            "    Found 0 mentions\n",
            "\n",
            "Processing batch 111/111 (articles 331-332)\n",
            "  → Extracting government entities...\n"
          ]
        },
        {
          "name": "stderr",
          "output_type": "stream",
          "text": [
            "WARNING:absl:Prompt alignment: non-exact match: [example#0] class='mention' status=AlignmentStatus.MATCH_FUZZY text='la presente Ley' char_span=(0, 15)\n",
            "WARNING:absl:Prompt alignment: non-exact match: [example#6] class='mention' status=AlignmentStatus.MATCH_FUZZY text='la presente Ley' char_span=(49, 64)\n"
          ]
        },
        {
          "name": "stdout",
          "output_type": "stream",
          "text": [
            "    Found 5 entities\n",
            "  → Extracting article mentions...\n"
          ]
        },
        {
          "name": "stderr",
          "output_type": "stream",
          "text": [
            "WARNING:absl:Prompt alignment: non-exact match: [example#0] class='mention' status=AlignmentStatus.MATCH_FUZZY text='la presente Ley' char_span=(0, 15)\n",
            "WARNING:absl:Prompt alignment: non-exact match: [example#6] class='mention' status=AlignmentStatus.MATCH_FUZZY text='la presente Ley' char_span=(49, 64)\n"
          ]
        },
        {
          "name": "stdout",
          "output_type": "stream",
          "text": [
            "    Found 2 mentions\n",
            "\n",
            "=== EXTRACTION COMPLETE ===\n",
            "Total government entities found: 498\n",
            "Total article mentions found: 529\n"
          ]
        }
      ],
      "source": [
        "# Process documents in batches\n",
        "\n",
        "# Collectors for results\n",
        "all_entities = []\n",
        "all_mentions = []\n",
        "\n",
        "# Batch configuration\n",
        "BATCH_SIZE = 3  # Small batches for better quality with LangExtract\n",
        "total_batches = (len(df) + BATCH_SIZE - 1) // BATCH_SIZE\n",
        "\n",
        "print(f\"Processing {len(df)} articles in {total_batches} batches...\")\n",
        "print(f\"Batch size: {BATCH_SIZE}\")\n",
        "\n",
        "for i, start in enumerate(range(0, len(df), BATCH_SIZE)):\n",
        "    batch = df.iloc[start:start+BATCH_SIZE]\n",
        "    batch_num = i + 1\n",
        "    \n",
        "    print(f\"\\nProcessing batch {batch_num}/{total_batches} (articles {start+1}-{min(start+BATCH_SIZE, len(df))})\")\n",
        "    \n",
        "    # Extract government entities\n",
        "    print(\"  → Extracting government entities...\")\n",
        "    try:\n",
        "        entities = extract_government_entities(batch)\n",
        "        all_entities.extend(entities)\n",
        "        print(f\"    Found {len(entities)} entities\")\n",
        "    except Exception as e:\n",
        "        print(f\"    Error: {e}\")\n",
        "    \n",
        "    # Extract article mentions  \n",
        "    print(\"  → Extracting article mentions...\")\n",
        "    try:\n",
        "        mentions = extract_article_mentions(batch)\n",
        "        all_mentions.extend(mentions)\n",
        "        print(f\"    Found {len(mentions)} mentions\")\n",
        "    except Exception as e:\n",
        "        print(f\"    Error: {e}\")\n",
        "    \n",
        "    # Small delay to avoid rate limits\n",
        "    time.sleep(0.5)\n",
        "\n",
        "print(f\"\\n=== EXTRACTION COMPLETE ===\")\n",
        "print(f\"Total government entities found: {len(all_entities)}\")\n",
        "print(f\"Total article mentions found: {len(all_mentions)}\")\n"
      ]
    },
    {
      "cell_type": "code",
      "execution_count": 6,
      "metadata": {},
      "outputs": [
        {
          "name": "stdout",
          "output_type": "stream",
          "text": [
            "=== SAMPLE GOVERNMENT ENTITIES ===\n",
            "1. 12406E12_ARTCULO4 | Secretaría | N/A\n",
            "2. 12406E12_ARTCULO4 | Secretaría | N/A\n",
            "3. 12406E12_ARTCULO4 | Secretaría | N/A\n",
            "4. 12406E12_ARTCULO4 | Secretaría | N/A\n",
            "5. 12406E12_ARTCULO4 | Secretaría | N/A\n",
            "6. 12406E12_ARTCULO4 | Secretaría | N/A\n",
            "7. 12406E12_ARTCULO4 | Agencia Digital de Innovación Pública | N/A\n",
            "8. 12406E12_ARTCULO4 | Secretaría | N/A\n",
            "9. 12406E12_ARTCULO4 | Procuraduría Ambiental y del Ordenamiento Territorial | N/A\n",
            "10. 12406E12_ARTCULO4 | Secretaría | N/A\n",
            "... and 488 more\n",
            "\n",
            "=== SAMPLE ARTICLE MENTIONS ===\n",
            "1. 12406E12_ARTCULO1 | Art. 13 | CONSTITUCIÓN POLÍTICA DE LA CIUDAD DE MÉXICO\n",
            "   Extract: Apartado A del artículo 13 de la Constitución Política de la Ciudad de México...\n",
            "2. 12406E12_ARTCULO1 | Art. 16 | CONSTITUCIÓN POLÍTICA DE LA CIUDAD DE MÉXICO\n",
            "   Extract: Apartado A del artículo 16 de la Constitución Política de la Ciudad de México...\n",
            "3. 12406E12_ARTCULO1 | Art. 16 | LEY AMBIENTAL DE LA CIUDAD DE MÉXICO\n",
            "   Extract: la presente Ley...\n",
            "4. 12406E12_ARTCULO3 | Art. 16 | LEY AMBIENTAL DE LA CIUDAD DE MÉXICO\n",
            "   Extract: la presente Ley...\n",
            "5. 12406E12_ARTCULO3 | Art. N/A | la Ley de Procedimiento Administrativo de la Ciudad de México\n",
            "   Extract: la Ley de Procedimiento Administrativo de la Ciudad de México...\n",
            "6. 12406E12_ARTCULO3 | Art. N/A | otras leyes\n",
            "   Extract: otras leyes...\n",
            "7. 12406E12_ARTCULO3 | Art. N/A | reglamentos\n",
            "   Extract: reglamentos...\n",
            "8. 12406E12_ARTCULO3 | Art. N/A | normas\n",
            "   Extract: normas...\n",
            "9. 12406E12_ARTCULO3 | Art. N/A | demás ordenamientos jurídicos\n",
            "   Extract: demás ordenamientos jurídicos...\n",
            "10. 12406E12_ARTCULO6 | Art. N/A | la Ley General del Equilibrio Ecológico y la Protección al Ambiente\n",
            "   Extract: la Ley General del Equilibrio Ecológico y la Protección al Ambiente...\n",
            "... and 519 more\n"
          ]
        }
      ],
      "source": [
        "# Display sample results\n",
        "\n",
        "print(\"=== SAMPLE GOVERNMENT ENTITIES ===\")\n",
        "if all_entities:\n",
        "    for i, entity in enumerate(all_entities[:10]):\n",
        "        print(f\"{i+1}. {entity['row_id']} | {entity['mention']} | {entity['entity_type'] or 'N/A'}\")\n",
        "    if len(all_entities) > 10:\n",
        "        print(f\"... and {len(all_entities) - 10} more\")\n",
        "else:\n",
        "    print(\"No entities found\")\n",
        "\n",
        "print(\"\\n=== SAMPLE ARTICLE MENTIONS ===\")\n",
        "if all_mentions:\n",
        "    for i, mention in enumerate(all_mentions[:10]):\n",
        "        art_display = mention['art_num'] if mention['art_num'] else \"N/A\"\n",
        "        print(f\"{i+1}. {mention['row_id']} | Art. {art_display} | {mention['law_name']}\")\n",
        "        print(f\"   Extract: {mention['mention_extraction'][:100]}...\")\n",
        "    if len(all_mentions) > 10:\n",
        "        print(f\"... and {len(all_mentions) - 10} more\")\n",
        "else:\n",
        "    print(\"No mentions found\")\n"
      ]
    },
    {
      "cell_type": "code",
      "execution_count": 7,
      "metadata": {},
      "outputs": [
        {
          "name": "stdout",
          "output_type": "stream",
          "text": [
            "✅ Saved 429 unique government entities to langextract_gov_entities.csv\n",
            "Entity types found: Series([], Name: count, dtype: int64)\n",
            "✅ Saved 501 unique article mentions to langextract_article_mentions.csv\n",
            "Top referenced laws: law_name\n",
            "LEY AMBIENTAL DE LA CIUDAD DE MÉXICO           79\n",
            "la Secretaría                                  22\n",
            "la Ley Ambiental de la Ciudad de México        12\n",
            "normas oficiales mexicanas                     12\n",
            "normas ambientales para la Ciudad de México    10\n",
            "Name: count, dtype: int64\n",
            "Articles with numbers: 27\n",
            "Law-only references: 474\n"
          ]
        }
      ],
      "source": [
        "# Convert to DataFrames and save to CSV\n",
        "\n",
        "# Government entities\n",
        "if all_entities:\n",
        "    # Data is already in dictionary format\n",
        "    entities_df = pd.DataFrame(all_entities)\n",
        "    \n",
        "    # Remove duplicates\n",
        "    entities_df = entities_df.drop_duplicates(subset=['row_id', 'mention'])\n",
        "    \n",
        "    # Save to CSV\n",
        "    entities_df.to_csv(\"/Users/alexa/Projects/cdmx_kg/data/langextract_gov_entities.csv\", \n",
        "                       index=False, encoding='utf-8')\n",
        "    print(f\"✅ Saved {len(entities_df)} unique government entities to langextract_gov_entities.csv\")\n",
        "    \n",
        "    # Display summary\n",
        "    if 'entity_type' in entities_df.columns:\n",
        "        print(f\"Entity types found: {entities_df['entity_type'].value_counts().head()}\")\n",
        "else:\n",
        "    print(\"⚠️  No government entities to save\")\n",
        "\n",
        "# Article mentions\n",
        "if all_mentions:\n",
        "    # Data is already in dictionary format\n",
        "    mentions_df = pd.DataFrame(all_mentions)\n",
        "    \n",
        "    # Remove duplicates\n",
        "    mentions_df = mentions_df.drop_duplicates(subset=['row_id', 'art_num', 'law_name', 'mention_extraction'])\n",
        "    \n",
        "    # Save to CSV\n",
        "    mentions_df.to_csv(\"/Users/alexa/Projects/cdmx_kg/data/langextract_article_mentions.csv\", \n",
        "                       index=False, encoding='utf-8')\n",
        "    print(f\"✅ Saved {len(mentions_df)} unique article mentions to langextract_article_mentions.csv\")\n",
        "    \n",
        "    # Display summary\n",
        "    print(f\"Top referenced laws: {mentions_df['law_name'].value_counts().head()}\")\n",
        "    print(f\"Articles with numbers: {mentions_df[mentions_df['art_num'].notna()].shape[0]}\")\n",
        "    print(f\"Law-only references: {mentions_df[mentions_df['art_num'].isna()].shape[0]}\")\n",
        "else:\n",
        "    print(\"⚠️  No article mentions to save\")\n"
      ]
    },
    {
      "cell_type": "code",
      "execution_count": 8,
      "metadata": {},
      "outputs": [
        {
          "name": "stdout",
          "output_type": "stream",
          "text": [
            "=== EXTRACTION QUALITY ANALYSIS ===\n",
            "\n",
            "📊 GOVERNMENT ENTITIES:\n",
            "   Total entities extracted: 498\n",
            "   Unique entities: 429\n",
            "   Average entities per article: 1.50\n",
            "   Most common entity types:\n",
            "\n",
            "📊 ARTICLE MENTIONS:\n",
            "   Total mentions extracted: 529\n",
            "   Unique mentions: 501\n",
            "   Average mentions per article: 1.59\n",
            "   Mentions with article numbers: 27 (5.4%)\n",
            "   Law-only mentions: 474 (94.6%)\n",
            "\n",
            "✅ Extraction completed successfully using LangExtract!\n",
            "📁 Results saved to:\n",
            "   - langextract_gov_entities.csv\n",
            "   - langextract_article_mentions.csv\n"
          ]
        }
      ],
      "source": [
        "# Quality analysis and comparison\n",
        "\n",
        "print(\"=== EXTRACTION QUALITY ANALYSIS ===\")\n",
        "\n",
        "if all_entities:\n",
        "    print(f\"\\n📊 GOVERNMENT ENTITIES:\")\n",
        "    print(f\"   Total entities extracted: {len(all_entities)}\")\n",
        "    print(f\"   Unique entities: {len(entities_df)}\")\n",
        "    print(f\"   Average entities per article: {len(all_entities) / len(df):.2f}\")\n",
        "    \n",
        "    # Most common entity types\n",
        "    entity_types = entities_df['entity_type'].value_counts()\n",
        "    print(f\"   Most common entity types:\")\n",
        "    for et, count in entity_types.head().items():\n",
        "        print(f\"     - {et}: {count}\")\n",
        "\n",
        "if all_mentions:\n",
        "    print(f\"\\n📊 ARTICLE MENTIONS:\")\n",
        "    print(f\"   Total mentions extracted: {len(all_mentions)}\")\n",
        "    print(f\"   Unique mentions: {len(mentions_df)}\")\n",
        "    print(f\"   Average mentions per article: {len(all_mentions) / len(df):.2f}\")\n",
        "    \n",
        "    # Analysis of mention types\n",
        "    with_article_num = mentions_df[mentions_df['art_num'].notna()]\n",
        "    without_article_num = mentions_df[mentions_df['art_num'].isna()]\n",
        "    print(f\"   Mentions with article numbers: {len(with_article_num)} ({len(with_article_num)/len(mentions_df)*100:.1f}%)\")\n",
        "    print(f\"   Law-only mentions: {len(without_article_num)} ({len(without_article_num)/len(mentions_df)*100:.1f}%)\")\n",
        "\n",
        "print(f\"\\n✅ Extraction completed successfully using LangExtract!\")\n",
        "print(f\"📁 Results saved to:\")\n",
        "print(f\"   - langextract_gov_entities.csv\")\n",
        "print(f\"   - langextract_article_mentions.csv\")\n"
      ]
    }
  ],
  "metadata": {
    "kernelspec": {
      "display_name": "cdmx_kg",
      "language": "python",
      "name": "python3"
    },
    "language_info": {
      "codemirror_mode": {
        "name": "ipython",
        "version": 3
      },
      "file_extension": ".py",
      "mimetype": "text/x-python",
      "name": "python",
      "nbconvert_exporter": "python",
      "pygments_lexer": "ipython3",
      "version": "3.10.18"
    }
  },
  "nbformat": 4,
  "nbformat_minor": 2
}
